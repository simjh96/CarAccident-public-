{
 "cells": [
  {
   "cell_type": "markdown",
   "metadata": {},
   "source": [
    "## data integration"
   ]
  },
  {
   "cell_type": "code",
   "execution_count": 1,
   "metadata": {
    "ExecuteTime": {
     "end_time": "2021-01-17T07:16:28.728670Z",
     "start_time": "2021-01-17T07:16:27.007670Z"
    }
   },
   "outputs": [],
   "source": [
    "import warnings\n",
    "warnings.filterwarnings(action='ignore')\n",
    "from functools import partial\n",
    "from shapely import ops\n",
    "import pyproj\n",
    "import json, math\n",
    "import matplotlib.pyplot as plt\n",
    "from folium import plugins\n",
    "import re\n",
    "\n",
    "from matplotlib import font_manager, rc, rcParams\n",
    "# def set_korea_font():\n",
    "#     font_name = font_manager.FontProperties(fname=\"/System/Library/Fonts/Supplemental/AppleGothic.ttf\").get_name()\n",
    "#     rc('font', family=font_name)\n",
    "#     rcParams.update({'font.size': 11})\n",
    "#     rcParams['axes.unicode_minus'] = False  \n",
    "# set_korea_font()\n",
    "\n",
    "from geopy.distance import great_circle as distance\n",
    "from geopy.point import Point as Point\n",
    "from shapely.geometry import Point as shapely_Point\n",
    "from math import sin, cos, atan2, sqrt, degrees, radians, pi\n",
    "\n",
    "from geopy.distance import geodesic\n",
    "import folium\n",
    "from folium import plugins\n",
    "import geopandas as gpd\n",
    "import numpy as np\n",
    "import pandas as pd\n",
    "import shapely\n",
    "import os\n",
    "import datetime\n",
    "from tqdm import tqdm\n",
    "#reproject import 필요\n",
    "from tqdm._tqdm_notebook import tqdm_notebook\n",
    "tqdm_notebook.pandas()\n",
    "os.chdir('./data')\n",
    "\n",
    "def reproject(geom, from_proj=None, to_proj=None):\n",
    "    tfm = partial(pyproj.transform, pyproj.Proj(init=from_proj), pyproj.Proj(init=to_proj))\n",
    "    return ops.transform(tfm, geom)"
   ]
  },
  {
   "cell_type": "markdown",
   "metadata": {},
   "source": [
    "### 홍익선\n",
    "1. 과속단속 카메라 개수\n",
    "2. 유동인구 평균\n",
    "3. 법규위반\n",
    "4. 과속방지턱\n",
    "5. 불법주정차\n",
    "    - cctv 1개당 평균 불법주정차 단속 건수\n",
    "    \n",
    "### 조민주\n",
    "1. 차량등록현황\n",
    "2. 어린이 거주인구\n",
    "\t- 어린이 거주 비율\n",
    "3. 주변 학교/어린이집 개수\n",
    "4. 스쿨존 여부\n",
    "5. 스쿨존 중복 포함 개수\n",
    "\n",
    "### 심재훈\n",
    "1. 사고 개수\n",
    "2. 혼잡빈도\n",
    "3. 너비\n",
    "4. 교차로\n",
    "\n",
    "### 이재훈\n",
    "1. 학원 개수\n",
    "2. 횡단보도 갯수\n",
    "3. 신호등 갯수\n",
    "4. 인도 여부"
   ]
  },
  {
   "cell_type": "markdown",
   "metadata": {},
   "source": [
    "### data import"
   ]
  },
  {
   "cell_type": "code",
   "execution_count": 2,
   "metadata": {
    "ExecuteTime": {
     "end_time": "2021-01-17T07:16:32.005591Z",
     "start_time": "2021-01-17T07:16:30.059803Z"
    }
   },
   "outputs": [],
   "source": [
    "#tab에서 찾기 편하게 모든 단어에 _count_ 붙음\n",
    "#refer_data 는 data_set['function name']\n",
    "#홍익선\n",
    "overspeed_cam_count_ = pd.read_csv('overspeed_cam.csv')\n",
    "floating_pop_count_ = pd.read_csv('floating_pop.csv')\n",
    "child_pedestrian_count_ = pd.read_csv('child_pedestrian.csv')\n",
    "bump_count_ = pd.read_csv('bump.csv')\n",
    "parking_count_ = pd.read_csv('parking.csv')\n",
    "parking_cctv_count_ = [parking_count_, pd.read_csv('parking_cctv.csv')]\n",
    "\n",
    "#조민주\n",
    "car_count_ = gpd.read_file(\"3.오산시_차량등록현황_격자.geojson\", encoding = \"utf-8\")\n",
    "child_count_ = gpd.read_file(\"child_count.geojson\", encoding = \"utf-8\")\n",
    "child_rate_count_ = gpd.read_file(\"child_rate.geojson\", encoding = \"utf-8\")\n",
    "elem_kinder_count_ = gpd.read_file(\"elem_kinder_count.csv\", encoding = \"utf-8\")\n",
    "isSchoolZone_count_ = pd.read_csv(\"9.오산시_어린이보호구역(re).csv\", encoding = \"utf-8\")\n",
    "numberSchoolZone_count_ = isSchoolZone_count_\n",
    "\n",
    "#심재훈\n",
    "accident_count_ = pd.read_csv(\"accident_count.csv\")\n",
    "chaos1_nearby_count_ = [gpd.read_file('23.오산시_상세도로망_LV6.geojson'),\n",
    "                 pd.read_csv('chaos1.csv')]\n",
    "width_nearby_count_ = gpd.read_file('23.오산시_상세도로망_LV6.geojson')\n",
    "cross_road_nearby_count_ = width_nearby_count_\n",
    "\n",
    "#이재훈\n",
    "num_cram_school_count_ = pd.read_csv(\"학원.csv\")\n",
    "shortest_cross_count_ = gpd.read_file(\"횡단보도.json\",encoding=\"utf-8\")\n",
    "shortest_traffic_signal_count_ = gpd.read_file('19.오산시_신호등.geojson',encoding=\"utf-8\")\n",
    "shortest_sidewalk_count_ =  gpd.read_file(\"인도.json\",encoding=\"utf-8\")\n",
    "\n",
    "\n",
    "data_set = {\n",
    "'overspeed_cam_count': overspeed_cam_count_,\n",
    "'floating_pop_count':floating_pop_count_,\n",
    "'child_pedestrian_count':child_pedestrian_count_,\n",
    "'bump_count':bump_count_,\n",
    "'parking_count':parking_count_,\n",
    "'parking_cctv_count':parking_cctv_count_,\n",
    "'car_count':car_count_,\n",
    "'child_count':child_count_,\n",
    "'child_rate_count':child_rate_count_,\n",
    "'elem_kinder_count':elem_kinder_count_,\n",
    "'isSchoolZone_count':isSchoolZone_count_,\n",
    "'numberSchoolZone_count':numberSchoolZone_count_,\n",
    "'accident_count':accident_count_,\n",
    "'chaos1_nearby_count':chaos1_nearby_count_,\n",
    "'width_nearby_count':width_nearby_count_,\n",
    "'cross_road_nearby_count':cross_road_nearby_count_,\n",
    "'num_cram_school_count':num_cram_school_count_,\n",
    "'shortest_cross_count':shortest_cross_count_,\n",
    "'shortest_traffic_signal_count':shortest_traffic_signal_count_,\n",
    "'shortest_sidewalk_count':shortest_sidewalk_count_,\n",
    "}"
   ]
  },
  {
   "cell_type": "code",
   "execution_count": 3,
   "metadata": {
    "ExecuteTime": {
     "end_time": "2021-01-17T07:16:32.547143Z",
     "start_time": "2021-01-17T07:16:32.533181Z"
    }
   },
   "outputs": [],
   "source": [
    "#tuple이 str으로 저장되는 문제\n",
    "def _str_to_tuple(string):\n",
    "  \"\"\"\n",
    "  input: multilinestring object\n",
    "  output: arr_cords; lon, lat\n",
    "  ex) multiline_to_arr_cords(road_gdf.loc[0].geometry)\n",
    "  \"\"\"\n",
    "  return re.findall(r'\\d+\\.\\d+',string)"
   ]
  },
  {
   "cell_type": "markdown",
   "metadata": {},
   "source": [
    "## 홍익선"
   ]
  },
  {
   "cell_type": "markdown",
   "metadata": {},
   "source": [
    "## 1. 과속단속 카메라 개수"
   ]
  },
  {
   "cell_type": "code",
   "execution_count": 4,
   "metadata": {
    "ExecuteTime": {
     "end_time": "2021-01-17T07:16:33.055783Z",
     "start_time": "2021-01-17T07:16:33.040822Z"
    }
   },
   "outputs": [],
   "source": [
    "def overspeed_cam_count(lat, lon, radi, refer_data, idx=False):\n",
    "  \"\"\"\n",
    "  input: origin lat lon, radi(m)\n",
    "  output: following point count\n",
    "  optional: (idx of point, count)\n",
    "  \"\"\"\n",
    "  if (type(refer_data['geometry'][0]) == str):\n",
    "    refer_data['geometry'] = refer_data['geometry'].apply(_str_to_tuple)\n",
    "  #apply\n",
    "  bool_mask = refer_data['geometry'].apply(lambda x: geodesic((lat, lon),x).meters <= radi)\n",
    "  if idx:\n",
    "    return refer_data[bool_mask].index, sum(bool_mask)\n",
    "  else:\n",
    "    return sum(bool_mask)"
   ]
  },
  {
   "cell_type": "markdown",
   "metadata": {},
   "source": [
    "## 2. 유동인구 평균"
   ]
  },
  {
   "cell_type": "code",
   "execution_count": 5,
   "metadata": {
    "ExecuteTime": {
     "end_time": "2021-01-17T07:16:33.597333Z",
     "start_time": "2021-01-17T07:16:33.583372Z"
    }
   },
   "outputs": [],
   "source": [
    "def floating_pop_count(lat, lon, radi, refer_data, idx=False):\n",
    "  \"\"\"\n",
    "  input: origin lat lon, radi(km)\n",
    "  output: following point count\n",
    "  optional: (idx of point, count)\n",
    "  \"\"\"\n",
    "  if (type(refer_data['geometry'][0]) == str):\n",
    "    refer_data['geometry'] = refer_data['geometry'].apply(_str_to_tuple)\n",
    "  #apply\n",
    "  bool_mask = refer_data['geometry'].apply(lambda x: geodesic((lat, lon), x).m <= radi)\n",
    "  if idx:\n",
    "    return refer_data[bool_mask].index, refer_data['mean'][bool_mask].mean()\n",
    "  else:\n",
    "    return refer_data['mean'][bool_mask].mean()"
   ]
  },
  {
   "cell_type": "markdown",
   "metadata": {},
   "source": [
    "## 3. 법규위반"
   ]
  },
  {
   "cell_type": "code",
   "execution_count": 6,
   "metadata": {
    "ExecuteTime": {
     "end_time": "2021-01-17T07:16:34.106970Z",
     "start_time": "2021-01-17T07:16:34.093009Z"
    }
   },
   "outputs": [],
   "source": [
    "#어린이 보행/자전거 전체 사고 횟수\n",
    "def child_pedestrian_count(lat, lon, radi, refer_data, typ = 'all', idx=False):\n",
    "  \"\"\"\n",
    "  input: origin lat lon, radi(m), typ\n",
    "  typ = 'all', '안전운전불이행','보행자보호의무위반', '신호위반'\n",
    "  \n",
    "  output: following point count\n",
    "  optional: (idx of point, count)\n",
    "  \"\"\"\n",
    "  if (type(refer_data['geometry'][0]) == str):\n",
    "    refer_data['geometry'] = refer_data['geometry'].apply(_str_to_tuple)\n",
    "  #apply\n",
    "  if typ != 'all':\n",
    "    refer_data = refer_data.loc[refer_data.법규위반==typ]\n",
    "  bool_mask = refer_data['geometry'].apply(lambda x: geodesic((lat, lon),x).meters <= radi)\n",
    "  if idx:\n",
    "    return refer_data[bool_mask].index, sum(bool_mask)\n",
    "  else:\n",
    "    return sum(bool_mask)"
   ]
  },
  {
   "cell_type": "markdown",
   "metadata": {},
   "source": [
    "## 4. 과속방지턱"
   ]
  },
  {
   "cell_type": "code",
   "execution_count": 7,
   "metadata": {
    "ExecuteTime": {
     "end_time": "2021-01-17T07:16:34.691407Z",
     "start_time": "2021-01-17T07:16:34.678478Z"
    }
   },
   "outputs": [],
   "source": [
    "def bump_count(lat, lon, radi, refer_data, idx = False):\n",
    "    if (type(refer_data['geometry'][0]) == str):\n",
    "        refer_data['geometry'] = refer_data['geometry'].apply(_str_to_tuple)\n",
    "    dist = refer_data[['index','geometry']].apply(lambda x: (geodesic((lat, lon), x[1]).m, x[0]), axis = 1)\n",
    "    dist = min(dist, key = lambda x :x[0])\n",
    "                                        \n",
    "    if idx:\n",
    "        return dist\n",
    "    else:\n",
    "        return dist[0]"
   ]
  },
  {
   "cell_type": "markdown",
   "metadata": {},
   "source": [
    "## 5. 불법주정차"
   ]
  },
  {
   "cell_type": "code",
   "execution_count": 8,
   "metadata": {
    "ExecuteTime": {
     "end_time": "2021-01-17T07:16:35.244928Z",
     "start_time": "2021-01-17T07:16:35.231968Z"
    }
   },
   "outputs": [],
   "source": [
    "def parking_count(lat, lon, radi, refer_data, idx=False):\n",
    "  \"\"\"\n",
    "  input: origin lat lon, radi(km)\n",
    "  output: following point count\n",
    "  optional: (idx of point, count)\n",
    "  \"\"\"\n",
    "  if (type(refer_data['geometry'][0]) == str):\n",
    "    refer_data['geometry'] = refer_data['geometry'].apply(_str_to_tuple)\n",
    "  #apply\n",
    "  bool_mask = refer_data['geometry'].apply(lambda x: geodesic((lat, lon),x).meters <= radi)\n",
    "  if idx:\n",
    "    return refer_data[bool_mask].index, sum(bool_mask)\n",
    "  else:\n",
    "    return sum(bool_mask)"
   ]
  },
  {
   "cell_type": "markdown",
   "metadata": {},
   "source": [
    "## 5-1. cctv 1개당 평균 불법주정차 단속 건수"
   ]
  },
  {
   "cell_type": "code",
   "execution_count": 9,
   "metadata": {
    "ExecuteTime": {
     "end_time": "2021-01-17T07:16:35.783493Z",
     "start_time": "2021-01-17T07:16:35.769542Z"
    }
   },
   "outputs": [],
   "source": [
    "def parking_cctv_count(lat, lon, radi, refer_data, idx=False):\n",
    "  \"\"\"\n",
    "  cctv 1개당 평균 불법주정차 단속 건수\n",
    "  input: origin lat lon, radi(km)\n",
    "  output: following point count\n",
    "  optional: (idx of point, count)\n",
    "  \"\"\"\n",
    "  refer_data1, refer_data2 = refer_data[0], refer_data[1]\n",
    "  if (type(refer_data1['geometry'][0]) == str):\n",
    "    refer_data1['geometry'] = refer_data1['geometry'].apply(_str_to_tuple)\n",
    "  if (type(refer_data2['geometry'][0]) == str):\n",
    "    refer_data2['geometry'] = refer_data2['geometry'].apply(_str_to_tuple)\n",
    "    \n",
    "    \n",
    "  #apply\n",
    "  bool_mask1 = refer_data1['geometry'].apply(lambda x: geodesic((lat, lon),x).meters <= radi)\n",
    "  bool_mask2 = refer_data2['geometry'].apply(lambda x: geodesic((lat, lon),x).meters <= radi)\n",
    "\n",
    "  try:    \n",
    "    result = sum(bool_mask1)/sum(bool_mask2)\n",
    "  except:\n",
    "    result = np.nan\n",
    "  if idx:\n",
    "    return refer_data1[bool_mask1].index, refer_data2[bool_mask2].index, result\n",
    "  else:\n",
    "    return result"
   ]
  },
  {
   "cell_type": "markdown",
   "metadata": {},
   "source": [
    "## 조민주"
   ]
  },
  {
   "cell_type": "code",
   "execution_count": 10,
   "metadata": {
    "ExecuteTime": {
     "end_time": "2021-01-17T07:16:36.325071Z",
     "start_time": "2021-01-17T07:16:36.312074Z"
    }
   },
   "outputs": [],
   "source": [
    "osan = (37.1623799231016, 127.05436890115905)"
   ]
  },
  {
   "cell_type": "code",
   "execution_count": 11,
   "metadata": {
    "ExecuteTime": {
     "end_time": "2021-01-17T07:16:36.354958Z",
     "start_time": "2021-01-17T07:16:36.326036Z"
    }
   },
   "outputs": [],
   "source": [
    "#from https://medium.com/analytics-vidhya/calculating-distances-from-points-to-polygon-borders-in-python-a-paris-example-3b597e1ea291\n",
    "def midpoint(a, b):\n",
    "    a_lat, a_lon = radians(a.latitude), radians(a.longitude)\n",
    "    b_lat, b_lon = radians(b.latitude), radians(b.longitude)\n",
    "    delta_lon = b_lon - a_lon\n",
    "    B_x = cos(b_lat) * cos(delta_lon)\n",
    "    B_y = cos(b_lat) * sin(delta_lon)\n",
    "    mid_lat = atan2(\n",
    "        sin(a_lat) + sin(b_lat),\n",
    "        sqrt(((cos(a_lat) + B_x) ** 2 + B_y ** 2))\n",
    "    )\n",
    "    mid_lon = a_lon + atan2(B_y, cos(a_lat) + B_x)\n",
    "    # Normalise\n",
    "    mid_lon = (mid_lon + 3 * pi) % (2 * pi) - pi\n",
    "\n",
    "    return Point(latitude=degrees(mid_lat), longitude=degrees(mid_lon))\n",
    "\n",
    "def get_line_midpoint(line):\n",
    "    a = Point(line[0])\n",
    "    b = Point(line[1])\n",
    "\n",
    "    return midpoint(a,b)\n",
    "\n",
    "\n",
    "def calculate_dist_to_line(line_a_lat, line_a_lng, line_b_lat, line_b_lng, point_object):\n",
    "    a = Point(latitude=line_a_lat, longitude=line_a_lng)\n",
    "    b = Point(latitude=line_b_lat, longitude=line_b_lng)\n",
    "    dist = distance(midpoint(a, b), point_object)\n",
    "    return dist\n",
    "\n",
    "\n",
    "def get_min_distance_to_arr(arr_coords, point_object, unit='m'):\n",
    "    min_dist = 999999\n",
    "    line=[]\n",
    "    for i, _ in enumerate(arr_coords):\n",
    "        if i + 1 < len(arr_coords):\n",
    "            dist = calculate_dist_to_line(\n",
    "                line_a_lat=arr_coords[i][1],\n",
    "                line_a_lng=arr_coords[i][0],\n",
    "                line_b_lat=arr_coords[i + 1][1],\n",
    "                line_b_lng=arr_coords[i + 1][0],\n",
    "                point_object=point_object\n",
    "            )\n",
    "            if dist < min_dist:\n",
    "                min_dist = dist\n",
    "                line = [(arr_coords[i][1], arr_coords[i][0]), (arr_coords[i + 1][1], arr_coords[i + 1][0])]\n",
    "        else:\n",
    "            dist = calculate_dist_to_line(\n",
    "                line_a_lat=arr_coords[i][1],\n",
    "                line_a_lng=arr_coords[i][0],\n",
    "                line_b_lat=arr_coords[0][1],\n",
    "                line_b_lng=arr_coords[0][0],\n",
    "                point_object=point_object\n",
    "            )\n",
    "            if dist < min_dist:\n",
    "                min_dist = dist\n",
    "                line = [(arr_coords[i][1], arr_coords[i][0]), (arr_coords[0][1], arr_coords[0][0])]\n",
    "\n",
    "    if unit == 'm':\n",
    "        return min_dist.m, line\n",
    "    elif unit == 'km':\n",
    "        return min_dist.km, line\n",
    "    else:\n",
    "        return min_dist, line\n",
    "    \n",
    "#additional interrial function\n",
    "def _multiline_to_arr_cords(mls):\n",
    "  \"\"\"\n",
    "  input: multilinestring object\n",
    "  output: arr_cords; lon, lat\n",
    "  ex) multiline_to_arr_cords(road_gdf.loc[0].geometry)\n",
    "  \"\"\"\n",
    "  arr_cords = []\n",
    "  lon_lat = re.findall(r'\\d+\\.\\d+',str(mls))\n",
    "  for i in range(0,len(lon_lat),2):\n",
    "    arr_cords.append((float(lon_lat[i]),float(lon_lat[i+1])))\n",
    "  return arr_cords\n",
    "\n",
    "#(lat, lon), (lon, lat) 자꾸 갈려서 나오네\n",
    "def _shPoint_to_list(shpoint):\n",
    "  c1, c2 = re.findall(r'\\d+\\.\\d+',str(shpoint))\n",
    "  if c1 < c2:\n",
    "    lon, lat = float(c1), float(c2)\n",
    "  else:\n",
    "    lat, lon = float(c1), float(c2)\n",
    "  return lat, lon\n",
    "\n",
    "def _list_to_gpPoint(mylist):\n",
    "  return Point(latitude=mylist[0], longitude=mylist[1])\n",
    "\n",
    "def _shPoint_to_gpPoint(shpoint):\n",
    "  mylist = _shPoint_to_list(shpoint)\n",
    "  return Point(latitude=mylist[0], longitude=mylist[1])"
   ]
  },
  {
   "cell_type": "code",
   "execution_count": 12,
   "metadata": {
    "ExecuteTime": {
     "end_time": "2021-01-17T07:16:36.370916Z",
     "start_time": "2021-01-17T07:16:36.356954Z"
    }
   },
   "outputs": [],
   "source": [
    "def road_nearby(lat, lon, radi, data):\n",
    "  \"\"\"\n",
    "  input: origin lat lon, radi(m), data(shapely multilinestring)\n",
    "  change in type: shapely(Euclidian) -> list -> geopy(Great Circle)\n",
    "  #watchout for (lat lon), (lon lat)\n",
    "  output: following roads\n",
    "  \n",
    "  #test_set\n",
    "  lat, lon = (37.14875860564099, 127.0773701360968)\n",
    "  radi = 1\n",
    "  road_nearby(lat, lon, radi, road_gdf)\n",
    "  \"\"\"\n",
    "  road_gdf = data\n",
    "  dist_array = road_gdf.geometry.apply(lambda x: get_min_distance_to_arr(_multiline_to_arr_cords(x), _shPoint_to_gpPoint((lat, lon)), unit='m')[0])\n",
    "  return road_gdf.loc[dist_array < radi,:]"
   ]
  },
  {
   "cell_type": "markdown",
   "metadata": {},
   "source": [
    "## 2. 차랑등록현황"
   ]
  },
  {
   "cell_type": "code",
   "execution_count": 13,
   "metadata": {
    "ExecuteTime": {
     "end_time": "2021-01-17T07:16:37.975757Z",
     "start_time": "2021-01-17T07:16:37.961795Z"
    }
   },
   "outputs": [],
   "source": [
    "def car_count(lat, lon, radi, refer_data):\n",
    "    \"\"\"\n",
    "    default unit = 'm'\n",
    "    \"\"\"   \n",
    "    distance_arr = refer_data.geometry.apply(lambda x : get_min_distance_to_arr\n",
    "                    (_multiline_to_arr_cords(x),\n",
    "                     _shPoint_to_gpPoint((lat, lon)), unit = 'm')[0])\n",
    "    sum_count = sum(refer_data[distance_arr <= radi][\"car_cnt\"])\n",
    "    return sum_count"
   ]
  },
  {
   "cell_type": "markdown",
   "metadata": {},
   "source": [
    "## 3. 어린이 거주인구 "
   ]
  },
  {
   "cell_type": "code",
   "execution_count": 14,
   "metadata": {
    "ExecuteTime": {
     "end_time": "2021-01-17T07:16:38.531273Z",
     "start_time": "2021-01-17T07:16:38.517310Z"
    }
   },
   "outputs": [],
   "source": [
    "def child_count(lat, lon, radi, refer_data):\n",
    "    refer_data.val[refer_data.val.isna()] = 0\n",
    "    distance_arr = refer_data.geometry.apply(lambda x : get_min_distance_to_arr\n",
    "                    (_multiline_to_arr_cords(x),\n",
    "                     _shPoint_to_gpPoint((lat, lon)), unit = 'm')[0])\n",
    "    sum_count = sum(refer_data[distance_arr <= radi][\"val\"])\n",
    "    return sum_count"
   ]
  },
  {
   "cell_type": "markdown",
   "metadata": {},
   "source": [
    "## 3.5 어린이 거주 비율 "
   ]
  },
  {
   "cell_type": "code",
   "execution_count": 15,
   "metadata": {
    "ExecuteTime": {
     "end_time": "2021-01-17T07:16:39.086556Z",
     "start_time": "2021-01-17T07:16:39.073034Z"
    }
   },
   "outputs": [],
   "source": [
    "def child_rate_count(lat, lon, radi, refer_data):\n",
    "    distance_arr = refer_data.geometry.apply(lambda x : get_min_distance_to_arr\n",
    "                    (_multiline_to_arr_cords(x),\n",
    "                     _shPoint_to_gpPoint((lat, lon)), unit = 'm')[0])\n",
    "    selected_data = refer_data[distance_arr <= radi]\n",
    "    try:\n",
    "        child_rate = sum(selected_data[\"val\"])/sum(selected_data[\"total\"])\n",
    "    except:\n",
    "        child_rate = np.nan\n",
    "    return child_rate"
   ]
  },
  {
   "cell_type": "markdown",
   "metadata": {},
   "source": [
    "## 4. 주변 학교/어린이집 개수"
   ]
  },
  {
   "cell_type": "code",
   "execution_count": 16,
   "metadata": {
    "ExecuteTime": {
     "end_time": "2021-01-17T07:16:39.643099Z",
     "start_time": "2021-01-17T07:16:39.629105Z"
    }
   },
   "outputs": [],
   "source": [
    "def elem_kinder_count(lat, lon, radi, refer_data, typ = 'all'):\n",
    "    \"\"\"\n",
    "    typ = 'all', '유치원과 어린이집', '초등학교'\n",
    "    \"\"\"\n",
    "    if typ != 'all':\n",
    "        refer_data = refer_data.loc[refer_data.시설구분==typ]\n",
    "    data_loc = pd.Series(list(zip(refer_data[\"시설위치_위도\"], refer_data[\"시설위치_경도\"])))\n",
    "    count_sum = data_loc.apply(lambda x: geodesic((lat, lon),x).m <= radi).sum()\n",
    "    return count_sum"
   ]
  },
  {
   "cell_type": "markdown",
   "metadata": {},
   "source": [
    "## 5. 스쿨존 여부 : isSchoolZone(lat, lon, radi, refer_data)\n",
    "### 하지만 정확한 스쿨존 범위를 모름"
   ]
  },
  {
   "cell_type": "code",
   "execution_count": 17,
   "metadata": {
    "ExecuteTime": {
     "end_time": "2021-01-17T07:16:40.153180Z",
     "start_time": "2021-01-17T07:16:40.138202Z"
    }
   },
   "outputs": [],
   "source": [
    "def isSchoolZone_count(lat, lon, radi, refer_data): # radi = 300 이지만 순서 통일을 위해 default값 지정 x\n",
    "    data_loc = pd.Series(list(zip(refer_data[\"보호구역_위도\"], refer_data[\"보호구역_경도\"])))\n",
    "    count_sum = data_loc.apply(lambda x: geodesic((lat, lon),x).m <= 300).sum()\n",
    "    return count_sum > 0"
   ]
  },
  {
   "cell_type": "markdown",
   "metadata": {},
   "source": [
    "## 5.5 몇 개의 스쿨존에 포함되는지 : numberSchoolZone(lat, lon, radi, refer_data)\n",
    "### CCTV 배치에 도움이 될 수도..?"
   ]
  },
  {
   "cell_type": "code",
   "execution_count": 18,
   "metadata": {
    "ExecuteTime": {
     "end_time": "2021-01-17T07:16:40.632458Z",
     "start_time": "2021-01-17T07:16:40.618496Z"
    }
   },
   "outputs": [],
   "source": [
    "def numberSchoolZone_count(lat, lon, radi, refer_data): # radi = 300 이지만 순서 통일을 위해 default값 지정 x\n",
    "    data_loc = pd.Series(list(zip(refer_data[\"보호구역_위도\"], refer_data[\"보호구역_경도\"])))\n",
    "    count_sum = data_loc.apply(lambda x: geodesic((lat, lon),x).m <= 300).sum()\n",
    "    return count_sum"
   ]
  },
  {
   "cell_type": "markdown",
   "metadata": {},
   "source": [
    "## 심재훈"
   ]
  },
  {
   "cell_type": "markdown",
   "metadata": {},
   "source": [
    "### accident_count"
   ]
  },
  {
   "cell_type": "code",
   "execution_count": 19,
   "metadata": {
    "ExecuteTime": {
     "end_time": "2021-01-17T07:16:41.158954Z",
     "start_time": "2021-01-17T07:16:41.143995Z"
    }
   },
   "outputs": [],
   "source": [
    "def accident_count(lat, lon, radi, refer_data, idx=False):\n",
    "  \"\"\"\n",
    "  input: origin lat lon, radi(m), data(accidents record)\n",
    "  output: following point count\n",
    "  optional: (idx of point, count)\n",
    "  \"\"\"\n",
    "\n",
    "  if (type(refer_data['geometry'][0]) == str):\n",
    "    refer_data['geometry'] = refer_data['geometry'].apply(_str_to_tuple)\n",
    "  #apply\n",
    "  bool_mask = refer_data['geometry'].apply(lambda x: geodesic((lat, lon),x).m <= radi)\n",
    "  if idx:\n",
    "    return refer_data[bool_mask].index, sum(bool_mask)\n",
    "  else:\n",
    "    return sum(bool_mask)"
   ]
  },
  {
   "cell_type": "code",
   "execution_count": 20,
   "metadata": {
    "ExecuteTime": {
     "end_time": "2021-01-17T07:16:41.665648Z",
     "start_time": "2021-01-17T07:16:41.652683Z"
    }
   },
   "outputs": [],
   "source": [
    "def chaos1_nearby_count(lat, lon, radi, refer_data):\n",
    "  \"\"\"\n",
    "  input: origin lat lon, radi(m), road_data(shapely multilinestring), chaos1_data\n",
    "  output: following road's chaos1 by different times or lanes\n",
    "  \n",
    "  #test_set\n",
    "  lat, lon = (37.14875860564099, 127.0773701360968)\n",
    "  radi = 1\n",
    "  chaos1_nearby(lat, lon, radi, road_gdf, chaos1_gdf)[11]\n",
    "  #link_id 끝자리 01(상행) 02(하행) 순으로 나옴\n",
    "  평일 주말 총 평균값\n",
    "   \"\"\"\n",
    "  road_data, chaos1_data = refer_data[0], refer_data[1]\n",
    "  roads = road_nearby(lat, lon, radi, road_data)\n",
    "  result = roads.link_id.apply(lambda x: chaos1_data.loc[(chaos1_data.loc[:,'link_id']//100)==int(x),'chaos1'].mean())\n",
    "  return result\n",
    "\n",
    "def width_nearby_count(lat, lon, radi, road_data):\n",
    "  roads = road_nearby(lat, lon, radi, road_data)\n",
    "  return roads.width\n",
    "\n",
    "def cross_road_nearby_count(lat, lon, radi, road_data):\n",
    "  \"\"\"\n",
    "  4\t교차로 통로\n",
    "  32\t복합교차로\n",
    "  64\t로타리\n",
    "  128\t회전교차로\n",
    "\n",
    "  output = # of cross roads\n",
    "  \"\"\"\n",
    "  cross_roads = [4,32,64,128]\n",
    "  roads = road_nearby(lat, lon, radi, road_data)\n",
    "  result = roads.loc[roads.link_type.apply(lambda x: int(x) in cross_roads)]\n",
    "  return len(result)"
   ]
  },
  {
   "cell_type": "markdown",
   "metadata": {},
   "source": [
    "## 이재훈"
   ]
  },
  {
   "cell_type": "markdown",
   "metadata": {},
   "source": [
    "### 주변 학원 개수"
   ]
  },
  {
   "cell_type": "code",
   "execution_count": 21,
   "metadata": {
    "ExecuteTime": {
     "end_time": "2021-01-17T07:16:42.176593Z",
     "start_time": "2021-01-17T07:16:42.162631Z"
    }
   },
   "outputs": [],
   "source": [
    "def num_cram_school_count(lat, lon, radi, refer_data):\n",
    "    cram_school = pd.Series(list(zip(refer_data[\"시설위치_위도\"], refer_data[\"시설위치_경도\"])))\n",
    "    return cram_school.apply(lambda x: geodesic((lat, lon),x).m <= radi).sum()"
   ]
  },
  {
   "cell_type": "markdown",
   "metadata": {},
   "source": [
    "### 횡단보도 거리"
   ]
  },
  {
   "cell_type": "code",
   "execution_count": 22,
   "metadata": {
    "ExecuteTime": {
     "end_time": "2021-01-17T07:16:42.654896Z",
     "start_time": "2021-01-17T07:16:42.640933Z"
    }
   },
   "outputs": [],
   "source": [
    "#reproject 후 polygon 그대로\n",
    "def shortest_cross_count(lat, lon, radi, refer_data, idx = False):\n",
    "    polygon1 = reproject(shapely_Point(lon,lat), 'EPSG:4326', 'EPSG:26944')\n",
    "        \n",
    "    result = refer_data[[\"OBJECTID\",\"geometry\"]].apply(lambda x : (x[1].distance(polygon1), x[0]), axis = 1)\n",
    "    result = min(result, key = lambda x :x[0])\n",
    "    if idx:\n",
    "        return result\n",
    "    return result[0]"
   ]
  },
  {
   "cell_type": "markdown",
   "metadata": {},
   "source": [
    "### 신호등 거리"
   ]
  },
  {
   "cell_type": "code",
   "execution_count": 23,
   "metadata": {
    "ExecuteTime": {
     "end_time": "2021-01-17T07:16:43.164112Z",
     "start_time": "2021-01-17T07:16:43.152118Z"
    }
   },
   "outputs": [],
   "source": [
    "def shortest_traffic_signal_count(lat, lon, radi, refer_data, idx = False):\n",
    "    result = refer_data[[\"OBJECTID\",\"geometry\"]].apply(lambda x : (geodesic((lat, lon),(x[1].y,x[1].x)).m, x[0]), axis = 1)\n",
    "    result = min(result, key = lambda x :x[0])\n",
    "    if idx:\n",
    "        return result\n",
    "    return result[0]"
   ]
  },
  {
   "cell_type": "markdown",
   "metadata": {},
   "source": [
    "### 인도 여부"
   ]
  },
  {
   "cell_type": "code",
   "execution_count": 24,
   "metadata": {
    "ExecuteTime": {
     "end_time": "2021-01-17T07:16:43.674246Z",
     "start_time": "2021-01-17T07:16:43.660251Z"
    }
   },
   "outputs": [],
   "source": [
    "def shortest_sidewalk_count(lat, lon, radi, refer_data):\n",
    "    polygon1 = reproject(shapely_Point(lon,lat), 'EPSG:4326', 'EPSG:26944')\n",
    "    result = refer_data[\"geometry\"].apply(lambda x : x.distance(polygon1))\n",
    "    result = min(result)\n",
    "    return result"
   ]
  },
  {
   "cell_type": "markdown",
   "metadata": {},
   "source": [
    "# 데이터 만들기"
   ]
  },
  {
   "cell_type": "code",
   "execution_count": 25,
   "metadata": {
    "ExecuteTime": {
     "end_time": "2021-01-17T07:16:44.184507Z",
     "start_time": "2021-01-17T07:16:44.171508Z"
    },
    "code_folding": []
   },
   "outputs": [],
   "source": [
    "function_dict = {\n",
    "    \"overspeed_cam_count\" : overspeed_cam_count,\n",
    "    \"floating_pop_count\" : floating_pop_count,\n",
    "    \"child_pedestrian_count\" : child_pedestrian_count,\n",
    "    \"bump_count\" : bump_count,\n",
    "    \"parking_count\" : parking_count,\n",
    "    \"parking_cctv_count\" : parking_cctv_count,\n",
    "    \"car_count\" : car_count,\n",
    "    \"child_count\" : child_count,\n",
    "    \"child_rate_count\" : child_rate_count,\n",
    "    \"elem_kinder_count\" : elem_kinder_count,\n",
    "    \"isSchoolZone_count\" : isSchoolZone_count,\n",
    "    \"numberSchoolZone_count\" : numberSchoolZone_count,\n",
    "    \"accident_count\" : accident_count,\n",
    "    \"chaos1_nearby_count\" : chaos1_nearby_count,\n",
    "    \"width_nearby_count\" : width_nearby_count,\n",
    "    \"cross_road_nearby_count\" : cross_road_nearby_count,\n",
    "    \"num_cram_school_count\" : num_cram_school_count,\n",
    "    \"shortest_cross_count\" : shortest_cross_count,\n",
    "    \"shortest_traffic_signal_count\" : shortest_traffic_signal_count,\n",
    "    \"shortest_sidewalk_count\" : shortest_sidewalk_count}\n",
    "\n",
    "radi_dict = {\n",
    "    'overspeed_cam_count' : 100,\n",
    "    'floating_pop_count' : [12.5, 25]\n",
    "#    'child_pedestrian_count' : 50 빼야함\n",
    "    'bump_count' : [12.5 + 15, 25 + 15]\n",
    "#    'parking_count' : 50,\n",
    "    'parking_cctv_count' : [12.5, 25],\n",
    "    'car_count' : 1000, # max값\n",
    "    'child_count' : 1000, # max값\n",
    "#    'child_rate_count' : 50,\n",
    "    'elem_kinder_count' : 400, \n",
    "#     'isSchoolZone_count' : 400,\n",
    "    'numberSchoolZone_count' : 400,\n",
    "    'accident_count' : [12.5, 25],\n",
    "    'chaos1_nearby_count' : [12.5, 25],\n",
    "    'width_nearby_count' : [12.5, 25],\n",
    "    'cross_road_nearby_count' : [12.5, 25],\n",
    "    'num_cram_school_count' : 400,\n",
    "    'shortest_cross_count' : 0,\n",
    "    '중앙분리대' : [12.5, 25],\n",
    "    'shortest_traffic_signal_count' : 0,\n",
    "    'shortest_sidewalk_count' : [12.5, 25],} # 도로 보도의 유무"
   ]
  },
  {
   "cell_type": "code",
   "execution_count": 88,
   "metadata": {
    "ExecuteTime": {
     "end_time": "2021-01-17T07:34:26.584530Z",
     "start_time": "2021-01-17T07:34:26.566585Z"
    }
   },
   "outputs": [],
   "source": [
    "df = pd.read_csv(\"learn_point25.csv\")[0:2]\n",
    "\n",
    "function_dict[key](df.iloc[1,1],df.iloc[1,0],radi_dict[key], data_set[key])"
   ]
  },
  {
   "cell_type": "code",
   "execution_count": 89,
   "metadata": {
    "ExecuteTime": {
     "end_time": "2021-01-17T07:34:28.082952Z",
     "start_time": "2021-01-17T07:34:27.518789Z"
    }
   },
   "outputs": [
    {
     "name": "stdout",
     "output_type": "stream",
     "text": [
      "chaos1_nearby_count\n"
     ]
    },
    {
     "data": {
      "application/vnd.jupyter.widget-view+json": {
       "model_id": "fdf1354ddf384e0499a4312fd0417675",
       "version_major": 2,
       "version_minor": 0
      },
      "text/plain": [
       "  0%|          | 0/2 [00:00<?, ?it/s]"
      ]
     },
     "metadata": {},
     "output_type": "display_data"
    },
    {
     "data": {
      "text/html": [
       "<div>\n",
       "<style scoped>\n",
       "    .dataframe tbody tr th:only-of-type {\n",
       "        vertical-align: middle;\n",
       "    }\n",
       "\n",
       "    .dataframe tbody tr th {\n",
       "        vertical-align: top;\n",
       "    }\n",
       "\n",
       "    .dataframe thead th {\n",
       "        text-align: right;\n",
       "    }\n",
       "</style>\n",
       "<table border=\"1\" class=\"dataframe\">\n",
       "  <thead>\n",
       "    <tr style=\"text-align: right;\">\n",
       "      <th></th>\n",
       "      <th>8</th>\n",
       "      <th>9</th>\n",
       "      <th>14</th>\n",
       "      <th>17</th>\n",
       "      <th>158</th>\n",
       "      <th>159</th>\n",
       "      <th>160</th>\n",
       "      <th>161</th>\n",
       "      <th>770</th>\n",
       "    </tr>\n",
       "  </thead>\n",
       "  <tbody>\n",
       "    <tr>\n",
       "      <th>0</th>\n",
       "      <td>NaN</td>\n",
       "      <td>90.53</td>\n",
       "      <td>NaN</td>\n",
       "      <td>NaN</td>\n",
       "      <td>NaN</td>\n",
       "      <td>99.58</td>\n",
       "      <td>98.93</td>\n",
       "      <td>49.25</td>\n",
       "      <td>NaN</td>\n",
       "    </tr>\n",
       "    <tr>\n",
       "      <th>1</th>\n",
       "      <td>NaN</td>\n",
       "      <td>90.53</td>\n",
       "      <td>84.97</td>\n",
       "      <td>99.48</td>\n",
       "      <td>39.93</td>\n",
       "      <td>99.58</td>\n",
       "      <td>98.93</td>\n",
       "      <td>49.25</td>\n",
       "      <td>99.805</td>\n",
       "    </tr>\n",
       "  </tbody>\n",
       "</table>\n",
       "</div>"
      ],
      "text/plain": [
       "   8      9      14     17     158    159    160    161     770\n",
       "0  NaN  90.53    NaN    NaN    NaN  99.58  98.93  49.25     NaN\n",
       "1  NaN  90.53  84.97  99.48  39.93  99.58  98.93  49.25  99.805"
      ]
     },
     "execution_count": 89,
     "metadata": {},
     "output_type": "execute_result"
    }
   ],
   "source": [
    "key = \"chaos1_nearby_count\"\n",
    "# (lat, lon, radi, refer_data)\n",
    "keys.append(key)\n",
    "print(key)\n",
    "tmp = df.progress_apply(lambda x: function_dict[key](x[1], x[0], radi_dict[key], data_set[key]),axis = 1)\n",
    "tmp"
   ]
  },
  {
   "cell_type": "markdown",
   "metadata": {},
   "source": [
    "# 바꾸면 되는 부분\n",
    "이재훈 0 - 2214(exclud)  \n",
    "홍익선 2214 - 4428(exclud)\n",
    "심재훈 4428 - 6642(exclud)\n",
    "조민주 6642 - 8856(exclud)"
   ]
  },
  {
   "cell_type": "code",
   "execution_count": 82,
   "metadata": {
    "ExecuteTime": {
     "end_time": "2021-01-17T07:32:56.890247Z",
     "start_time": "2021-01-17T07:32:56.876285Z"
    },
    "code_folding": [
     0
    ]
   },
   "outputs": [],
   "source": [
    "df = pd.read_csv(\"learn_point25.csv\")[0:5]#2214#[6642:8856]#[4428:6642]#[2214:4428] "
   ]
  },
  {
   "cell_type": "code",
   "execution_count": 83,
   "metadata": {
    "ExecuteTime": {
     "end_time": "2021-01-17T07:32:59.840739Z",
     "start_time": "2021-01-17T07:32:58.433718Z"
    }
   },
   "outputs": [
    {
     "name": "stdout",
     "output_type": "stream",
     "text": [
      "chaos1_nearby_count\n"
     ]
    },
    {
     "data": {
      "application/vnd.jupyter.widget-view+json": {
       "model_id": "8bcf2c5eaa0d4a569e1e7a0e45659f1c",
       "version_major": 2,
       "version_minor": 0
      },
      "text/plain": [
       "  0%|          | 0/5 [00:00<?, ?it/s]"
      ]
     },
     "metadata": {},
     "output_type": "display_data"
    },
    {
     "data": {
      "text/plain": [
       "[   chaos1_nearby_count0  chaos1_nearby_count1  chaos1_nearby_count2  \\\n",
       " 0                   NaN                 90.53                   NaN   \n",
       " 1                   NaN                 90.53                   NaN   \n",
       " 2                   NaN                 90.53                   NaN   \n",
       " 3                   NaN                 90.53                 99.92   \n",
       " 4                   NaN                 90.53                 99.92   \n",
       " \n",
       "    chaos1_nearby_count3  chaos1_nearby_count4  chaos1_nearby_count5  \\\n",
       " 0                   NaN                   NaN                   NaN   \n",
       " 1                 84.97                 99.48                   NaN   \n",
       " 2                 84.97                 99.48                 52.07   \n",
       " 3                   NaN                   NaN                   NaN   \n",
       " 4                   NaN                   NaN                   NaN   \n",
       " \n",
       "    chaos1_nearby_count6  chaos1_nearby_count7  chaos1_nearby_count8  \\\n",
       " 0                   NaN                   NaN                 99.58   \n",
       " 1                   NaN                 39.93                 99.58   \n",
       " 2                99.275                 39.93                 99.58   \n",
       " 3                   NaN                   NaN                   NaN   \n",
       " 4                   NaN                   NaN                 99.58   \n",
       " \n",
       "    chaos1_nearby_count9  chaos1_nearby_count10  chaos1_nearby_count11  \\\n",
       " 0                 98.93                  49.25                    NaN   \n",
       " 1                 98.93                  49.25                    NaN   \n",
       " 2                 98.93                  49.25                    NaN   \n",
       " 3                 98.93                  49.25                 94.715   \n",
       " 4                 98.93                  49.25                 94.715   \n",
       " \n",
       "    chaos1_nearby_count12  \n",
       " 0                    NaN  \n",
       " 1                 99.805  \n",
       " 2                    NaN  \n",
       " 3                 99.805  \n",
       " 4                 99.805  ]"
      ]
     },
     "execution_count": 83,
     "metadata": {},
     "output_type": "execute_result"
    }
   ],
   "source": [
    "values = []\n",
    "keys = []\n",
    "for key in list(data_set.keys())[13:14]:\n",
    "    keys.append(key)\n",
    "    print(key)\n",
    "    tmp = df.progress_apply(lambda x: function_dict[key](x[1], x[0], radi_dict[key], data_set[key]),axis = 1)\n",
    "    if len(tmp.shape) == 1:\n",
    "        tmp.name = key\n",
    "    else:\n",
    "        tmp.columns = [key + str(i) for i in range(tmp.shape[1])]\n",
    "    values.append(tmp)\n",
    "values"
   ]
  },
  {
   "cell_type": "code",
   "execution_count": 76,
   "metadata": {
    "ExecuteTime": {
     "end_time": "2021-01-17T07:30:26.766515Z",
     "start_time": "2021-01-17T07:29:15.375006Z"
    },
    "scrolled": false
   },
   "outputs": [
    {
     "name": "stdout",
     "output_type": "stream",
     "text": [
      "overspeed_cam_count\n"
     ]
    },
    {
     "data": {
      "application/vnd.jupyter.widget-view+json": {
       "model_id": "76294af1b7104935a09ddb44c541fe36",
       "version_major": 2,
       "version_minor": 0
      },
      "text/plain": [
       "  0%|          | 0/3 [00:00<?, ?it/s]"
      ]
     },
     "metadata": {},
     "output_type": "display_data"
    },
    {
     "name": "stdout",
     "output_type": "stream",
     "text": [
      "floating_pop_count\n"
     ]
    },
    {
     "data": {
      "application/vnd.jupyter.widget-view+json": {
       "model_id": "d4cbd5be2cec4525895f931ff24d0a4e",
       "version_major": 2,
       "version_minor": 0
      },
      "text/plain": [
       "  0%|          | 0/3 [00:00<?, ?it/s]"
      ]
     },
     "metadata": {},
     "output_type": "display_data"
    },
    {
     "name": "stdout",
     "output_type": "stream",
     "text": [
      "child_pedestrian_count\n"
     ]
    },
    {
     "data": {
      "application/vnd.jupyter.widget-view+json": {
       "model_id": "c934f3ef93aa4f2d8cf0f7554ab58e3f",
       "version_major": 2,
       "version_minor": 0
      },
      "text/plain": [
       "  0%|          | 0/3 [00:00<?, ?it/s]"
      ]
     },
     "metadata": {},
     "output_type": "display_data"
    },
    {
     "name": "stdout",
     "output_type": "stream",
     "text": [
      "bump_count\n"
     ]
    },
    {
     "data": {
      "application/vnd.jupyter.widget-view+json": {
       "model_id": "84b7911e446145c2a2d9b54a48f239b6",
       "version_major": 2,
       "version_minor": 0
      },
      "text/plain": [
       "  0%|          | 0/3 [00:00<?, ?it/s]"
      ]
     },
     "metadata": {},
     "output_type": "display_data"
    },
    {
     "name": "stdout",
     "output_type": "stream",
     "text": [
      "parking_count\n"
     ]
    },
    {
     "data": {
      "application/vnd.jupyter.widget-view+json": {
       "model_id": "9ad07d2825c041a1871b82d22569657a",
       "version_major": 2,
       "version_minor": 0
      },
      "text/plain": [
       "  0%|          | 0/3 [00:00<?, ?it/s]"
      ]
     },
     "metadata": {},
     "output_type": "display_data"
    },
    {
     "name": "stdout",
     "output_type": "stream",
     "text": [
      "parking_cctv_count\n"
     ]
    },
    {
     "data": {
      "application/vnd.jupyter.widget-view+json": {
       "model_id": "791ab22fc7d24d55ada29a9f1beba48e",
       "version_major": 2,
       "version_minor": 0
      },
      "text/plain": [
       "  0%|          | 0/3 [00:00<?, ?it/s]"
      ]
     },
     "metadata": {},
     "output_type": "display_data"
    },
    {
     "name": "stdout",
     "output_type": "stream",
     "text": [
      "car_count\n"
     ]
    },
    {
     "data": {
      "application/vnd.jupyter.widget-view+json": {
       "model_id": "5e9d30a268de48d385edcf039dc578a1",
       "version_major": 2,
       "version_minor": 0
      },
      "text/plain": [
       "  0%|          | 0/3 [00:00<?, ?it/s]"
      ]
     },
     "metadata": {},
     "output_type": "display_data"
    },
    {
     "name": "stdout",
     "output_type": "stream",
     "text": [
      "child_count\n"
     ]
    },
    {
     "data": {
      "application/vnd.jupyter.widget-view+json": {
       "model_id": "0e5f5651d23c4d85a36c87bf4407512c",
       "version_major": 2,
       "version_minor": 0
      },
      "text/plain": [
       "  0%|          | 0/3 [00:00<?, ?it/s]"
      ]
     },
     "metadata": {},
     "output_type": "display_data"
    },
    {
     "name": "stdout",
     "output_type": "stream",
     "text": [
      "child_rate_count\n"
     ]
    },
    {
     "data": {
      "application/vnd.jupyter.widget-view+json": {
       "model_id": "27b35a5322c247809e31174855ac5cab",
       "version_major": 2,
       "version_minor": 0
      },
      "text/plain": [
       "  0%|          | 0/3 [00:00<?, ?it/s]"
      ]
     },
     "metadata": {},
     "output_type": "display_data"
    },
    {
     "name": "stdout",
     "output_type": "stream",
     "text": [
      "elem_kinder_count\n"
     ]
    },
    {
     "data": {
      "application/vnd.jupyter.widget-view+json": {
       "model_id": "2a97b9c13f274668b1bb84f9331a745f",
       "version_major": 2,
       "version_minor": 0
      },
      "text/plain": [
       "  0%|          | 0/3 [00:00<?, ?it/s]"
      ]
     },
     "metadata": {},
     "output_type": "display_data"
    },
    {
     "name": "stdout",
     "output_type": "stream",
     "text": [
      "isSchoolZone_count\n"
     ]
    },
    {
     "data": {
      "application/vnd.jupyter.widget-view+json": {
       "model_id": "e796499ae6b84dbea09b7f36dd09fc70",
       "version_major": 2,
       "version_minor": 0
      },
      "text/plain": [
       "  0%|          | 0/3 [00:00<?, ?it/s]"
      ]
     },
     "metadata": {},
     "output_type": "display_data"
    },
    {
     "name": "stdout",
     "output_type": "stream",
     "text": [
      "numberSchoolZone_count\n"
     ]
    },
    {
     "data": {
      "application/vnd.jupyter.widget-view+json": {
       "model_id": "8cab0f5802b44fb2a5e4c2724d53ac23",
       "version_major": 2,
       "version_minor": 0
      },
      "text/plain": [
       "  0%|          | 0/3 [00:00<?, ?it/s]"
      ]
     },
     "metadata": {},
     "output_type": "display_data"
    },
    {
     "name": "stdout",
     "output_type": "stream",
     "text": [
      "accident_count\n"
     ]
    },
    {
     "data": {
      "application/vnd.jupyter.widget-view+json": {
       "model_id": "047fa3dd866c43f6b8149a15bf18625f",
       "version_major": 2,
       "version_minor": 0
      },
      "text/plain": [
       "  0%|          | 0/3 [00:00<?, ?it/s]"
      ]
     },
     "metadata": {},
     "output_type": "display_data"
    },
    {
     "name": "stdout",
     "output_type": "stream",
     "text": [
      "chaos1_nearby_count\n"
     ]
    },
    {
     "data": {
      "application/vnd.jupyter.widget-view+json": {
       "model_id": "8e24628da1c049a58fccb637d130e991",
       "version_major": 2,
       "version_minor": 0
      },
      "text/plain": [
       "  0%|          | 0/3 [00:00<?, ?it/s]"
      ]
     },
     "metadata": {},
     "output_type": "display_data"
    },
    {
     "name": "stdout",
     "output_type": "stream",
     "text": [
      "width_nearby_count\n"
     ]
    },
    {
     "data": {
      "application/vnd.jupyter.widget-view+json": {
       "model_id": "d0fe99a13b9f481a83f3b08fbd5c887a",
       "version_major": 2,
       "version_minor": 0
      },
      "text/plain": [
       "  0%|          | 0/3 [00:00<?, ?it/s]"
      ]
     },
     "metadata": {},
     "output_type": "display_data"
    },
    {
     "name": "stdout",
     "output_type": "stream",
     "text": [
      "cross_road_nearby_count\n"
     ]
    },
    {
     "data": {
      "application/vnd.jupyter.widget-view+json": {
       "model_id": "ff922032e27e413cb8a5c64b297e4e9e",
       "version_major": 2,
       "version_minor": 0
      },
      "text/plain": [
       "  0%|          | 0/3 [00:00<?, ?it/s]"
      ]
     },
     "metadata": {},
     "output_type": "display_data"
    },
    {
     "name": "stdout",
     "output_type": "stream",
     "text": [
      "num_cram_school_count\n"
     ]
    },
    {
     "data": {
      "application/vnd.jupyter.widget-view+json": {
       "model_id": "5c89b19c2a694151af32242f4d11e2dc",
       "version_major": 2,
       "version_minor": 0
      },
      "text/plain": [
       "  0%|          | 0/3 [00:00<?, ?it/s]"
      ]
     },
     "metadata": {},
     "output_type": "display_data"
    },
    {
     "name": "stdout",
     "output_type": "stream",
     "text": [
      "shortest_cross_count\n"
     ]
    },
    {
     "data": {
      "application/vnd.jupyter.widget-view+json": {
       "model_id": "69c3238142b84b6bab31910d16384cff",
       "version_major": 2,
       "version_minor": 0
      },
      "text/plain": [
       "  0%|          | 0/3 [00:00<?, ?it/s]"
      ]
     },
     "metadata": {},
     "output_type": "display_data"
    },
    {
     "name": "stdout",
     "output_type": "stream",
     "text": [
      "shortest_traffic_signal_count\n"
     ]
    },
    {
     "data": {
      "application/vnd.jupyter.widget-view+json": {
       "model_id": "91ff9ae7014140dea1b3897d92455afc",
       "version_major": 2,
       "version_minor": 0
      },
      "text/plain": [
       "  0%|          | 0/3 [00:00<?, ?it/s]"
      ]
     },
     "metadata": {},
     "output_type": "display_data"
    },
    {
     "name": "stdout",
     "output_type": "stream",
     "text": [
      "shortest_sidewalk_count\n"
     ]
    },
    {
     "data": {
      "application/vnd.jupyter.widget-view+json": {
       "model_id": "485132fa500549e1b61e3b79bf5f816f",
       "version_major": 2,
       "version_minor": 0
      },
      "text/plain": [
       "  0%|          | 0/3 [00:00<?, ?it/s]"
      ]
     },
     "metadata": {},
     "output_type": "display_data"
    }
   ],
   "source": [
    "# key = 'overspeed_cam_count'\n",
    "values = []\n",
    "keys = []\n",
    "for key in data_set.keys():\n",
    "    keys.append(key)\n",
    "    print(key)\n",
    "    tmp = df.progress_apply(lambda x: function_dict[key](x[1], x[0], radi_dict[key], data_set[key]),axis = 1)\n",
    "    if len(tmp.shape) == 1:\n",
    "        tmp.name = key\n",
    "    else:\n",
    "        tmp.columns = [key + str(i) for i in range(tmp.shape[1])]\n",
    "    values.append(tmp)\n",
    "    "
   ]
  },
  {
   "cell_type": "code",
   "execution_count": 78,
   "metadata": {
    "ExecuteTime": {
     "end_time": "2021-01-17T07:30:49.338121Z",
     "start_time": "2021-01-17T07:30:49.315182Z"
    }
   },
   "outputs": [
    {
     "data": {
      "text/plain": [
       "[0    0\n",
       " 1    0\n",
       " 2    0\n",
       " Name: overspeed_cam_count, dtype: int64,\n",
       " 0    390.898125\n",
       " 1    507.739167\n",
       " 2    364.718889\n",
       " Name: floating_pop_count, dtype: float64,\n",
       " 0    1\n",
       " 1    1\n",
       " 2    1\n",
       " Name: child_pedestrian_count, dtype: int64,\n",
       " 0    143.582568\n",
       " 1    117.121977\n",
       " 2     98.525988\n",
       " Name: bump_count, dtype: float64,\n",
       " 0    0\n",
       " 1    0\n",
       " 2    5\n",
       " Name: parking_count, dtype: int64,\n",
       " 0   NaN\n",
       " 1   NaN\n",
       " 2   NaN\n",
       " Name: parking_cctv_count, dtype: float64,\n",
       " 0    2\n",
       " 1    2\n",
       " 2    2\n",
       " Name: car_count, dtype: int64,\n",
       " 0    0.0\n",
       " 1    0.0\n",
       " 2    0.0\n",
       " Name: child_count, dtype: float64,\n",
       " 0   NaN\n",
       " 1   NaN\n",
       " 2   NaN\n",
       " Name: child_rate_count, dtype: float64,\n",
       " 0    0\n",
       " 1    0\n",
       " 2    0\n",
       " Name: elem_kinder_count, dtype: int64,\n",
       " 0    False\n",
       " 1    False\n",
       " 2    False\n",
       " Name: isSchoolZone_count, dtype: bool,\n",
       " 0    0\n",
       " 1    0\n",
       " 2    0\n",
       " Name: numberSchoolZone_count, dtype: int64,\n",
       " 0    4\n",
       " 1    5\n",
       " 2    4\n",
       " Name: accident_count, dtype: int64,\n",
       "    chaos1_nearby_count0  chaos1_nearby_count1  chaos1_nearby_count2  \\\n",
       " 0                   NaN                 90.53                   NaN   \n",
       " 1                   NaN                 90.53                 84.97   \n",
       " 2                   NaN                 90.53                 84.97   \n",
       " \n",
       "    chaos1_nearby_count3  chaos1_nearby_count4  chaos1_nearby_count5  \\\n",
       " 0                   NaN                   NaN                   NaN   \n",
       " 1                 99.48                   NaN                   NaN   \n",
       " 2                 99.48                 52.07                99.275   \n",
       " \n",
       "    chaos1_nearby_count6  chaos1_nearby_count7  chaos1_nearby_count8  \\\n",
       " 0                   NaN                 99.58                 98.93   \n",
       " 1                 39.93                 99.58                 98.93   \n",
       " 2                 39.93                 99.58                 98.93   \n",
       " \n",
       "    chaos1_nearby_count9  chaos1_nearby_count10  \n",
       " 0                 49.25                    NaN  \n",
       " 1                 49.25                 99.805  \n",
       " 2                 49.25                    NaN  ,\n",
       "   width_nearby_count0 width_nearby_count1 width_nearby_count2  \\\n",
       " 0                   1                   1                 NaN   \n",
       " 1                   1                   1                   1   \n",
       " 2                   1                   1                   1   \n",
       " \n",
       "   width_nearby_count3 width_nearby_count4 width_nearby_count5  \\\n",
       " 0                 NaN                 NaN                 NaN   \n",
       " 1                   3                 NaN                 NaN   \n",
       " 2                   3                   1                   3   \n",
       " \n",
       "   width_nearby_count6 width_nearby_count7 width_nearby_count8  \\\n",
       " 0                 NaN                   3                   3   \n",
       " 1                   3                   3                   3   \n",
       " 2                   3                   3                   3   \n",
       " \n",
       "   width_nearby_count9 width_nearby_count10  \n",
       " 0                   2                  NaN  \n",
       " 1                   2                    4  \n",
       " 2                   2                  NaN  ,\n",
       " 0    5\n",
       " 1    8\n",
       " 2    7\n",
       " Name: cross_road_nearby_count, dtype: int64,\n",
       " 0    0\n",
       " 1    0\n",
       " 2    0\n",
       " Name: num_cram_school_count, dtype: int64,\n",
       " 0     0.000000\n",
       " 1    19.934105\n",
       " 2    16.631819\n",
       " Name: shortest_cross_count, dtype: float64,\n",
       " 0     4.965855\n",
       " 1    16.786558\n",
       " 2    21.477201\n",
       " Name: shortest_traffic_signal_count, dtype: float64,\n",
       " 0    58.860463\n",
       " 1    42.782539\n",
       " 2    33.348896\n",
       " Name: shortest_sidewalk_count, dtype: float64]"
      ]
     },
     "execution_count": 78,
     "metadata": {},
     "output_type": "execute_result"
    }
   ],
   "source": [
    "values"
   ]
  },
  {
   "cell_type": "code",
   "execution_count": 77,
   "metadata": {
    "ExecuteTime": {
     "end_time": "2021-01-17T07:30:31.236370Z",
     "start_time": "2021-01-17T07:30:31.199469Z"
    }
   },
   "outputs": [
    {
     "data": {
      "text/html": [
       "<div>\n",
       "<style scoped>\n",
       "    .dataframe tbody tr th:only-of-type {\n",
       "        vertical-align: middle;\n",
       "    }\n",
       "\n",
       "    .dataframe tbody tr th {\n",
       "        vertical-align: top;\n",
       "    }\n",
       "\n",
       "    .dataframe thead th {\n",
       "        text-align: right;\n",
       "    }\n",
       "</style>\n",
       "<table border=\"1\" class=\"dataframe\">\n",
       "  <thead>\n",
       "    <tr style=\"text-align: right;\">\n",
       "      <th></th>\n",
       "      <th>overspeed_cam_count</th>\n",
       "      <th>floating_pop_count</th>\n",
       "      <th>child_pedestrian_count</th>\n",
       "      <th>bump_count</th>\n",
       "      <th>parking_count</th>\n",
       "      <th>parking_cctv_count</th>\n",
       "      <th>car_count</th>\n",
       "      <th>child_count</th>\n",
       "      <th>child_rate_count</th>\n",
       "      <th>elem_kinder_count</th>\n",
       "      <th>...</th>\n",
       "      <th>width_nearby_count6</th>\n",
       "      <th>width_nearby_count7</th>\n",
       "      <th>width_nearby_count8</th>\n",
       "      <th>width_nearby_count9</th>\n",
       "      <th>width_nearby_count10</th>\n",
       "      <th>cross_road_nearby_count</th>\n",
       "      <th>num_cram_school_count</th>\n",
       "      <th>shortest_cross_count</th>\n",
       "      <th>shortest_traffic_signal_count</th>\n",
       "      <th>shortest_sidewalk_count</th>\n",
       "    </tr>\n",
       "  </thead>\n",
       "  <tbody>\n",
       "    <tr>\n",
       "      <th>0</th>\n",
       "      <td>0</td>\n",
       "      <td>390.898125</td>\n",
       "      <td>1</td>\n",
       "      <td>143.582568</td>\n",
       "      <td>0</td>\n",
       "      <td>NaN</td>\n",
       "      <td>2</td>\n",
       "      <td>0.0</td>\n",
       "      <td>NaN</td>\n",
       "      <td>0</td>\n",
       "      <td>...</td>\n",
       "      <td>NaN</td>\n",
       "      <td>3</td>\n",
       "      <td>3</td>\n",
       "      <td>2</td>\n",
       "      <td>NaN</td>\n",
       "      <td>5</td>\n",
       "      <td>0</td>\n",
       "      <td>0.000000</td>\n",
       "      <td>4.965855</td>\n",
       "      <td>58.860463</td>\n",
       "    </tr>\n",
       "    <tr>\n",
       "      <th>1</th>\n",
       "      <td>0</td>\n",
       "      <td>507.739167</td>\n",
       "      <td>1</td>\n",
       "      <td>117.121977</td>\n",
       "      <td>0</td>\n",
       "      <td>NaN</td>\n",
       "      <td>2</td>\n",
       "      <td>0.0</td>\n",
       "      <td>NaN</td>\n",
       "      <td>0</td>\n",
       "      <td>...</td>\n",
       "      <td>3</td>\n",
       "      <td>3</td>\n",
       "      <td>3</td>\n",
       "      <td>2</td>\n",
       "      <td>4</td>\n",
       "      <td>8</td>\n",
       "      <td>0</td>\n",
       "      <td>19.934105</td>\n",
       "      <td>16.786558</td>\n",
       "      <td>42.782539</td>\n",
       "    </tr>\n",
       "    <tr>\n",
       "      <th>2</th>\n",
       "      <td>0</td>\n",
       "      <td>364.718889</td>\n",
       "      <td>1</td>\n",
       "      <td>98.525988</td>\n",
       "      <td>5</td>\n",
       "      <td>NaN</td>\n",
       "      <td>2</td>\n",
       "      <td>0.0</td>\n",
       "      <td>NaN</td>\n",
       "      <td>0</td>\n",
       "      <td>...</td>\n",
       "      <td>3</td>\n",
       "      <td>3</td>\n",
       "      <td>3</td>\n",
       "      <td>2</td>\n",
       "      <td>NaN</td>\n",
       "      <td>7</td>\n",
       "      <td>0</td>\n",
       "      <td>16.631819</td>\n",
       "      <td>21.477201</td>\n",
       "      <td>33.348896</td>\n",
       "    </tr>\n",
       "  </tbody>\n",
       "</table>\n",
       "<p>3 rows × 40 columns</p>\n",
       "</div>"
      ],
      "text/plain": [
       "   overspeed_cam_count  floating_pop_count  child_pedestrian_count  \\\n",
       "0                    0          390.898125                       1   \n",
       "1                    0          507.739167                       1   \n",
       "2                    0          364.718889                       1   \n",
       "\n",
       "   bump_count  parking_count  parking_cctv_count  car_count  child_count  \\\n",
       "0  143.582568              0                 NaN          2          0.0   \n",
       "1  117.121977              0                 NaN          2          0.0   \n",
       "2   98.525988              5                 NaN          2          0.0   \n",
       "\n",
       "   child_rate_count  elem_kinder_count  ...  width_nearby_count6  \\\n",
       "0               NaN                  0  ...                  NaN   \n",
       "1               NaN                  0  ...                    3   \n",
       "2               NaN                  0  ...                    3   \n",
       "\n",
       "   width_nearby_count7  width_nearby_count8  width_nearby_count9  \\\n",
       "0                    3                    3                    2   \n",
       "1                    3                    3                    2   \n",
       "2                    3                    3                    2   \n",
       "\n",
       "   width_nearby_count10  cross_road_nearby_count  num_cram_school_count  \\\n",
       "0                   NaN                        5                      0   \n",
       "1                     4                        8                      0   \n",
       "2                   NaN                        7                      0   \n",
       "\n",
       "   shortest_cross_count  shortest_traffic_signal_count  \\\n",
       "0              0.000000                       4.965855   \n",
       "1             19.934105                      16.786558   \n",
       "2             16.631819                      21.477201   \n",
       "\n",
       "   shortest_sidewalk_count  \n",
       "0                58.860463  \n",
       "1                42.782539  \n",
       "2                33.348896  \n",
       "\n",
       "[3 rows x 40 columns]"
      ]
     },
     "execution_count": 77,
     "metadata": {},
     "output_type": "execute_result"
    }
   ],
   "source": [
    "pd.concat(values,axis=1)"
   ]
  },
  {
   "cell_type": "code",
   "execution_count": 30,
   "metadata": {
    "ExecuteTime": {
     "end_time": "2021-01-17T07:18:01.060821Z",
     "start_time": "2021-01-17T07:18:01.044864Z"
    }
   },
   "outputs": [
    {
     "name": "stdout",
     "output_type": "stream",
     "text": [
      "chaos1_nearby_count width_nearby_count\n"
     ]
    }
   ],
   "source": [
    "print(keys[13], keys[14])\n"
   ]
  },
  {
   "cell_type": "code",
   "execution_count": 51,
   "metadata": {
    "ExecuteTime": {
     "end_time": "2021-01-17T07:20:57.140781Z",
     "start_time": "2021-01-17T07:20:57.121810Z"
    }
   },
   "outputs": [
    {
     "data": {
      "text/plain": [
       "0    0\n",
       "Name: 1, dtype: int64"
      ]
     },
     "execution_count": 51,
     "metadata": {},
     "output_type": "execute_result"
    }
   ],
   "source": [
    "values[0].name = 1\n",
    "values[0]"
   ]
  },
  {
   "cell_type": "code",
   "execution_count": 72,
   "metadata": {
    "ExecuteTime": {
     "end_time": "2021-01-17T07:26:46.474853Z",
     "start_time": "2021-01-17T07:26:46.465875Z"
    }
   },
   "outputs": [
    {
     "data": {
      "text/html": [
       "<div>\n",
       "<style scoped>\n",
       "    .dataframe tbody tr th:only-of-type {\n",
       "        vertical-align: middle;\n",
       "    }\n",
       "\n",
       "    .dataframe tbody tr th {\n",
       "        vertical-align: top;\n",
       "    }\n",
       "\n",
       "    .dataframe thead th {\n",
       "        text-align: right;\n",
       "    }\n",
       "</style>\n",
       "<table border=\"1\" class=\"dataframe\">\n",
       "  <thead>\n",
       "    <tr style=\"text-align: right;\">\n",
       "      <th></th>\n",
       "      <th>8</th>\n",
       "      <th>9</th>\n",
       "      <th>159</th>\n",
       "      <th>160</th>\n",
       "      <th>161</th>\n",
       "    </tr>\n",
       "  </thead>\n",
       "  <tbody>\n",
       "    <tr>\n",
       "      <th>0</th>\n",
       "      <td>1</td>\n",
       "      <td>1</td>\n",
       "      <td>3</td>\n",
       "      <td>3</td>\n",
       "      <td>2</td>\n",
       "    </tr>\n",
       "  </tbody>\n",
       "</table>\n",
       "</div>"
      ],
      "text/plain": [
       "  8   9   159 160 161\n",
       "0   1   1   3   3   2"
      ]
     },
     "execution_count": 72,
     "metadata": {},
     "output_type": "execute_result"
    }
   ],
   "source": [
    "a = values[14]\n",
    "keys[13]\n",
    "\n",
    "\n",
    "a"
   ]
  },
  {
   "cell_type": "code",
   "execution_count": 44,
   "metadata": {
    "ExecuteTime": {
     "end_time": "2021-01-17T07:20:16.271471Z",
     "start_time": "2021-01-17T07:20:16.257526Z"
    }
   },
   "outputs": [
    {
     "ename": "AttributeError",
     "evalue": "'DataFrame' object has no attribute 'to_frame'",
     "output_type": "error",
     "traceback": [
      "\u001b[1;31m---------------------------------------------------------------------------\u001b[0m",
      "\u001b[1;31mAttributeError\u001b[0m                            Traceback (most recent call last)",
      "\u001b[1;32m<ipython-input-44-d0d30595da00>\u001b[0m in \u001b[0;36m<module>\u001b[1;34m\u001b[0m\n\u001b[1;32m----> 1\u001b[1;33m \u001b[0ma\u001b[0m \u001b[1;33m=\u001b[0m \u001b[0mvalues\u001b[0m\u001b[1;33m[\u001b[0m\u001b[1;36m0\u001b[0m\u001b[1;33m]\u001b[0m\u001b[1;33m.\u001b[0m\u001b[0mto_frame\u001b[0m\u001b[1;33m(\u001b[0m\u001b[1;33m)\u001b[0m\u001b[1;33m.\u001b[0m\u001b[0mto_frame\u001b[0m\u001b[1;33m(\u001b[0m\u001b[1;33m)\u001b[0m\u001b[1;33m\u001b[0m\u001b[1;33m\u001b[0m\u001b[0m\n\u001b[0m",
      "\u001b[1;32mc:\\users\\ljw56\\anaconda3\\envs\\geo\\lib\\site-packages\\pandas\\core\\generic.py\u001b[0m in \u001b[0;36m__getattr__\u001b[1;34m(self, name)\u001b[0m\n\u001b[0;32m   5139\u001b[0m             \u001b[1;32mif\u001b[0m \u001b[0mself\u001b[0m\u001b[1;33m.\u001b[0m\u001b[0m_info_axis\u001b[0m\u001b[1;33m.\u001b[0m\u001b[0m_can_hold_identifiers_and_holds_name\u001b[0m\u001b[1;33m(\u001b[0m\u001b[0mname\u001b[0m\u001b[1;33m)\u001b[0m\u001b[1;33m:\u001b[0m\u001b[1;33m\u001b[0m\u001b[1;33m\u001b[0m\u001b[0m\n\u001b[0;32m   5140\u001b[0m                 \u001b[1;32mreturn\u001b[0m \u001b[0mself\u001b[0m\u001b[1;33m[\u001b[0m\u001b[0mname\u001b[0m\u001b[1;33m]\u001b[0m\u001b[1;33m\u001b[0m\u001b[1;33m\u001b[0m\u001b[0m\n\u001b[1;32m-> 5141\u001b[1;33m             \u001b[1;32mreturn\u001b[0m \u001b[0mobject\u001b[0m\u001b[1;33m.\u001b[0m\u001b[0m__getattribute__\u001b[0m\u001b[1;33m(\u001b[0m\u001b[0mself\u001b[0m\u001b[1;33m,\u001b[0m \u001b[0mname\u001b[0m\u001b[1;33m)\u001b[0m\u001b[1;33m\u001b[0m\u001b[1;33m\u001b[0m\u001b[0m\n\u001b[0m\u001b[0;32m   5142\u001b[0m \u001b[1;33m\u001b[0m\u001b[0m\n\u001b[0;32m   5143\u001b[0m     \u001b[1;32mdef\u001b[0m \u001b[0m__setattr__\u001b[0m\u001b[1;33m(\u001b[0m\u001b[0mself\u001b[0m\u001b[1;33m,\u001b[0m \u001b[0mname\u001b[0m\u001b[1;33m:\u001b[0m \u001b[0mstr\u001b[0m\u001b[1;33m,\u001b[0m \u001b[0mvalue\u001b[0m\u001b[1;33m)\u001b[0m \u001b[1;33m->\u001b[0m \u001b[1;32mNone\u001b[0m\u001b[1;33m:\u001b[0m\u001b[1;33m\u001b[0m\u001b[1;33m\u001b[0m\u001b[0m\n",
      "\u001b[1;31mAttributeError\u001b[0m: 'DataFrame' object has no attribute 'to_frame'"
     ]
    }
   ],
   "source": [
    "a = values[0].to_frame().to_frame()\n"
   ]
  },
  {
   "cell_type": "markdown",
   "metadata": {},
   "source": [
    "2. 사고를 막는 요인(ex 과속단속 카메라 개수)들의 경우, 사고가 많을수록 카메라가 많을 가능성이 높은데 이경우 어떻게 방지할 것인가.\n",
    "-> 빼고 분석하자\n",
    "3. prediction, 베타값을 활용한 최적화 방안을 구체적으로 어떻게 진행할 것인지. prediction의 경우 test데이터에 train데이터가 포함된다는 것을 막을수 있는 방안이 필요. 베타값활용의 경우 2번 문제뿐만 아니라 구체적인 fancy한 해결방안\n",
    "-> 전체데이터로 분석, 어린이 보호구역 나눠서 분석, 도로특성 클러스터링 분석 => 최적화"
   ]
  }
 ],
 "metadata": {
  "hide_input": false,
  "kernelspec": {
   "display_name": "Python 3",
   "language": "python",
   "name": "python3"
  },
  "language_info": {
   "codemirror_mode": {
    "name": "ipython",
    "version": 3
   },
   "file_extension": ".py",
   "mimetype": "text/x-python",
   "name": "python",
   "nbconvert_exporter": "python",
   "pygments_lexer": "ipython3",
   "version": "3.6.12"
  },
  "toc": {
   "base_numbering": 1,
   "nav_menu": {},
   "number_sections": true,
   "sideBar": true,
   "skip_h1_title": false,
   "title_cell": "Table of Contents",
   "title_sidebar": "Contents",
   "toc_cell": false,
   "toc_position": {},
   "toc_section_display": true,
   "toc_window_display": false
  },
  "varInspector": {
   "cols": {
    "lenName": 16,
    "lenType": 16,
    "lenVar": 40
   },
   "kernels_config": {
    "python": {
     "delete_cmd_postfix": "",
     "delete_cmd_prefix": "del ",
     "library": "var_list.py",
     "varRefreshCmd": "print(var_dic_list())"
    },
    "r": {
     "delete_cmd_postfix": ") ",
     "delete_cmd_prefix": "rm(",
     "library": "var_list.r",
     "varRefreshCmd": "cat(var_dic_list()) "
    }
   },
   "types_to_exclude": [
    "module",
    "function",
    "builtin_function_or_method",
    "instance",
    "_Feature"
   ],
   "window_display": false
  }
 },
 "nbformat": 4,
 "nbformat_minor": 5
}