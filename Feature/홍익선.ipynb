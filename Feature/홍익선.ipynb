{
 "cells": [
  {
   "cell_type": "code",
   "execution_count": 1,
   "metadata": {},
   "outputs": [],
   "source": [
    "from geopy.distance import geodesic\n",
    "import folium\n",
    "from folium import plugins\n",
    "import geopandas as gpd\n",
    "import numpy as np\n",
    "import pandas as pd"
   ]
  },
  {
   "cell_type": "code",
   "execution_count": 2,
   "metadata": {},
   "outputs": [],
   "source": [
    "crawled_df = pd.read_csv('crawled_df.csv')"
   ]
  },
  {
   "cell_type": "markdown",
   "metadata": {},
   "source": [
    "## 1. 과속단속 카메라 개수"
   ]
  },
  {
   "cell_type": "code",
   "execution_count": 3,
   "metadata": {},
   "outputs": [],
   "source": [
    "overspeed_cam=pd.read_csv('overspeed_cam.csv')\n",
    "overspeed_cam['geometry'] = list(zip(overspeed_cam['lat'], overspeed_cam['lon']))"
   ]
  },
  {
   "cell_type": "code",
   "execution_count": 4,
   "metadata": {},
   "outputs": [],
   "source": [
    "def overspeedcam_count(lat, lon, radi, refer_data, idx=False):\n",
    "  \"\"\"\n",
    "  input: origin lat lon, radi(m)\n",
    "  output: following point count\n",
    "  optional: (idx of point, count)\n",
    "  \"\"\"\n",
    "\n",
    "  #apply\n",
    "  bool_mask = refer_data['geometry'].apply(lambda x: geodesic((lat, lon),x).meters <= radi)\n",
    "  if idx:\n",
    "    return refer_data[bool_mask].index, sum(bool_mask)\n",
    "  else:\n",
    "    return sum(bool_mask)"
   ]
  },
  {
   "cell_type": "markdown",
   "metadata": {},
   "source": [
    "## -check"
   ]
  },
  {
   "cell_type": "code",
   "execution_count": 5,
   "metadata": {
    "scrolled": true
   },
   "outputs": [
    {
     "data": {
      "text/plain": [
       "0"
      ]
     },
     "execution_count": 5,
     "metadata": {},
     "output_type": "execute_result"
    }
   ],
   "source": [
    "overspeedcam_count(crawled_df['lat'][0], crawled_df['lon'][0], 100, refer_data=overspeed_cam, idx=False)"
   ]
  },
  {
   "cell_type": "code",
   "execution_count": 6,
   "metadata": {},
   "outputs": [],
   "source": [
    "cam_cnt=[]\n",
    "for i in range(crawled_df.shape[0]):\n",
    "    cam_cnt.append(overspeedcam_count(crawled_df['lat'][i], crawled_df['lon'][i], 100, overspeed_cam))"
   ]
  },
  {
   "cell_type": "code",
   "execution_count": 7,
   "metadata": {},
   "outputs": [
    {
     "name": "stdout",
     "output_type": "stream",
     "text": [
      "603\n",
      "88\n"
     ]
    }
   ],
   "source": [
    "print(cam_cnt.count(0))\n",
    "print(cam_cnt.count(1)) # 총 691개의 자료 중 88개 사고지점에, 카메라 1대가 있었음."
   ]
  },
  {
   "cell_type": "markdown",
   "metadata": {},
   "source": [
    "## 2. 유동인구 평균"
   ]
  },
  {
   "cell_type": "code",
   "execution_count": 8,
   "metadata": {},
   "outputs": [
    {
     "data": {
      "text/html": [
       "<div>\n",
       "<style scoped>\n",
       "    .dataframe tbody tr th:only-of-type {\n",
       "        vertical-align: middle;\n",
       "    }\n",
       "\n",
       "    .dataframe tbody tr th {\n",
       "        vertical-align: top;\n",
       "    }\n",
       "\n",
       "    .dataframe thead th {\n",
       "        text-align: right;\n",
       "    }\n",
       "</style>\n",
       "<table border=\"1\" class=\"dataframe\">\n",
       "  <thead>\n",
       "    <tr style=\"text-align: right;\">\n",
       "      <th></th>\n",
       "      <th>lat</th>\n",
       "      <th>lon</th>\n",
       "      <th>mean</th>\n",
       "      <th>geometry</th>\n",
       "    </tr>\n",
       "  </thead>\n",
       "  <tbody>\n",
       "    <tr>\n",
       "      <th>0</th>\n",
       "      <td>37.125623</td>\n",
       "      <td>127.071472</td>\n",
       "      <td>53.367500</td>\n",
       "      <td>(37.1256226537081, 127.071472079079)</td>\n",
       "    </tr>\n",
       "    <tr>\n",
       "      <th>1</th>\n",
       "      <td>37.125629</td>\n",
       "      <td>127.073161</td>\n",
       "      <td>12.580833</td>\n",
       "      <td>(37.1256287454303, 127.073160660635)</td>\n",
       "    </tr>\n",
       "    <tr>\n",
       "      <th>2</th>\n",
       "      <td>37.125631</td>\n",
       "      <td>127.073724</td>\n",
       "      <td>12.777500</td>\n",
       "      <td>(37.1256307706599, 127.073723521266)</td>\n",
       "    </tr>\n",
       "    <tr>\n",
       "      <th>3</th>\n",
       "      <td>37.125633</td>\n",
       "      <td>127.074286</td>\n",
       "      <td>11.696667</td>\n",
       "      <td>(37.1256327932173, 127.07428638195299)</td>\n",
       "    </tr>\n",
       "    <tr>\n",
       "      <th>4</th>\n",
       "      <td>37.126071</td>\n",
       "      <td>127.070907</td>\n",
       "      <td>51.132500</td>\n",
       "      <td>(37.1260713170185, 127.070906674399)</td>\n",
       "    </tr>\n",
       "  </tbody>\n",
       "</table>\n",
       "</div>"
      ],
      "text/plain": [
       "         lat         lon       mean                                geometry\n",
       "0  37.125623  127.071472  53.367500    (37.1256226537081, 127.071472079079)\n",
       "1  37.125629  127.073161  12.580833    (37.1256287454303, 127.073160660635)\n",
       "2  37.125631  127.073724  12.777500    (37.1256307706599, 127.073723521266)\n",
       "3  37.125633  127.074286  11.696667  (37.1256327932173, 127.07428638195299)\n",
       "4  37.126071  127.070907  51.132500    (37.1260713170185, 127.070906674399)"
      ]
     },
     "execution_count": 8,
     "metadata": {},
     "output_type": "execute_result"
    }
   ],
   "source": [
    "floating= pd.read_csv('floating_pop.csv')\n",
    "floating['geometry'] = list(zip(floating['lat'], floating['lon']))\n",
    "floating.head()"
   ]
  },
  {
   "cell_type": "code",
   "execution_count": 9,
   "metadata": {},
   "outputs": [],
   "source": [
    "def floating_pop(lat, lon, radi, refer_data, idx=False):\n",
    "  \"\"\"\n",
    "  input: origin lat lon, radi(km)\n",
    "  output: following point count\n",
    "  optional: (idx of point, count)\n",
    "  \"\"\"\n",
    "\n",
    "  #apply\n",
    "  bool_mask = refer_data['geometry'].apply(lambda x: geodesic((lat, lon), x).m <= radi)\n",
    "  if idx:\n",
    "    return refer_data[bool_mask].index, refer_data['mean'][bool_mask].mean()\n",
    "  else:\n",
    "    return refer_data['mean'][bool_mask].mean()"
   ]
  },
  {
   "cell_type": "markdown",
   "metadata": {},
   "source": [
    "## -check"
   ]
  },
  {
   "cell_type": "code",
   "execution_count": 10,
   "metadata": {},
   "outputs": [
    {
     "data": {
      "text/plain": [
       "108.23435897435901"
      ]
     },
     "execution_count": 10,
     "metadata": {},
     "output_type": "execute_result"
    }
   ],
   "source": [
    "floating_pop(crawled_df['lat'][0], crawled_df['lon'][0], 100, floating)"
   ]
  },
  {
   "cell_type": "code",
   "execution_count": 11,
   "metadata": {},
   "outputs": [
    {
     "data": {
      "text/plain": [
       "(Int64Index([8192, 8193, 8194, 8291, 8292, 8293, 8294, 8380, 8381, 8382, 8383,\n",
       "             8478, 8479],\n",
       "            dtype='int64'),\n",
       " 108.23435897435901)"
      ]
     },
     "execution_count": 11,
     "metadata": {},
     "output_type": "execute_result"
    }
   ],
   "source": [
    "floating_pop(crawled_df['lat'][0], crawled_df['lon'][0], 100, floating, idx=True)"
   ]
  },
  {
   "cell_type": "code",
   "execution_count": 12,
   "metadata": {},
   "outputs": [],
   "source": [
    "df=floating.iloc[[8192, 8193, 8194, 8291, 8292, 8293, 8294, 8380, 8381, 8382, 8383,\n",
    "             8478, 8479],:]"
   ]
  },
  {
   "cell_type": "code",
   "execution_count": 13,
   "metadata": {
    "scrolled": false
   },
   "outputs": [
    {
     "data": {
      "text/html": [
       "<div style=\"width:100%;\"><div style=\"position:relative;width:100%;height:0;padding-bottom:60%;\"><span style=\"color:#565656\">Make this Notebook Trusted to load map: File -> Trust Notebook</span><iframe src=\"about:blank\" style=\"position:absolute;width:100%;height:100%;left:0;top:0;border:none !important;\" data-html=%3C%21DOCTYPE%20html%3E%0A%3Chead%3E%20%20%20%20%0A%20%20%20%20%3Cmeta%20http-equiv%3D%22content-type%22%20content%3D%22text/html%3B%20charset%3DUTF-8%22%20/%3E%0A%20%20%20%20%0A%20%20%20%20%20%20%20%20%3Cscript%3E%0A%20%20%20%20%20%20%20%20%20%20%20%20L_NO_TOUCH%20%3D%20false%3B%0A%20%20%20%20%20%20%20%20%20%20%20%20L_DISABLE_3D%20%3D%20false%3B%0A%20%20%20%20%20%20%20%20%3C/script%3E%0A%20%20%20%20%0A%20%20%20%20%3Cscript%20src%3D%22https%3A//cdn.jsdelivr.net/npm/leaflet%401.6.0/dist/leaflet.js%22%3E%3C/script%3E%0A%20%20%20%20%3Cscript%20src%3D%22https%3A//code.jquery.com/jquery-1.12.4.min.js%22%3E%3C/script%3E%0A%20%20%20%20%3Cscript%20src%3D%22https%3A//maxcdn.bootstrapcdn.com/bootstrap/3.2.0/js/bootstrap.min.js%22%3E%3C/script%3E%0A%20%20%20%20%3Cscript%20src%3D%22https%3A//cdnjs.cloudflare.com/ajax/libs/Leaflet.awesome-markers/2.0.2/leaflet.awesome-markers.js%22%3E%3C/script%3E%0A%20%20%20%20%3Clink%20rel%3D%22stylesheet%22%20href%3D%22https%3A//cdn.jsdelivr.net/npm/leaflet%401.6.0/dist/leaflet.css%22/%3E%0A%20%20%20%20%3Clink%20rel%3D%22stylesheet%22%20href%3D%22https%3A//maxcdn.bootstrapcdn.com/bootstrap/3.2.0/css/bootstrap.min.css%22/%3E%0A%20%20%20%20%3Clink%20rel%3D%22stylesheet%22%20href%3D%22https%3A//maxcdn.bootstrapcdn.com/bootstrap/3.2.0/css/bootstrap-theme.min.css%22/%3E%0A%20%20%20%20%3Clink%20rel%3D%22stylesheet%22%20href%3D%22https%3A//maxcdn.bootstrapcdn.com/font-awesome/4.6.3/css/font-awesome.min.css%22/%3E%0A%20%20%20%20%3Clink%20rel%3D%22stylesheet%22%20href%3D%22https%3A//cdnjs.cloudflare.com/ajax/libs/Leaflet.awesome-markers/2.0.2/leaflet.awesome-markers.css%22/%3E%0A%20%20%20%20%3Clink%20rel%3D%22stylesheet%22%20href%3D%22https%3A//rawcdn.githack.com/python-visualization/folium/master/folium/templates/leaflet.awesome.rotate.css%22/%3E%0A%20%20%20%20%3Cstyle%3Ehtml%2C%20body%20%7Bwidth%3A%20100%25%3Bheight%3A%20100%25%3Bmargin%3A%200%3Bpadding%3A%200%3B%7D%3C/style%3E%0A%20%20%20%20%3Cstyle%3E%23map%20%7Bposition%3Aabsolute%3Btop%3A0%3Bbottom%3A0%3Bright%3A0%3Bleft%3A0%3B%7D%3C/style%3E%0A%20%20%20%20%0A%20%20%20%20%20%20%20%20%20%20%20%20%3Cmeta%20name%3D%22viewport%22%20content%3D%22width%3Ddevice-width%2C%0A%20%20%20%20%20%20%20%20%20%20%20%20%20%20%20%20initial-scale%3D1.0%2C%20maximum-scale%3D1.0%2C%20user-scalable%3Dno%22%20/%3E%0A%20%20%20%20%20%20%20%20%20%20%20%20%3Cstyle%3E%0A%20%20%20%20%20%20%20%20%20%20%20%20%20%20%20%20%23map_6f8a40f151684c628bdc2ecbf9d32f6b%20%7B%0A%20%20%20%20%20%20%20%20%20%20%20%20%20%20%20%20%20%20%20%20position%3A%20relative%3B%0A%20%20%20%20%20%20%20%20%20%20%20%20%20%20%20%20%20%20%20%20width%3A%20900.0px%3B%0A%20%20%20%20%20%20%20%20%20%20%20%20%20%20%20%20%20%20%20%20height%3A%20700.0px%3B%0A%20%20%20%20%20%20%20%20%20%20%20%20%20%20%20%20%20%20%20%20left%3A%200.0%25%3B%0A%20%20%20%20%20%20%20%20%20%20%20%20%20%20%20%20%20%20%20%20top%3A%200.0%25%3B%0A%20%20%20%20%20%20%20%20%20%20%20%20%20%20%20%20%7D%0A%20%20%20%20%20%20%20%20%20%20%20%20%3C/style%3E%0A%20%20%20%20%20%20%20%20%0A%3C/head%3E%0A%3Cbody%3E%20%20%20%20%0A%20%20%20%20%0A%20%20%20%20%20%20%20%20%20%20%20%20%3Cdiv%20class%3D%22folium-map%22%20id%3D%22map_6f8a40f151684c628bdc2ecbf9d32f6b%22%20%3E%3C/div%3E%0A%20%20%20%20%20%20%20%20%0A%3C/body%3E%0A%3Cscript%3E%20%20%20%20%0A%20%20%20%20%0A%20%20%20%20%20%20%20%20%20%20%20%20var%20map_6f8a40f151684c628bdc2ecbf9d32f6b%20%3D%20L.map%28%0A%20%20%20%20%20%20%20%20%20%20%20%20%20%20%20%20%22map_6f8a40f151684c628bdc2ecbf9d32f6b%22%2C%0A%20%20%20%20%20%20%20%20%20%20%20%20%20%20%20%20%7B%0A%20%20%20%20%20%20%20%20%20%20%20%20%20%20%20%20%20%20%20%20center%3A%20%5B37.17434589220407%2C%20127.0505457450085%5D%2C%0A%20%20%20%20%20%20%20%20%20%20%20%20%20%20%20%20%20%20%20%20crs%3A%20L.CRS.EPSG3857%2C%0A%20%20%20%20%20%20%20%20%20%20%20%20%20%20%20%20%20%20%20%20zoom%3A%2012%2C%0A%20%20%20%20%20%20%20%20%20%20%20%20%20%20%20%20%20%20%20%20zoomControl%3A%20true%2C%0A%20%20%20%20%20%20%20%20%20%20%20%20%20%20%20%20%20%20%20%20preferCanvas%3A%20false%2C%0A%20%20%20%20%20%20%20%20%20%20%20%20%20%20%20%20%7D%0A%20%20%20%20%20%20%20%20%20%20%20%20%29%3B%0A%20%20%20%20%20%20%20%20%20%20%20%20L.control.scale%28%29.addTo%28map_6f8a40f151684c628bdc2ecbf9d32f6b%29%3B%0A%0A%20%20%20%20%20%20%20%20%20%20%20%20%0A%0A%20%20%20%20%20%20%20%20%0A%20%20%20%20%0A%20%20%20%20%20%20%20%20%20%20%20%20var%20tile_layer_5127129772994ad894c25bc29ca3f042%20%3D%20L.tileLayer%28%0A%20%20%20%20%20%20%20%20%20%20%20%20%20%20%20%20%22https%3A//%7Bs%7D.tile.openstreetmap.org/%7Bz%7D/%7Bx%7D/%7By%7D.png%22%2C%0A%20%20%20%20%20%20%20%20%20%20%20%20%20%20%20%20%7B%22attribution%22%3A%20%22Data%20by%20%5Cu0026copy%3B%20%5Cu003ca%20href%3D%5C%22http%3A//openstreetmap.org%5C%22%5Cu003eOpenStreetMap%5Cu003c/a%5Cu003e%2C%20under%20%5Cu003ca%20href%3D%5C%22http%3A//www.openstreetmap.org/copyright%5C%22%5Cu003eODbL%5Cu003c/a%5Cu003e.%22%2C%20%22detectRetina%22%3A%20false%2C%20%22maxNativeZoom%22%3A%2018%2C%20%22maxZoom%22%3A%2018%2C%20%22minZoom%22%3A%200%2C%20%22noWrap%22%3A%20false%2C%20%22opacity%22%3A%201%2C%20%22subdomains%22%3A%20%22abc%22%2C%20%22tms%22%3A%20false%7D%0A%20%20%20%20%20%20%20%20%20%20%20%20%29.addTo%28map_6f8a40f151684c628bdc2ecbf9d32f6b%29%3B%0A%20%20%20%20%20%20%20%20%0A%20%20%20%20%0A%20%20%20%20%20%20%20%20%20%20%20%20var%20marker_ec568ea3988841cf8b10be3423ada64f%20%3D%20L.marker%28%0A%20%20%20%20%20%20%20%20%20%20%20%20%20%20%20%20%5B37.1737678977853%2C%20127.049797637915%5D%2C%0A%20%20%20%20%20%20%20%20%20%20%20%20%20%20%20%20%7B%7D%0A%20%20%20%20%20%20%20%20%20%20%20%20%29.addTo%28map_6f8a40f151684c628bdc2ecbf9d32f6b%29%3B%0A%20%20%20%20%20%20%20%20%0A%20%20%20%20%0A%20%20%20%20%20%20%20%20var%20popup_87eff2959b0640589114a8c8300cdfb4%20%3D%20L.popup%28%7B%22maxWidth%22%3A%20%22100%25%22%7D%29%3B%0A%0A%20%20%20%20%20%20%20%20%0A%20%20%20%20%20%20%20%20%20%20%20%20var%20html_2f5db9a05bee48b3b0e629f16a85d426%20%3D%20%24%28%60%3Cdiv%20id%3D%22html_2f5db9a05bee48b3b0e629f16a85d426%22%20style%3D%22width%3A%20100.0%25%3B%20height%3A%20100.0%25%3B%22%3E38.945%3C/div%3E%60%29%5B0%5D%3B%0A%20%20%20%20%20%20%20%20%20%20%20%20popup_87eff2959b0640589114a8c8300cdfb4.setContent%28html_2f5db9a05bee48b3b0e629f16a85d426%29%3B%0A%20%20%20%20%20%20%20%20%0A%0A%20%20%20%20%20%20%20%20marker_ec568ea3988841cf8b10be3423ada64f.bindPopup%28popup_87eff2959b0640589114a8c8300cdfb4%29%0A%20%20%20%20%20%20%20%20%3B%0A%0A%20%20%20%20%20%20%20%20%0A%20%20%20%20%0A%20%20%20%20%0A%20%20%20%20%20%20%20%20%20%20%20%20var%20marker_80726173d5f6486c85da389b62103c51%20%3D%20L.marker%28%0A%20%20%20%20%20%20%20%20%20%20%20%20%20%20%20%20%5B37.1737700362885%2C%20127.050360853674%5D%2C%0A%20%20%20%20%20%20%20%20%20%20%20%20%20%20%20%20%7B%7D%0A%20%20%20%20%20%20%20%20%20%20%20%20%29.addTo%28map_6f8a40f151684c628bdc2ecbf9d32f6b%29%3B%0A%20%20%20%20%20%20%20%20%0A%20%20%20%20%0A%20%20%20%20%20%20%20%20var%20popup_8638cd6fd32c4e80aa2a1dc932f8316f%20%3D%20L.popup%28%7B%22maxWidth%22%3A%20%22100%25%22%7D%29%3B%0A%0A%20%20%20%20%20%20%20%20%0A%20%20%20%20%20%20%20%20%20%20%20%20var%20html_68531836450042ca846a00ba7dd62145%20%3D%20%24%28%60%3Cdiv%20id%3D%22html_68531836450042ca846a00ba7dd62145%22%20style%3D%22width%3A%20100.0%25%3B%20height%3A%20100.0%25%3B%22%3E68.71333333333332%3C/div%3E%60%29%5B0%5D%3B%0A%20%20%20%20%20%20%20%20%20%20%20%20popup_8638cd6fd32c4e80aa2a1dc932f8316f.setContent%28html_68531836450042ca846a00ba7dd62145%29%3B%0A%20%20%20%20%20%20%20%20%0A%0A%20%20%20%20%20%20%20%20marker_80726173d5f6486c85da389b62103c51.bindPopup%28popup_8638cd6fd32c4e80aa2a1dc932f8316f%29%0A%20%20%20%20%20%20%20%20%3B%0A%0A%20%20%20%20%20%20%20%20%0A%20%20%20%20%0A%20%20%20%20%0A%20%20%20%20%20%20%20%20%20%20%20%20var%20marker_9f0542e6be2f4e68b81eb07f476d9474%20%3D%20L.marker%28%0A%20%20%20%20%20%20%20%20%20%20%20%20%20%20%20%20%5B37.173772172114894%2C%20127.050924069492%5D%2C%0A%20%20%20%20%20%20%20%20%20%20%20%20%20%20%20%20%7B%7D%0A%20%20%20%20%20%20%20%20%20%20%20%20%29.addTo%28map_6f8a40f151684c628bdc2ecbf9d32f6b%29%3B%0A%20%20%20%20%20%20%20%20%0A%20%20%20%20%0A%20%20%20%20%20%20%20%20var%20popup_f7c4ae3387ac47d3b89a86d4a27f6b25%20%3D%20L.popup%28%7B%22maxWidth%22%3A%20%22100%25%22%7D%29%3B%0A%0A%20%20%20%20%20%20%20%20%0A%20%20%20%20%20%20%20%20%20%20%20%20var%20html_059bfe7b7fa0492dae3789ea4db35c5f%20%3D%20%24%28%60%3Cdiv%20id%3D%22html_059bfe7b7fa0492dae3789ea4db35c5f%22%20style%3D%22width%3A%20100.0%25%3B%20height%3A%20100.0%25%3B%22%3E49.7575%3C/div%3E%60%29%5B0%5D%3B%0A%20%20%20%20%20%20%20%20%20%20%20%20popup_f7c4ae3387ac47d3b89a86d4a27f6b25.setContent%28html_059bfe7b7fa0492dae3789ea4db35c5f%29%3B%0A%20%20%20%20%20%20%20%20%0A%0A%20%20%20%20%20%20%20%20marker_9f0542e6be2f4e68b81eb07f476d9474.bindPopup%28popup_f7c4ae3387ac47d3b89a86d4a27f6b25%29%0A%20%20%20%20%20%20%20%20%3B%0A%0A%20%20%20%20%20%20%20%20%0A%20%20%20%20%0A%20%20%20%20%0A%20%20%20%20%20%20%20%20%20%20%20%20var%20marker_29069e2339db4d1bb7bdf75e2e753ea5%20%3D%20L.marker%28%0A%20%20%20%20%20%20%20%20%20%20%20%20%20%20%20%20%5B37.174218592066396%2C%20127.049794963806%5D%2C%0A%20%20%20%20%20%20%20%20%20%20%20%20%20%20%20%20%7B%7D%0A%20%20%20%20%20%20%20%20%20%20%20%20%29.addTo%28map_6f8a40f151684c628bdc2ecbf9d32f6b%29%3B%0A%20%20%20%20%20%20%20%20%0A%20%20%20%20%0A%20%20%20%20%20%20%20%20var%20popup_09f7cd95ca2144d184e9c8a5c5e88758%20%3D%20L.popup%28%7B%22maxWidth%22%3A%20%22100%25%22%7D%29%3B%0A%0A%20%20%20%20%20%20%20%20%0A%20%20%20%20%20%20%20%20%20%20%20%20var%20html_f60f68fd8e854ca6827f93861f7eaae3%20%3D%20%24%28%60%3Cdiv%20id%3D%22html_f60f68fd8e854ca6827f93861f7eaae3%22%20style%3D%22width%3A%20100.0%25%3B%20height%3A%20100.0%25%3B%22%3E63.95416666666666%3C/div%3E%60%29%5B0%5D%3B%0A%20%20%20%20%20%20%20%20%20%20%20%20popup_09f7cd95ca2144d184e9c8a5c5e88758.setContent%28html_f60f68fd8e854ca6827f93861f7eaae3%29%3B%0A%20%20%20%20%20%20%20%20%0A%0A%20%20%20%20%20%20%20%20marker_29069e2339db4d1bb7bdf75e2e753ea5.bindPopup%28popup_09f7cd95ca2144d184e9c8a5c5e88758%29%0A%20%20%20%20%20%20%20%20%3B%0A%0A%20%20%20%20%20%20%20%20%0A%20%20%20%20%0A%20%20%20%20%0A%20%20%20%20%20%20%20%20%20%20%20%20var%20marker_0ea06c74e53d41d5b6bf988dc43b359b%20%3D%20L.marker%28%0A%20%20%20%20%20%20%20%20%20%20%20%20%20%20%20%20%5B37.1742207306043%2C%20127.050358182909%5D%2C%0A%20%20%20%20%20%20%20%20%20%20%20%20%20%20%20%20%7B%7D%0A%20%20%20%20%20%20%20%20%20%20%20%20%29.addTo%28map_6f8a40f151684c628bdc2ecbf9d32f6b%29%3B%0A%20%20%20%20%20%20%20%20%0A%20%20%20%20%0A%20%20%20%20%20%20%20%20var%20popup_b4bea14e42074357839cd402a2aeb68c%20%3D%20L.popup%28%7B%22maxWidth%22%3A%20%22100%25%22%7D%29%3B%0A%0A%20%20%20%20%20%20%20%20%0A%20%20%20%20%20%20%20%20%20%20%20%20var%20html_56b0714327de4173a40c78c2469d1d08%20%3D%20%24%28%60%3Cdiv%20id%3D%22html_56b0714327de4173a40c78c2469d1d08%22%20style%3D%22width%3A%20100.0%25%3B%20height%3A%20100.0%25%3B%22%3E266.4808333333333%3C/div%3E%60%29%5B0%5D%3B%0A%20%20%20%20%20%20%20%20%20%20%20%20popup_b4bea14e42074357839cd402a2aeb68c.setContent%28html_56b0714327de4173a40c78c2469d1d08%29%3B%0A%20%20%20%20%20%20%20%20%0A%0A%20%20%20%20%20%20%20%20marker_0ea06c74e53d41d5b6bf988dc43b359b.bindPopup%28popup_b4bea14e42074357839cd402a2aeb68c%29%0A%20%20%20%20%20%20%20%20%3B%0A%0A%20%20%20%20%20%20%20%20%0A%20%20%20%20%0A%20%20%20%20%0A%20%20%20%20%20%20%20%20%20%20%20%20var%20marker_0c77c461cefe4546aa30d48e4a59dcd5%20%3D%20L.marker%28%0A%20%20%20%20%20%20%20%20%20%20%20%20%20%20%20%20%5B37.1742228664654%2C%20127.050921402073%5D%2C%0A%20%20%20%20%20%20%20%20%20%20%20%20%20%20%20%20%7B%7D%0A%20%20%20%20%20%20%20%20%20%20%20%20%29.addTo%28map_6f8a40f151684c628bdc2ecbf9d32f6b%29%3B%0A%20%20%20%20%20%20%20%20%0A%20%20%20%20%0A%20%20%20%20%20%20%20%20var%20popup_49196527dfc24e38bddb8dcc138cdb1b%20%3D%20L.popup%28%7B%22maxWidth%22%3A%20%22100%25%22%7D%29%3B%0A%0A%20%20%20%20%20%20%20%20%0A%20%20%20%20%20%20%20%20%20%20%20%20var%20html_8108bd695bdf4229aaec2c76d13d7396%20%3D%20%24%28%60%3Cdiv%20id%3D%22html_8108bd695bdf4229aaec2c76d13d7396%22%20style%3D%22width%3A%20100.0%25%3B%20height%3A%20100.0%25%3B%22%3E128.89083333333335%3C/div%3E%60%29%5B0%5D%3B%0A%20%20%20%20%20%20%20%20%20%20%20%20popup_49196527dfc24e38bddb8dcc138cdb1b.setContent%28html_8108bd695bdf4229aaec2c76d13d7396%29%3B%0A%20%20%20%20%20%20%20%20%0A%0A%20%20%20%20%20%20%20%20marker_0c77c461cefe4546aa30d48e4a59dcd5.bindPopup%28popup_49196527dfc24e38bddb8dcc138cdb1b%29%0A%20%20%20%20%20%20%20%20%3B%0A%0A%20%20%20%20%20%20%20%20%0A%20%20%20%20%0A%20%20%20%20%0A%20%20%20%20%20%20%20%20%20%20%20%20var%20marker_aca9a82eca4a4e0a9ea0bde0f43804df%20%3D%20L.marker%28%0A%20%20%20%20%20%20%20%20%20%20%20%20%20%20%20%20%5B37.1742249996496%2C%20127.05148462129499%5D%2C%0A%20%20%20%20%20%20%20%20%20%20%20%20%20%20%20%20%7B%7D%0A%20%20%20%20%20%20%20%20%20%20%20%20%29.addTo%28map_6f8a40f151684c628bdc2ecbf9d32f6b%29%3B%0A%20%20%20%20%20%20%20%20%0A%20%20%20%20%0A%20%20%20%20%20%20%20%20var%20popup_33e098acd3d44c5d9e68c75eaa53499b%20%3D%20L.popup%28%7B%22maxWidth%22%3A%20%22100%25%22%7D%29%3B%0A%0A%20%20%20%20%20%20%20%20%0A%20%20%20%20%20%20%20%20%20%20%20%20var%20html_f2c215aaa9cb49a7b8be6f60ff441b37%20%3D%20%24%28%60%3Cdiv%20id%3D%22html_f2c215aaa9cb49a7b8be6f60ff441b37%22%20style%3D%22width%3A%20100.0%25%3B%20height%3A%20100.0%25%3B%22%3E4.775833333333334%3C/div%3E%60%29%5B0%5D%3B%0A%20%20%20%20%20%20%20%20%20%20%20%20popup_33e098acd3d44c5d9e68c75eaa53499b.setContent%28html_f2c215aaa9cb49a7b8be6f60ff441b37%29%3B%0A%20%20%20%20%20%20%20%20%0A%0A%20%20%20%20%20%20%20%20marker_aca9a82eca4a4e0a9ea0bde0f43804df.bindPopup%28popup_33e098acd3d44c5d9e68c75eaa53499b%29%0A%20%20%20%20%20%20%20%20%3B%0A%0A%20%20%20%20%20%20%20%20%0A%20%20%20%20%0A%20%20%20%20%0A%20%20%20%20%20%20%20%20%20%20%20%20var%20marker_04494052533448cdbbbefc16719de88a%20%3D%20L.marker%28%0A%20%20%20%20%20%20%20%20%20%20%20%20%20%20%20%20%5B37.174669286313%2C%20127.049792289637%5D%2C%0A%20%20%20%20%20%20%20%20%20%20%20%20%20%20%20%20%7B%7D%0A%20%20%20%20%20%20%20%20%20%20%20%20%29.addTo%28map_6f8a40f151684c628bdc2ecbf9d32f6b%29%3B%0A%20%20%20%20%20%20%20%20%0A%20%20%20%20%0A%20%20%20%20%20%20%20%20var%20popup_1f1b741edc22472cbf3dbd70d18c61c4%20%3D%20L.popup%28%7B%22maxWidth%22%3A%20%22100%25%22%7D%29%3B%0A%0A%20%20%20%20%20%20%20%20%0A%20%20%20%20%20%20%20%20%20%20%20%20var%20html_55738c0ae5d7419aa87e791619ebeb9e%20%3D%20%24%28%60%3Cdiv%20id%3D%22html_55738c0ae5d7419aa87e791619ebeb9e%22%20style%3D%22width%3A%20100.0%25%3B%20height%3A%20100.0%25%3B%22%3E42.40583333333333%3C/div%3E%60%29%5B0%5D%3B%0A%20%20%20%20%20%20%20%20%20%20%20%20popup_1f1b741edc22472cbf3dbd70d18c61c4.setContent%28html_55738c0ae5d7419aa87e791619ebeb9e%29%3B%0A%20%20%20%20%20%20%20%20%0A%0A%20%20%20%20%20%20%20%20marker_04494052533448cdbbbefc16719de88a.bindPopup%28popup_1f1b741edc22472cbf3dbd70d18c61c4%29%0A%20%20%20%20%20%20%20%20%3B%0A%0A%20%20%20%20%20%20%20%20%0A%20%20%20%20%0A%20%20%20%20%0A%20%20%20%20%20%20%20%20%20%20%20%20var%20marker_51b1e4523e004a62bbeb6c2f9e7b52d4%20%3D%20L.marker%28%0A%20%20%20%20%20%20%20%20%20%20%20%20%20%20%20%20%5B37.1746714248856%2C%20127.05035551208599%5D%2C%0A%20%20%20%20%20%20%20%20%20%20%20%20%20%20%20%20%7B%7D%0A%20%20%20%20%20%20%20%20%20%20%20%20%29.addTo%28map_6f8a40f151684c628bdc2ecbf9d32f6b%29%3B%0A%20%20%20%20%20%20%20%20%0A%20%20%20%20%0A%20%20%20%20%20%20%20%20var%20popup_a91076235d8f4a45a45cc60931d83a55%20%3D%20L.popup%28%7B%22maxWidth%22%3A%20%22100%25%22%7D%29%3B%0A%0A%20%20%20%20%20%20%20%20%0A%20%20%20%20%20%20%20%20%20%20%20%20var%20html_117ba90270914222b0ad5549bffbff98%20%3D%20%24%28%60%3Cdiv%20id%3D%22html_117ba90270914222b0ad5549bffbff98%22%20style%3D%22width%3A%20100.0%25%3B%20height%3A%20100.0%25%3B%22%3E331.79833333333335%3C/div%3E%60%29%5B0%5D%3B%0A%20%20%20%20%20%20%20%20%20%20%20%20popup_a91076235d8f4a45a45cc60931d83a55.setContent%28html_117ba90270914222b0ad5549bffbff98%29%3B%0A%20%20%20%20%20%20%20%20%0A%0A%20%20%20%20%20%20%20%20marker_51b1e4523e004a62bbeb6c2f9e7b52d4.bindPopup%28popup_a91076235d8f4a45a45cc60931d83a55%29%0A%20%20%20%20%20%20%20%20%3B%0A%0A%20%20%20%20%20%20%20%20%0A%20%20%20%20%0A%20%20%20%20%0A%20%20%20%20%20%20%20%20%20%20%20%20var%20marker_6084f82899024aa2905b53140e09d85f%20%3D%20L.marker%28%0A%20%20%20%20%20%20%20%20%20%20%20%20%20%20%20%20%5B37.1746735607814%2C%20127.050918734594%5D%2C%0A%20%20%20%20%20%20%20%20%20%20%20%20%20%20%20%20%7B%7D%0A%20%20%20%20%20%20%20%20%20%20%20%20%29.addTo%28map_6f8a40f151684c628bdc2ecbf9d32f6b%29%3B%0A%20%20%20%20%20%20%20%20%0A%20%20%20%20%0A%20%20%20%20%20%20%20%20var%20popup_a28c52760f2743bc803c26c0b9922eed%20%3D%20L.popup%28%7B%22maxWidth%22%3A%20%22100%25%22%7D%29%3B%0A%0A%20%20%20%20%20%20%20%20%0A%20%20%20%20%20%20%20%20%20%20%20%20var%20html_afe7da7556f34b1a977e7700e5c20d85%20%3D%20%24%28%60%3Cdiv%20id%3D%22html_afe7da7556f34b1a977e7700e5c20d85%22%20style%3D%22width%3A%20100.0%25%3B%20height%3A%20100.0%25%3B%22%3E171.86833333333337%3C/div%3E%60%29%5B0%5D%3B%0A%20%20%20%20%20%20%20%20%20%20%20%20popup_a28c52760f2743bc803c26c0b9922eed.setContent%28html_afe7da7556f34b1a977e7700e5c20d85%29%3B%0A%20%20%20%20%20%20%20%20%0A%0A%20%20%20%20%20%20%20%20marker_6084f82899024aa2905b53140e09d85f.bindPopup%28popup_a28c52760f2743bc803c26c0b9922eed%29%0A%20%20%20%20%20%20%20%20%3B%0A%0A%20%20%20%20%20%20%20%20%0A%20%20%20%20%0A%20%20%20%20%0A%20%20%20%20%20%20%20%20%20%20%20%20var%20marker_12054572e8144a49a565b4c108c1632b%20%3D%20L.marker%28%0A%20%20%20%20%20%20%20%20%20%20%20%20%20%20%20%20%5B37.1746756940002%2C%20127.051481957162%5D%2C%0A%20%20%20%20%20%20%20%20%20%20%20%20%20%20%20%20%7B%7D%0A%20%20%20%20%20%20%20%20%20%20%20%20%29.addTo%28map_6f8a40f151684c628bdc2ecbf9d32f6b%29%3B%0A%20%20%20%20%20%20%20%20%0A%20%20%20%20%0A%20%20%20%20%20%20%20%20var%20popup_c7e17763f9e243e4a90457410fed9e0d%20%3D%20L.popup%28%7B%22maxWidth%22%3A%20%22100%25%22%7D%29%3B%0A%0A%20%20%20%20%20%20%20%20%0A%20%20%20%20%20%20%20%20%20%20%20%20var%20html_f712ffae24d24670a2d368499907de18%20%3D%20%24%28%60%3Cdiv%20id%3D%22html_f712ffae24d24670a2d368499907de18%22%20style%3D%22width%3A%20100.0%25%3B%20height%3A%20100.0%25%3B%22%3E12.8275%3C/div%3E%60%29%5B0%5D%3B%0A%20%20%20%20%20%20%20%20%20%20%20%20popup_c7e17763f9e243e4a90457410fed9e0d.setContent%28html_f712ffae24d24670a2d368499907de18%29%3B%0A%20%20%20%20%20%20%20%20%0A%0A%20%20%20%20%20%20%20%20marker_12054572e8144a49a565b4c108c1632b.bindPopup%28popup_c7e17763f9e243e4a90457410fed9e0d%29%0A%20%20%20%20%20%20%20%20%3B%0A%0A%20%20%20%20%20%20%20%20%0A%20%20%20%20%0A%20%20%20%20%0A%20%20%20%20%20%20%20%20%20%20%20%20var%20marker_559cae6b1e194ee7b0dd933b1b08ec04%20%3D%20L.marker%28%0A%20%20%20%20%20%20%20%20%20%20%20%20%20%20%20%20%5B37.175122119132396%2C%20127.050352841202%5D%2C%0A%20%20%20%20%20%20%20%20%20%20%20%20%20%20%20%20%7B%7D%0A%20%20%20%20%20%20%20%20%20%20%20%20%29.addTo%28map_6f8a40f151684c628bdc2ecbf9d32f6b%29%3B%0A%20%20%20%20%20%20%20%20%0A%20%20%20%20%0A%20%20%20%20%20%20%20%20var%20popup_795a85e036e24a9f8bae1550877811b7%20%3D%20L.popup%28%7B%22maxWidth%22%3A%20%22100%25%22%7D%29%3B%0A%0A%20%20%20%20%20%20%20%20%0A%20%20%20%20%20%20%20%20%20%20%20%20var%20html_859ec0a9ddb84824a2efbcc2d2c9b33d%20%3D%20%24%28%60%3Cdiv%20id%3D%22html_859ec0a9ddb84824a2efbcc2d2c9b33d%22%20style%3D%22width%3A%20100.0%25%3B%20height%3A%20100.0%25%3B%22%3E205.3375%3C/div%3E%60%29%5B0%5D%3B%0A%20%20%20%20%20%20%20%20%20%20%20%20popup_795a85e036e24a9f8bae1550877811b7.setContent%28html_859ec0a9ddb84824a2efbcc2d2c9b33d%29%3B%0A%20%20%20%20%20%20%20%20%0A%0A%20%20%20%20%20%20%20%20marker_559cae6b1e194ee7b0dd933b1b08ec04.bindPopup%28popup_795a85e036e24a9f8bae1550877811b7%29%0A%20%20%20%20%20%20%20%20%3B%0A%0A%20%20%20%20%20%20%20%20%0A%20%20%20%20%0A%20%20%20%20%0A%20%20%20%20%20%20%20%20%20%20%20%20var%20marker_f3cdf30b6eb94136bf4ccd47ab46b7b0%20%3D%20L.marker%28%0A%20%20%20%20%20%20%20%20%20%20%20%20%20%20%20%20%5B37.1751242550628%2C%20127.05091606705601%5D%2C%0A%20%20%20%20%20%20%20%20%20%20%20%20%20%20%20%20%7B%7D%0A%20%20%20%20%20%20%20%20%20%20%20%20%29.addTo%28map_6f8a40f151684c628bdc2ecbf9d32f6b%29%3B%0A%20%20%20%20%20%20%20%20%0A%20%20%20%20%0A%20%20%20%20%20%20%20%20var%20popup_fae30becbc164c0ea2718bbaa523e673%20%3D%20L.popup%28%7B%22maxWidth%22%3A%20%22100%25%22%7D%29%3B%0A%0A%20%20%20%20%20%20%20%20%0A%20%20%20%20%20%20%20%20%20%20%20%20var%20html_22bbe8ebca1d4c8c83ab0e1fe28260f8%20%3D%20%24%28%60%3Cdiv%20id%3D%22html_22bbe8ebca1d4c8c83ab0e1fe28260f8%22%20style%3D%22width%3A%20100.0%25%3B%20height%3A%20100.0%25%3B%22%3E21.291666666666668%3C/div%3E%60%29%5B0%5D%3B%0A%20%20%20%20%20%20%20%20%20%20%20%20popup_fae30becbc164c0ea2718bbaa523e673.setContent%28html_22bbe8ebca1d4c8c83ab0e1fe28260f8%29%3B%0A%20%20%20%20%20%20%20%20%0A%0A%20%20%20%20%20%20%20%20marker_f3cdf30b6eb94136bf4ccd47ab46b7b0.bindPopup%28popup_fae30becbc164c0ea2718bbaa523e673%29%0A%20%20%20%20%20%20%20%20%3B%0A%0A%20%20%20%20%20%20%20%20%0A%20%20%20%20%0A%20%20%20%20%0A%20%20%20%20%20%20%20%20%20%20%20%20var%20marker_c9f19e50607d47f08546e86363a2a315%20%3D%20L.marker%28%0A%20%20%20%20%20%20%20%20%20%20%20%20%20%20%20%20%5B37.17434589220407%2C%20127.0505457450085%5D%2C%0A%20%20%20%20%20%20%20%20%20%20%20%20%20%20%20%20%7B%7D%0A%20%20%20%20%20%20%20%20%20%20%20%20%29.addTo%28map_6f8a40f151684c628bdc2ecbf9d32f6b%29%3B%0A%20%20%20%20%20%20%20%20%0A%20%20%20%20%0A%20%20%20%20%20%20%20%20%20%20%20%20var%20icon_8705078a45af42afa9cc0d607bce6432%20%3D%20L.AwesomeMarkers.icon%28%0A%20%20%20%20%20%20%20%20%20%20%20%20%20%20%20%20%7B%22extraClasses%22%3A%20%22fa-rotate-0%22%2C%20%22icon%22%3A%20%22info-sign%22%2C%20%22iconColor%22%3A%20%22white%22%2C%20%22markerColor%22%3A%20%22red%22%2C%20%22prefix%22%3A%20%22glyphicon%22%7D%0A%20%20%20%20%20%20%20%20%20%20%20%20%29%3B%0A%20%20%20%20%20%20%20%20%20%20%20%20marker_c9f19e50607d47f08546e86363a2a315.setIcon%28icon_8705078a45af42afa9cc0d607bce6432%29%3B%0A%20%20%20%20%20%20%20%20%0A%3C/script%3E onload=\"this.contentDocument.open();this.contentDocument.write(    decodeURIComponent(this.getAttribute('data-html')));this.contentDocument.close();\" allowfullscreen webkitallowfullscreen mozallowfullscreen></iframe></div></div>"
      ],
      "text/plain": [
       "<folium.folium.Map at 0x18a4eb00070>"
      ]
     },
     "execution_count": 13,
     "metadata": {},
     "output_type": "execute_result"
    }
   ],
   "source": [
    "center=(crawled_df['lat'][0], crawled_df['lon'][0])\n",
    "map = folium.Map(location=center, zoom_start=12, width=900, height=700, control_scale=True)\n",
    "\n",
    "df.apply(lambda row: folium.Marker(location=[row['lat'], row['lon']],\n",
    "                                                    popup=row['mean']).add_to(map), axis=1)\n",
    "\n",
    "folium.Marker(center, icon=folium.Icon(color='red')).add_to(map)\n",
    "# display map\n",
    "map"
   ]
  },
  {
   "cell_type": "code",
   "execution_count": null,
   "metadata": {},
   "outputs": [],
   "source": []
  },
  {
   "cell_type": "markdown",
   "metadata": {},
   "source": [
    "# 3. 법규위반"
   ]
  },
  {
   "cell_type": "code",
   "execution_count": 14,
   "metadata": {},
   "outputs": [],
   "source": [
    "child_ped=pd.read_csv('child_pedestrian.csv')\n",
    "child_ped_pro=pd.read_csv('child_pedestrian_protect.csv')\n",
    "child_ped_sig=pd.read_csv('child_pedestrian_signal.csv')"
   ]
  },
  {
   "cell_type": "code",
   "execution_count": 15,
   "metadata": {
    "scrolled": true
   },
   "outputs": [],
   "source": [
    "child_ped['geometry']=list(zip(child_ped['lat'],child_ped['lon']))\n",
    "child_ped_pro['geometry']=list(zip(child_ped_pro['lat'],child_ped_pro['lon']))\n",
    "child_ped_sig['geometry']=list(zip(child_ped_sig['lat'],child_ped_sig['lon']))"
   ]
  },
  {
   "cell_type": "code",
   "execution_count": 16,
   "metadata": {},
   "outputs": [],
   "source": [
    "#어린이 보행/자전거 전체 사고 횟수\n",
    "def child_pedestrian_acc_cnt(lat, lon, radi, refer_data, idx=False):\n",
    "  \"\"\"\n",
    "  input: origin lat lon, radi(m)\n",
    "  output: following point count\n",
    "  optional: (idx of point, count)\n",
    "  \"\"\"\n",
    "\n",
    "  #apply\n",
    "  bool_mask = refer_data['geometry'].apply(lambda x: geodesic((lat, lon),x).meters <= radi)\n",
    "  if idx:\n",
    "    return refer_data[bool_mask].index, sum(bool_mask)\n",
    "  else:\n",
    "    return sum(bool_mask)"
   ]
  },
  {
   "cell_type": "markdown",
   "metadata": {},
   "source": [
    "## -check"
   ]
  },
  {
   "cell_type": "code",
   "execution_count": 17,
   "metadata": {},
   "outputs": [
    {
     "name": "stdout",
     "output_type": "stream",
     "text": [
      "4\n",
      "0\n",
      "3\n"
     ]
    }
   ],
   "source": [
    "print(child_pedestrian_acc_cnt(crawled_df['lat'][3], crawled_df['lon'][3], radi=20, refer_data=child_ped))\n",
    "print(child_pedestrian_acc_cnt(crawled_df['lat'][3], crawled_df['lon'][3], radi=20, refer_data=child_ped_pro))## -check\n",
    "print(child_pedestrian_acc_cnt(crawled_df['lat'][3], crawled_df['lon'][3], radi=20, refer_data=child_ped_sig))"
   ]
  },
  {
   "cell_type": "markdown",
   "metadata": {},
   "source": [
    "# 4. 과속방지턱"
   ]
  },
  {
   "cell_type": "code",
   "execution_count": 18,
   "metadata": {
    "scrolled": true
   },
   "outputs": [
    {
     "data": {
      "text/html": [
       "<div>\n",
       "<style scoped>\n",
       "    .dataframe tbody tr th:only-of-type {\n",
       "        vertical-align: middle;\n",
       "    }\n",
       "\n",
       "    .dataframe tbody tr th {\n",
       "        vertical-align: top;\n",
       "    }\n",
       "\n",
       "    .dataframe thead th {\n",
       "        text-align: right;\n",
       "    }\n",
       "</style>\n",
       "<table border=\"1\" class=\"dataframe\">\n",
       "  <thead>\n",
       "    <tr style=\"text-align: right;\">\n",
       "      <th></th>\n",
       "      <th>index</th>\n",
       "      <th>도로명</th>\n",
       "      <th>설치장소명</th>\n",
       "      <th>과속방지턱높이</th>\n",
       "      <th>과속방지턱폭</th>\n",
       "      <th>과속방지턱연장</th>\n",
       "      <th>보차분리여부</th>\n",
       "      <th>연속형여부</th>\n",
       "      <th>lon</th>\n",
       "      <th>lat</th>\n",
       "      <th>geometry</th>\n",
       "    </tr>\n",
       "  </thead>\n",
       "  <tbody>\n",
       "    <tr>\n",
       "      <th>0</th>\n",
       "      <td>0</td>\n",
       "      <td>오산로</td>\n",
       "      <td>소망빌 앞</td>\n",
       "      <td>10</td>\n",
       "      <td>3.6</td>\n",
       "      <td>5.4</td>\n",
       "      <td>N</td>\n",
       "      <td>Y</td>\n",
       "      <td>127.068954</td>\n",
       "      <td>37.130852</td>\n",
       "      <td>(37.1308521, 127.0689542)</td>\n",
       "    </tr>\n",
       "    <tr>\n",
       "      <th>1</th>\n",
       "      <td>1</td>\n",
       "      <td>동부대로</td>\n",
       "      <td>태영철강재공장 앞</td>\n",
       "      <td>10</td>\n",
       "      <td>3.6</td>\n",
       "      <td>5.0</td>\n",
       "      <td>N</td>\n",
       "      <td>Y</td>\n",
       "      <td>127.076305</td>\n",
       "      <td>37.137946</td>\n",
       "      <td>(37.1379463, 127.0763048)</td>\n",
       "    </tr>\n",
       "    <tr>\n",
       "      <th>2</th>\n",
       "      <td>2</td>\n",
       "      <td>밀머리로</td>\n",
       "      <td>메디마트 앞</td>\n",
       "      <td>0</td>\n",
       "      <td>3.6</td>\n",
       "      <td>5.4</td>\n",
       "      <td>Y</td>\n",
       "      <td>Y</td>\n",
       "      <td>127.075092</td>\n",
       "      <td>37.141466</td>\n",
       "      <td>(37.1414665, 127.0750925)</td>\n",
       "    </tr>\n",
       "    <tr>\n",
       "      <th>3</th>\n",
       "      <td>3</td>\n",
       "      <td>오산로</td>\n",
       "      <td>다인하우스 앞</td>\n",
       "      <td>10</td>\n",
       "      <td>3.6</td>\n",
       "      <td>10.0</td>\n",
       "      <td>Y</td>\n",
       "      <td>Y</td>\n",
       "      <td>127.071169</td>\n",
       "      <td>37.143833</td>\n",
       "      <td>(37.1438328, 127.071169)</td>\n",
       "    </tr>\n",
       "    <tr>\n",
       "      <th>4</th>\n",
       "      <td>4</td>\n",
       "      <td>운천로</td>\n",
       "      <td>운천고등학교 앞</td>\n",
       "      <td>10</td>\n",
       "      <td>3.6</td>\n",
       "      <td>6.0</td>\n",
       "      <td>Y</td>\n",
       "      <td>Y</td>\n",
       "      <td>127.080466</td>\n",
       "      <td>37.155872</td>\n",
       "      <td>(37.155872, 127.0804662)</td>\n",
       "    </tr>\n",
       "  </tbody>\n",
       "</table>\n",
       "</div>"
      ],
      "text/plain": [
       "   index   도로명      설치장소명  과속방지턱높이  과속방지턱폭  과속방지턱연장 보차분리여부 연속형여부         lon  \\\n",
       "0      0   오산로      소망빌 앞       10     3.6      5.4      N     Y  127.068954   \n",
       "1      1  동부대로  태영철강재공장 앞       10     3.6      5.0      N     Y  127.076305   \n",
       "2      2  밀머리로     메디마트 앞        0     3.6      5.4      Y     Y  127.075092   \n",
       "3      3   오산로    다인하우스 앞       10     3.6     10.0      Y     Y  127.071169   \n",
       "4      4   운천로   운천고등학교 앞       10     3.6      6.0      Y     Y  127.080466   \n",
       "\n",
       "         lat                   geometry  \n",
       "0  37.130852  (37.1308521, 127.0689542)  \n",
       "1  37.137946  (37.1379463, 127.0763048)  \n",
       "2  37.141466  (37.1414665, 127.0750925)  \n",
       "3  37.143833   (37.1438328, 127.071169)  \n",
       "4  37.155872   (37.155872, 127.0804662)  "
      ]
     },
     "execution_count": 18,
     "metadata": {},
     "output_type": "execute_result"
    }
   ],
   "source": [
    "bump=pd.read_csv('bump.csv')\n",
    "bump['geometry'] = list(zip(bump['lat'], bump['lon']))\n",
    "bump.head()"
   ]
  },
  {
   "cell_type": "code",
   "execution_count": 19,
   "metadata": {},
   "outputs": [],
   "source": [
    "def nearest_bump(lat, lon, radi, refer_data, idx = False):\n",
    "    dist = refer_data[['index','geometry']].apply(lambda x: (geodesic((lat, lon), x[1]).m, x[0]), axis = 1)\n",
    "    dist = min(dist, key = lambda x :x[0])\n",
    "                                        \n",
    "    if idx:\n",
    "        return dist\n",
    "    else:\n",
    "        return dist[0]"
   ]
  },
  {
   "cell_type": "markdown",
   "metadata": {},
   "source": [
    "## -check"
   ]
  },
  {
   "cell_type": "code",
   "execution_count": 20,
   "metadata": {},
   "outputs": [
    {
     "data": {
      "text/plain": [
       "(331.9926124415689, 22)"
      ]
     },
     "execution_count": 20,
     "metadata": {},
     "output_type": "execute_result"
    }
   ],
   "source": [
    "radi=1\n",
    "nearest_bump(crawled_df['lat'][0], crawled_df['lon'][0], radi, refer_data=bump, idx=True)"
   ]
  },
  {
   "cell_type": "markdown",
   "metadata": {},
   "source": [
    "# 5. 불법주정차"
   ]
  },
  {
   "cell_type": "code",
   "execution_count": 21,
   "metadata": {},
   "outputs": [
    {
     "data": {
      "text/html": [
       "<div>\n",
       "<style scoped>\n",
       "    .dataframe tbody tr th:only-of-type {\n",
       "        vertical-align: middle;\n",
       "    }\n",
       "\n",
       "    .dataframe tbody tr th {\n",
       "        vertical-align: top;\n",
       "    }\n",
       "\n",
       "    .dataframe thead th {\n",
       "        text-align: right;\n",
       "    }\n",
       "</style>\n",
       "<table border=\"1\" class=\"dataframe\">\n",
       "  <thead>\n",
       "    <tr style=\"text-align: right;\">\n",
       "      <th></th>\n",
       "      <th>단속일자</th>\n",
       "      <th>단속위치</th>\n",
       "      <th>행정구역</th>\n",
       "      <th>스쿨존여부</th>\n",
       "      <th>lon</th>\n",
       "      <th>lat</th>\n",
       "      <th>단속종류</th>\n",
       "      <th>geometry</th>\n",
       "    </tr>\n",
       "  </thead>\n",
       "  <tbody>\n",
       "    <tr>\n",
       "      <th>0</th>\n",
       "      <td>20181101</td>\n",
       "      <td>금암동 여계산로 부근</td>\n",
       "      <td>경기도 오산시 세교동</td>\n",
       "      <td>N</td>\n",
       "      <td>127.043462</td>\n",
       "      <td>37.170237</td>\n",
       "      <td>이동형CCTV단속</td>\n",
       "      <td>(37.170237, 127.043462)</td>\n",
       "    </tr>\n",
       "    <tr>\n",
       "      <th>1</th>\n",
       "      <td>20181101</td>\n",
       "      <td>세교동 세마역로19번길</td>\n",
       "      <td>경기도 오산시 세교동</td>\n",
       "      <td>N</td>\n",
       "      <td>127.044770</td>\n",
       "      <td>37.181695</td>\n",
       "      <td>이동형CCTV단속</td>\n",
       "      <td>(37.181695, 127.04477)</td>\n",
       "    </tr>\n",
       "    <tr>\n",
       "      <th>2</th>\n",
       "      <td>20181101</td>\n",
       "      <td>세교동 수목원로 부근</td>\n",
       "      <td>경기도 오산시 양산동</td>\n",
       "      <td>N</td>\n",
       "      <td>127.042200</td>\n",
       "      <td>37.186357</td>\n",
       "      <td>이동형CCTV단속</td>\n",
       "      <td>(37.186357, 127.0422)</td>\n",
       "    </tr>\n",
       "    <tr>\n",
       "      <th>3</th>\n",
       "      <td>20181101</td>\n",
       "      <td>오산동 오산로272번길 부</td>\n",
       "      <td>경기도 오산시 원동</td>\n",
       "      <td>N</td>\n",
       "      <td>127.071732</td>\n",
       "      <td>37.150557</td>\n",
       "      <td>이동형CCTV단속</td>\n",
       "      <td>(37.150557, 127.07173200000001)</td>\n",
       "    </tr>\n",
       "    <tr>\n",
       "      <th>4</th>\n",
       "      <td>20181101</td>\n",
       "      <td>오산동 성호대로93번길</td>\n",
       "      <td>경기도 오산시 부산동</td>\n",
       "      <td>N</td>\n",
       "      <td>127.071757</td>\n",
       "      <td>37.150457</td>\n",
       "      <td>이동형CCTV단속</td>\n",
       "      <td>(37.150457, 127.071757)</td>\n",
       "    </tr>\n",
       "  </tbody>\n",
       "</table>\n",
       "</div>"
      ],
      "text/plain": [
       "       단속일자            단속위치         행정구역 스쿨존여부         lon        lat  \\\n",
       "0  20181101     금암동 여계산로 부근  경기도 오산시 세교동     N  127.043462  37.170237   \n",
       "1  20181101    세교동 세마역로19번길  경기도 오산시 세교동     N  127.044770  37.181695   \n",
       "2  20181101     세교동 수목원로 부근  경기도 오산시 양산동     N  127.042200  37.186357   \n",
       "3  20181101  오산동 오산로272번길 부   경기도 오산시 원동     N  127.071732  37.150557   \n",
       "4  20181101    오산동 성호대로93번길  경기도 오산시 부산동     N  127.071757  37.150457   \n",
       "\n",
       "        단속종류                         geometry  \n",
       "0  이동형CCTV단속          (37.170237, 127.043462)  \n",
       "1  이동형CCTV단속           (37.181695, 127.04477)  \n",
       "2  이동형CCTV단속            (37.186357, 127.0422)  \n",
       "3  이동형CCTV단속  (37.150557, 127.07173200000001)  \n",
       "4  이동형CCTV단속          (37.150457, 127.071757)  "
      ]
     },
     "execution_count": 21,
     "metadata": {},
     "output_type": "execute_result"
    }
   ],
   "source": [
    "parking=pd.read_csv('parking.csv')\n",
    "parking['geometry'] = list(zip(parking['lat'], parking['lon']))\n",
    "parking.head()"
   ]
  },
  {
   "cell_type": "code",
   "execution_count": 22,
   "metadata": {},
   "outputs": [],
   "source": [
    "def parking_count(lat, lon, radi, refer_data, idx=False):\n",
    "  \"\"\"\n",
    "  input: origin lat lon, radi(km)\n",
    "  output: following point count\n",
    "  optional: (idx of point, count)\n",
    "  \"\"\"\n",
    "\n",
    "  #apply\n",
    "  bool_mask = refer_data['geometry'].apply(lambda x: geodesic((lat, lon),x).meters <= radi)\n",
    "  if idx:\n",
    "    return refer_data[bool_mask].index, sum(bool_mask)\n",
    "  else:\n",
    "    return sum(bool_mask)"
   ]
  },
  {
   "cell_type": "markdown",
   "metadata": {},
   "source": [
    "## -check"
   ]
  },
  {
   "cell_type": "code",
   "execution_count": 23,
   "metadata": {
    "scrolled": true
   },
   "outputs": [
    {
     "data": {
      "text/plain": [
       "215"
      ]
     },
     "execution_count": 23,
     "metadata": {},
     "output_type": "execute_result"
    }
   ],
   "source": [
    "parking_count(crawled_df['lat'][0], crawled_df['lon'][0], 100, refer_data=parking, idx=False)"
   ]
  },
  {
   "cell_type": "markdown",
   "metadata": {},
   "source": [
    "# 5-1. cctv 1개당 평균 불법주정차 단속 건수"
   ]
  },
  {
   "cell_type": "code",
   "execution_count": 24,
   "metadata": {},
   "outputs": [
    {
     "data": {
      "text/html": [
       "<div>\n",
       "<style scoped>\n",
       "    .dataframe tbody tr th:only-of-type {\n",
       "        vertical-align: middle;\n",
       "    }\n",
       "\n",
       "    .dataframe tbody tr th {\n",
       "        vertical-align: top;\n",
       "    }\n",
       "\n",
       "    .dataframe thead th {\n",
       "        text-align: right;\n",
       "    }\n",
       "</style>\n",
       "<table border=\"1\" class=\"dataframe\">\n",
       "  <thead>\n",
       "    <tr style=\"text-align: right;\">\n",
       "      <th></th>\n",
       "      <th>lat</th>\n",
       "      <th>lon</th>\n",
       "      <th>geometry</th>\n",
       "    </tr>\n",
       "  </thead>\n",
       "  <tbody>\n",
       "    <tr>\n",
       "      <th>0</th>\n",
       "      <td>37.159313</td>\n",
       "      <td>127.059357</td>\n",
       "      <td>(37.159313399999995, 127.0593574)</td>\n",
       "    </tr>\n",
       "    <tr>\n",
       "      <th>1</th>\n",
       "      <td>37.145409</td>\n",
       "      <td>127.067796</td>\n",
       "      <td>(37.1454094, 127.06779640000002)</td>\n",
       "    </tr>\n",
       "    <tr>\n",
       "      <th>2</th>\n",
       "      <td>37.159198</td>\n",
       "      <td>127.062386</td>\n",
       "      <td>(37.159197799999994, 127.06238570000001)</td>\n",
       "    </tr>\n",
       "    <tr>\n",
       "      <th>3</th>\n",
       "      <td>37.158559</td>\n",
       "      <td>127.061920</td>\n",
       "      <td>(37.1585588, 127.0619202)</td>\n",
       "    </tr>\n",
       "    <tr>\n",
       "      <th>4</th>\n",
       "      <td>37.156216</td>\n",
       "      <td>127.077991</td>\n",
       "      <td>(37.1562159, 127.07799080000001)</td>\n",
       "    </tr>\n",
       "  </tbody>\n",
       "</table>\n",
       "</div>"
      ],
      "text/plain": [
       "         lat         lon                                  geometry\n",
       "0  37.159313  127.059357         (37.159313399999995, 127.0593574)\n",
       "1  37.145409  127.067796          (37.1454094, 127.06779640000002)\n",
       "2  37.159198  127.062386  (37.159197799999994, 127.06238570000001)\n",
       "3  37.158559  127.061920                 (37.1585588, 127.0619202)\n",
       "4  37.156216  127.077991          (37.1562159, 127.07799080000001)"
      ]
     },
     "execution_count": 24,
     "metadata": {},
     "output_type": "execute_result"
    }
   ],
   "source": [
    "parking_cctv=pd.read_csv('parking_cctv.csv')\n",
    "parking_cctv['geometry'] = list(zip(parking_cctv['lat'], parking_cctv['lon']))\n",
    "parking_cctv.head()"
   ]
  },
  {
   "cell_type": "code",
   "execution_count": 28,
   "metadata": {},
   "outputs": [],
   "source": [
    "def parking_avg(lat, lon, radi, refer_data1, refer_data2, idx=False):\n",
    "  \"\"\"\n",
    "  input: origin lat lon, radi(km)\n",
    "  output: following point count\n",
    "  optional: (idx of point, count)\n",
    "  \"\"\"\n",
    "\n",
    "  #apply\n",
    "  bool_mask1 = refer_data1['geometry'].apply(lambda x: geodesic((lat, lon),x).meters <= radi)\n",
    "  bool_mask2 = refer_data2['geometry'].apply(lambda x: geodesic((lat, lon),x).meters <= radi)\n",
    "\n",
    "  if idx:\n",
    "    return refer_data1[bool_mask1].index, refer_data2[bool_mask2].index, sum(bool_mask1)/sum(bool_mask2)\n",
    "  else:\n",
    "    return sum(bool_mask1)/sum(bool_mask2)"
   ]
  },
  {
   "cell_type": "code",
   "execution_count": 29,
   "metadata": {},
   "outputs": [
    {
     "data": {
      "text/plain": [
       "107.5"
      ]
     },
     "execution_count": 29,
     "metadata": {},
     "output_type": "execute_result"
    }
   ],
   "source": [
    "parking_avg(crawled_df['lat'][0], crawled_df['lon'][0], 100, refer_data1=parking, refer_data2=parking_cctv, idx=False)"
   ]
  }
 ],
 "metadata": {
  "kernelspec": {
   "display_name": "Python 3",
   "language": "python",
   "name": "python3"
  },
  "language_info": {
   "codemirror_mode": {
    "name": "ipython",
    "version": 3
   },
   "file_extension": ".py",
   "mimetype": "text/x-python",
   "name": "python",
   "nbconvert_exporter": "python",
   "pygments_lexer": "ipython3",
   "version": "3.7.6"
  }
 },
 "nbformat": 4,
 "nbformat_minor": 4
}
