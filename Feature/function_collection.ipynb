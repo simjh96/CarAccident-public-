{
 "cells": [
  {
   "cell_type": "markdown",
   "metadata": {},
   "source": [
    "## data integration"
   ]
  },
  {
   "cell_type": "code",
   "execution_count": 1,
   "metadata": {
    "ExecuteTime": {
     "end_time": "2021-01-19T12:08:58.872624Z",
     "start_time": "2021-01-19T12:08:58.851652Z"
    }
   },
   "outputs": [
    {
     "ename": "ModuleNotFoundError",
     "evalue": "No module named 'geopandas'",
     "output_type": "error",
     "traceback": [
      "\u001b[1;31m---------------------------------------------------------------------------\u001b[0m",
      "\u001b[1;31mModuleNotFoundError\u001b[0m                       Traceback (most recent call last)",
      "\u001b[1;32m<ipython-input-1-d0042b90dad6>\u001b[0m in \u001b[0;36m<module>\u001b[1;34m\u001b[0m\n\u001b[0;32m     23\u001b[0m \u001b[1;32mimport\u001b[0m \u001b[0mfolium\u001b[0m\u001b[1;33m\u001b[0m\u001b[1;33m\u001b[0m\u001b[0m\n\u001b[0;32m     24\u001b[0m \u001b[1;32mfrom\u001b[0m \u001b[0mfolium\u001b[0m \u001b[1;32mimport\u001b[0m \u001b[0mplugins\u001b[0m\u001b[1;33m\u001b[0m\u001b[1;33m\u001b[0m\u001b[0m\n\u001b[1;32m---> 25\u001b[1;33m \u001b[1;32mimport\u001b[0m \u001b[0mgeopandas\u001b[0m \u001b[1;32mas\u001b[0m \u001b[0mgpd\u001b[0m\u001b[1;33m\u001b[0m\u001b[1;33m\u001b[0m\u001b[0m\n\u001b[0m\u001b[0;32m     26\u001b[0m \u001b[1;32mimport\u001b[0m \u001b[0mnumpy\u001b[0m \u001b[1;32mas\u001b[0m \u001b[0mnp\u001b[0m\u001b[1;33m\u001b[0m\u001b[1;33m\u001b[0m\u001b[0m\n\u001b[0;32m     27\u001b[0m \u001b[1;32mimport\u001b[0m \u001b[0mpandas\u001b[0m \u001b[1;32mas\u001b[0m \u001b[0mpd\u001b[0m\u001b[1;33m\u001b[0m\u001b[1;33m\u001b[0m\u001b[0m\n",
      "\u001b[1;31mModuleNotFoundError\u001b[0m: No module named 'geopandas'"
     ]
    }
   ],
   "source": [
    "import warnings\n",
    "warnings.filterwarnings(action='ignore')\n",
    "from functools import partial\n",
    "from shapely import ops\n",
    "import pyproj\n",
    "import json, math\n",
    "import matplotlib.pyplot as plt\n",
    "from folium import plugins\n",
    "import re\n",
    "from matplotlib import font_manager, rc, rcParams\n",
    "# def set_korea_font():\n",
    "#     font_name = font_manager.FontProperties(fname=\"/System/Library/Fonts/Supplemental/AppleGothic.ttf\").get_name()\n",
    "#     rc('font', family=font_name)\n",
    "#     rcParams.update({'font.size': 11})\n",
    "#     rcParams['axes.unicode_minus'] = False  \n",
    "# set_korea_font()\n",
    "from shapely.geometry import Point as shapely_Point\n",
    "from geopy.distance import great_circle as distance\n",
    "from geopy.point import Point as Point\n",
    "from math import sin, cos, atan2, sqrt, degrees, radians, pi\n",
    "\n",
    "from geopy.distance import geodesic\n",
    "import folium\n",
    "from folium import plugins\n",
    "import geopandas as gpd\n",
    "import numpy as np\n",
    "import pandas as pd\n",
    "import shapely\n",
    "import os\n",
    "import datetime\n",
    "\n",
    "#reproject import 필요\n",
    "\n",
    "os.chdir('./data')\n",
    "\n",
    "def reproject(geom, from_proj=None, to_proj=None):\n",
    "    tfm = partial(pyproj.transform, pyproj.Proj(init=from_proj), pyproj.Proj(init=to_proj))\n",
    "    return ops.transform(tfm, geom)"
   ]
  },
  {
   "cell_type": "code",
   "execution_count": 2,
   "metadata": {
    "ExecuteTime": {
     "end_time": "2021-01-19T11:47:52.342168Z",
     "start_time": "2021-01-19T11:47:52.323217Z"
    }
   },
   "outputs": [
    {
     "data": {
      "text/plain": [
       "'/Users/jominju/Desktop/대학교/contest/Car_Accident/Feature/data'"
      ]
     },
     "execution_count": 2,
     "metadata": {},
     "output_type": "execute_result"
    }
   ],
   "source": [
    "os.getcwd()"
   ]
  },
  {
   "cell_type": "markdown",
   "metadata": {},
   "source": [
    "### 홍익선\n",
    "1. 과속단속 카메라 개수\n",
    "2. 유동인구 평균\n",
    "3. 법규위반\n",
    "4. 과속방지턱\n",
    "5. 불법주정차\n",
    "    - cctv 1개당 평균 불법주정차 단속 건수\n",
    "    \n",
    "### 조민주\n",
    "1. 차량등록현황\n",
    "2. 어린이 거주인구\n",
    "\t- 어린이 거주 비율\n",
    "3. 주변 학교/어린이집 개수\n",
    "4. 스쿨존 여부\n",
    "5. 스쿨존 중복 포함 개수\n",
    "\n",
    "### 심재훈\n",
    "1. 사고 개수\n",
    "2. 혼잡빈도\n",
    "3. 너비\n",
    "4. 교차로\n",
    "\n",
    "### 이재훈\n",
    "1. 학원 개수\n",
    "2. 횡단보도 갯수\n",
    "3. 신호등 갯수\n",
    "4. 인도 여부"
   ]
  },
  {
   "cell_type": "markdown",
   "metadata": {},
   "source": [
    "### data import"
   ]
  },
  {
   "cell_type": "code",
   "execution_count": 3,
   "metadata": {
    "ExecuteTime": {
     "end_time": "2021-01-19T11:57:45.039184Z",
     "start_time": "2021-01-19T11:57:42.854434Z"
    }
   },
   "outputs": [],
   "source": [
    "#tab에서 찾기 편하게 모든 단어에 _count_ 붙음\n",
    "#refer_data 는 data_set['function name']\n",
    "#홍익선\n",
    "overspeed_cam_count_ = pd.read_csv('overspeed_cam.csv')\n",
    "floating_pop_count_ = pd.read_csv('floating_pop.csv')\n",
    "child_pedestrian_count_ = pd.read_csv('child_pedestrian.csv')\n",
    "bump_count_ = pd.read_csv('bump.csv')\n",
    "parking_count_ = pd.read_csv('parking.csv')\n",
    "parking_cctv_count_ = [parking_count_, pd.read_csv('parking_cctv.csv')]\n",
    "\n",
    "#조민주\n",
    "car_count_ = gpd.read_file(\"3.오산시_차량등록현황_격자.geojson\", encoding = \"utf-8\")\n",
    "child_count_ = gpd.read_file(\"child_count.geojson\", encoding = \"utf-8\")\n",
    "child_rate_count_ = gpd.read_file(\"child_rate.geojson\", encoding = \"utf-8\")\n",
    "elem_kinder_count_ = gpd.read_file(\"elem_kinder_count.csv\", encoding = \"utf-8\")\n",
    "isSchoolZone_count_ = pd.read_csv(\"9.오산시_어린이보호구역(re).csv\", encoding = \"utf-8\")\n",
    "numberSchoolZone_count_ = isSchoolZone_count_\n",
    "\n",
    "#심재훈\n",
    "accident_count_ = pd.read_csv(\"accident_count.csv\")\n",
    "chaos1_nearby_count_ = [gpd.read_file('23.오산시_상세도로망_LV6.geojson'),\n",
    "                 pd.read_csv('chaos1.csv')]\n",
    "width_nearby_count_ = gpd.read_file('23.오산시_상세도로망_LV6.geojson')\n",
    "cross_road_nearby_count_ = width_nearby_count_\n",
    "\n",
    "#이재훈\n",
    "num_cram_school_count_ = pd.read_csv(\"학원.csv\")\n",
    "shortest_cross_count_ = gpd.read_file(\"횡단보도.json\",encoding=\"utf-8\")\n",
    "shortest_traffic_signal_count_ = gpd.read_file('19.오산시_신호등.geojson',encoding=\"utf-8\")\n",
    "shortest_sidewalk_count_ =  gpd.read_file(\"인도.json\",encoding=\"utf-8\")\n",
    "\n",
    "\n",
    "data_set = {\n",
    "'overspeed_cam_count': overspeed_cam_count_,\n",
    "'floating_pop_count':floating_pop_count_,\n",
    "'child_pedestrian_count':child_pedestrian_count_,\n",
    "'bump_count':bump_count_,\n",
    "'parking_count':parking_count_,\n",
    "'parking_cctv_count':parking_cctv_count_,\n",
    "'car_count':car_count_,\n",
    "'child_count':child_count_,\n",
    "'child_rate_count':child_rate_count_,\n",
    "'elem_kinder_count':elem_kinder_count_,\n",
    "'isSchoolZone_count':isSchoolZone_count_,\n",
    "'numberSchoolZone_count':numberSchoolZone_count_,\n",
    "'accident_count':accident_count_,\n",
    "'chaos1_nearby_count':chaos1_nearby_count_,\n",
    "'width_nearby_count':width_nearby_count_,\n",
    "'cross_road_nearby_count':cross_road_nearby_count_,\n",
    "'num_cram_school_count':num_cram_school_count_,\n",
    "'shortest_cross_count':shortest_cross_count_,\n",
    "'shortest_traffic_signal_count':shortest_traffic_signal_count_,\n",
    "'shortest_sidewalk_count':shortest_sidewalk_count_,\n",
    "}\n",
    "\n",
    "#only <= 12\n",
    "data_set['accident_count'].loc[:,'가해운전자 연령'] = data_set['accident_count'].loc[:,'가해운전자 연령'].apply(lambda x: int(x[:-1]) if x[:-1].isnumeric() else 999)\n",
    "data_set['accident_count'].loc[:,'피해운전자 연령'] = data_set['accident_count'].loc[:,'피해운전자 연령'].apply(lambda x: int(x[:-1]) if str(x)[:-1].isnumeric() else 999)\n",
    "\n",
    "mask1 = data_set['accident_count'].loc[:,'가해운전자 연령'] <= 12\n",
    "mask2 = data_set['accident_count'].loc[:,'피해운전자 연령'] <= 12\n",
    "\n",
    "data_set['accident_count'] = data_set['accident_count'].loc[mask1|mask2]\n",
    "data_set['accident_count'].index = range(len(data_set['accident_count']))"
   ]
  },
  {
   "cell_type": "code",
   "execution_count": 4,
   "metadata": {
    "ExecuteTime": {
     "end_time": "2021-01-19T11:57:46.243478Z",
     "start_time": "2021-01-19T11:57:46.229513Z"
    }
   },
   "outputs": [],
   "source": [
    "#tuple이 str으로 저장되는 문제\n",
    "def _str_to_tuple(string):\n",
    "  \"\"\"\n",
    "  input: multilinestring object\n",
    "  output: arr_cords; lon, lat\n",
    "  ex) multiline_to_arr_cords(road_gdf.loc[0].geometry)\n",
    "  \"\"\"\n",
    "  return re.findall(r'\\d+\\.\\d+',string)"
   ]
  },
  {
   "cell_type": "markdown",
   "metadata": {},
   "source": [
    "## 홍익선"
   ]
  },
  {
   "cell_type": "markdown",
   "metadata": {},
   "source": [
    "## 1. 과속단속 카메라 개수"
   ]
  },
  {
   "cell_type": "code",
   "execution_count": 5,
   "metadata": {
    "ExecuteTime": {
     "end_time": "2021-01-19T11:57:47.367569Z",
     "start_time": "2021-01-19T11:57:47.352608Z"
    }
   },
   "outputs": [],
   "source": [
    "def overspeed_cam_count(lat, lon, radi, refer_data, idx=False):\n",
    "  \"\"\"\n",
    "  input: origin lat lon, radi(m)\n",
    "  output: following point count\n",
    "  optional: (idx of point, count)\n",
    "  \"\"\"\n",
    "  if (type(refer_data['geometry'][0]) == str):\n",
    "    refer_data['geometry'] = refer_data['geometry'].apply(_str_to_tuple)\n",
    "  #apply\n",
    "  bool_mask = refer_data['geometry'].apply(lambda x: geodesic((lat, lon),x).meters <= radi)\n",
    "  if idx:\n",
    "    return refer_data[bool_mask].index, sum(bool_mask)\n",
    "  else:\n",
    "    return sum(bool_mask)"
   ]
  },
  {
   "cell_type": "markdown",
   "metadata": {},
   "source": [
    "## 2. 유동인구 평균"
   ]
  },
  {
   "cell_type": "code",
   "execution_count": 6,
   "metadata": {
    "ExecuteTime": {
     "end_time": "2021-01-19T12:33:39.948382Z",
     "start_time": "2021-01-19T12:33:39.936421Z"
    }
   },
   "outputs": [],
   "source": [
    "def floating_pop_count(lat, lon, radi, refer_data, idx=False):\n",
    "  \"\"\"\n",
    "  input: origin lat lon, radi(km)\n",
    "  output: following point count\n",
    "  optional: (idx of point, count)\n",
    "  \"\"\"\n",
    "  if (type(refer_data['geometry'][0]) == str):\n",
    "    refer_data['geometry'] = refer_data['geometry'].apply(_str_to_tuple)\n",
    "  #apply\n",
    "  bool_mask = refer_data['geometry'].apply(lambda x: geodesic((lat, lon), x).m <= radi)\n",
    "  if idx:\n",
    "    return refer_data[bool_mask].index, refer_data['mean'][bool_mask].mean()\n",
    "  else:\n",
    "    return refer_data['mean'][bool_mask].mean()"
   ]
  },
  {
   "cell_type": "markdown",
   "metadata": {},
   "source": [
    "## 3. 법규위반"
   ]
  },
  {
   "cell_type": "code",
   "execution_count": 7,
   "metadata": {
    "ExecuteTime": {
     "end_time": "2021-01-19T11:57:49.524515Z",
     "start_time": "2021-01-19T11:57:49.513545Z"
    }
   },
   "outputs": [],
   "source": [
    "#어린이 보행/자전거 전체 사고 횟수\n",
    "def child_pedestrian_count(lat, lon, radi, refer_data, typ = 'all', idx=False):\n",
    "  \"\"\"\n",
    "  input: origin lat lon, radi(m), typ\n",
    "  typ = 'all', '안전운전불이행','보행자보호의무위반', '신호위반'\n",
    "  \n",
    "  output: following point count\n",
    "  optional: (idx of point, count)\n",
    "  \"\"\"\n",
    "  if (type(refer_data['geometry'][0]) == str):\n",
    "    refer_data['geometry'] = refer_data['geometry'].apply(_str_to_tuple)\n",
    "  #apply\n",
    "  if typ != 'all':\n",
    "    refer_data = refer_data.loc[refer_data.법규위반==typ]\n",
    "  bool_mask = refer_data['geometry'].apply(lambda x: geodesic((lat, lon),x).meters <= radi)\n",
    "  if idx:\n",
    "    return refer_data[bool_mask].index, sum(bool_mask)\n",
    "  else:\n",
    "    return sum(bool_mask)"
   ]
  },
  {
   "cell_type": "markdown",
   "metadata": {},
   "source": [
    "## 4. 과속방지턱"
   ]
  },
  {
   "cell_type": "code",
   "execution_count": 8,
   "metadata": {
    "ExecuteTime": {
     "end_time": "2021-01-19T11:57:50.544720Z",
     "start_time": "2021-01-19T11:57:50.530726Z"
    }
   },
   "outputs": [],
   "source": [
    "def bump_count(lat, lon, radi, refer_data, idx = False):\n",
    "    if (type(refer_data['geometry'][0]) == str):\n",
    "        refer_data['geometry'] = refer_data['geometry'].apply(_str_to_tuple)\n",
    "    dist = refer_data[['index','geometry']].apply(lambda x: (geodesic((lat, lon), x[1]).m, x[0]), axis = 1)\n",
    "    dist = min(dist, key = lambda x :x[0])\n",
    "                                        \n",
    "    if idx:\n",
    "        return dist\n",
    "    else:\n",
    "        return dist[0]"
   ]
  },
  {
   "cell_type": "markdown",
   "metadata": {},
   "source": [
    "## 5. 불법주정차"
   ]
  },
  {
   "cell_type": "code",
   "execution_count": 9,
   "metadata": {
    "ExecuteTime": {
     "end_time": "2021-01-19T11:57:51.579415Z",
     "start_time": "2021-01-19T11:57:51.564456Z"
    }
   },
   "outputs": [],
   "source": [
    "def parking_count(lat, lon, radi, refer_data, idx=False):\n",
    "  \"\"\"\n",
    "  input: origin lat lon, radi(km)\n",
    "  output: following point count\n",
    "  optional: (idx of point, count)\n",
    "  \"\"\"\n",
    "  if (type(refer_data['geometry'][0]) == str):\n",
    "    refer_data['geometry'] = refer_data['geometry'].apply(_str_to_tuple)\n",
    "  #apply\n",
    "  bool_mask = refer_data['geometry'].apply(lambda x: geodesic((lat, lon),x).meters <= radi)\n",
    "  if idx:\n",
    "    return refer_data[bool_mask].index, sum(bool_mask)\n",
    "  else:\n",
    "    return sum(bool_mask)"
   ]
  },
  {
   "cell_type": "markdown",
   "metadata": {},
   "source": [
    "## 5-1. cctv 1개당 평균 불법주정차 단속 건수"
   ]
  },
  {
   "cell_type": "code",
   "execution_count": 10,
   "metadata": {
    "ExecuteTime": {
     "end_time": "2021-01-19T12:04:20.762998Z",
     "start_time": "2021-01-19T12:04:20.755987Z"
    }
   },
   "outputs": [],
   "source": [
    "def parking_cctv_count(lat, lon, radi, refer_data, idx=False):\n",
    "  \"\"\"\n",
    "  cctv 1개당 평균 불법주정차 단속 건수\n",
    "  input: origin lat lon, radi(km)\n",
    "  output: following point count\n",
    "  optional: (idx of point, count)\n",
    "  \"\"\"\n",
    "  refer_data1, refer_data2 = refer_data[0], refer_data[1]\n",
    "  if (type(refer_data1['geometry'][0]) == str):\n",
    "    refer_data1['geometry'] = refer_data1['geometry'].apply(_str_to_tuple)\n",
    "  if (type(refer_data2['geometry'][0]) == str):\n",
    "    refer_data2['geometry'] = refer_data2['geometry'].apply(_str_to_tuple)\n",
    "    \n",
    "    \n",
    "  #apply\n",
    "  bool_mask1 = refer_data1['geometry'].apply(lambda x: geodesic((lat, lon),x).meters <= radi)\n",
    "  bool_mask2 = refer_data2['geometry'].apply(lambda x: geodesic((lat, lon),x).meters <= radi)\n",
    "\n",
    "  try:    \n",
    "    result = sum(bool_mask1)/sum(bool_mask2)\n",
    "  except:\n",
    "    result = np.nan\n",
    "  if idx:\n",
    "    return refer_data1[bool_mask1].index, refer_data2[bool_mask2].index, result\n",
    "  else:\n",
    "    return result"
   ]
  },
  {
   "cell_type": "markdown",
   "metadata": {},
   "source": [
    "## 조민주"
   ]
  },
  {
   "cell_type": "code",
   "execution_count": 11,
   "metadata": {
    "ExecuteTime": {
     "end_time": "2021-01-19T11:57:52.629851Z",
     "start_time": "2021-01-19T11:57:52.615890Z"
    }
   },
   "outputs": [],
   "source": [
    "osan = (37.1623799231016, 127.05436890115905)"
   ]
  },
  {
   "cell_type": "code",
   "execution_count": 12,
   "metadata": {
    "ExecuteTime": {
     "end_time": "2021-01-19T11:57:52.660770Z",
     "start_time": "2021-01-19T11:57:52.631847Z"
    }
   },
   "outputs": [],
   "source": [
    "#from https://medium.com/analytics-vidhya/calculating-distances-from-points-to-polygon-borders-in-python-a-paris-example-3b597e1ea291\n",
    "def midpoint(a, b):\n",
    "    a_lat, a_lon = radians(a.latitude), radians(a.longitude)\n",
    "    b_lat, b_lon = radians(b.latitude), radians(b.longitude)\n",
    "    delta_lon = b_lon - a_lon\n",
    "    B_x = cos(b_lat) * cos(delta_lon)\n",
    "    B_y = cos(b_lat) * sin(delta_lon)\n",
    "    mid_lat = atan2(\n",
    "        sin(a_lat) + sin(b_lat),\n",
    "        sqrt(((cos(a_lat) + B_x) ** 2 + B_y ** 2))\n",
    "    )\n",
    "    mid_lon = a_lon + atan2(B_y, cos(a_lat) + B_x)\n",
    "    # Normalise\n",
    "    mid_lon = (mid_lon + 3 * pi) % (2 * pi) - pi\n",
    "\n",
    "    return Point(latitude=degrees(mid_lat), longitude=degrees(mid_lon))\n",
    "\n",
    "def get_line_midpoint(line):\n",
    "    a = Point(line[0])\n",
    "    b = Point(line[1])\n",
    "\n",
    "    return midpoint(a,b)\n",
    "\n",
    "\n",
    "def calculate_dist_to_line(line_a_lat, line_a_lng, line_b_lat, line_b_lng, point_object):\n",
    "    a = Point(latitude=line_a_lat, longitude=line_a_lng)\n",
    "    b = Point(latitude=line_b_lat, longitude=line_b_lng)\n",
    "    dist = distance(midpoint(a, b), point_object)\n",
    "    return dist\n",
    "\n",
    "\n",
    "def get_min_distance_to_arr(arr_coords, point_object, unit='m'):\n",
    "    min_dist = 999999\n",
    "    line=[]\n",
    "    for i, _ in enumerate(arr_coords):\n",
    "        if i + 1 < len(arr_coords):\n",
    "            dist = calculate_dist_to_line(\n",
    "                line_a_lat=arr_coords[i][1],\n",
    "                line_a_lng=arr_coords[i][0],\n",
    "                line_b_lat=arr_coords[i + 1][1],\n",
    "                line_b_lng=arr_coords[i + 1][0],\n",
    "                point_object=point_object\n",
    "            )\n",
    "            if dist < min_dist:\n",
    "                min_dist = dist\n",
    "                line = [(arr_coords[i][1], arr_coords[i][0]), (arr_coords[i + 1][1], arr_coords[i + 1][0])]\n",
    "        else:\n",
    "            dist = calculate_dist_to_line(\n",
    "                line_a_lat=arr_coords[i][1],\n",
    "                line_a_lng=arr_coords[i][0],\n",
    "                line_b_lat=arr_coords[0][1],\n",
    "                line_b_lng=arr_coords[0][0],\n",
    "                point_object=point_object\n",
    "            )\n",
    "            if dist < min_dist:\n",
    "                min_dist = dist\n",
    "                line = [(arr_coords[i][1], arr_coords[i][0]), (arr_coords[0][1], arr_coords[0][0])]\n",
    "\n",
    "    if unit == 'm':\n",
    "        return min_dist.m, line\n",
    "    elif unit == 'km':\n",
    "        return min_dist.km, line\n",
    "    else:\n",
    "        return min_dist, line\n",
    "    \n",
    "#additional interrial function\n",
    "def _multiline_to_arr_cords(mls):\n",
    "  \"\"\"\n",
    "  input: multilinestring object\n",
    "  output: arr_cords; lon, lat\n",
    "  ex) multiline_to_arr_cords(road_gdf.loc[0].geometry)\n",
    "  \"\"\"\n",
    "  arr_cords = []\n",
    "  lon_lat = re.findall(r'\\d+\\.\\d+',str(mls))\n",
    "  for i in range(0,len(lon_lat),2):\n",
    "    arr_cords.append((float(lon_lat[i]),float(lon_lat[i+1])))\n",
    "  return arr_cords\n",
    "\n",
    "#(lat, lon), (lon, lat) 자꾸 갈려서 나오네\n",
    "def _shPoint_to_list(shpoint):\n",
    "  c1, c2 = re.findall(r'\\d+\\.\\d+',str(shpoint))\n",
    "  if c1 < c2:\n",
    "    lon, lat = float(c1), float(c2)\n",
    "  else:\n",
    "    lat, lon = float(c1), float(c2)\n",
    "  return lat, lon\n",
    "\n",
    "def _list_to_gpPoint(mylist):\n",
    "  return Point(latitude=mylist[0], longitude=mylist[1])\n",
    "\n",
    "def _shPoint_to_gpPoint(shpoint):\n",
    "  mylist = _shPoint_to_list(shpoint)\n",
    "  return Point(latitude=mylist[0], longitude=mylist[1])"
   ]
  },
  {
   "cell_type": "code",
   "execution_count": 1,
   "metadata": {
    "ExecuteTime": {
     "end_time": "2021-01-19T11:57:53.696040Z",
     "start_time": "2021-01-19T11:57:53.681052Z"
    }
   },
   "outputs": [],
   "source": [
    "def road_nearby(lat, lon, radi, data):\n",
    "  \"\"\"\n",
    "  input: origin lat lon, radi(m), data(shapely multilinestring)\n",
    "  change in type: shapely(Euclidian) -> list -> geopy(Great Circle)\n",
    "  #watchout for (lat lon), (lon lat)\n",
    "  output: following roads\n",
    "  \n",
    "  #test_set\n",
    "  lat, lon = (37.14875860564099, 127.0773701360968)\n",
    "  radi = 1\n",
    "  road_nearby(lat, lon, radi, road_gdf)\n",
    "  \"\"\"\n",
    "  road_gdf = data\n",
    "  dist_array = road_gdf.geometry.apply(lambda x: get_min_distance_to_arr(_multiline_to_arr_cords(x), _shPoint_to_gpPoint((lat, lon)), unit='m')[0])\n",
    "  result = road_gdf.loc[dist_array < radi,:]\n",
    "  while (result.size == 0):\n",
    "    radi += 5\n",
    "    result = road_gdf.loc[dist_array < radi,:]\n",
    "  return result"
   ]
  },
  {
   "cell_type": "markdown",
   "metadata": {},
   "source": [
    "## 2. 차랑등록현황"
   ]
  },
  {
   "cell_type": "code",
   "execution_count": 14,
   "metadata": {
    "ExecuteTime": {
     "end_time": "2021-01-19T12:06:41.447600Z",
     "start_time": "2021-01-19T12:06:41.434635Z"
    }
   },
   "outputs": [],
   "source": [
    "def car_count(lat, lon, radi, refer_data):\n",
    "    \"\"\"\n",
    "    default unit = 'm'\n",
    "    \"\"\"   \n",
    "    distance_arr = refer_data.geometry.apply(lambda x : get_min_distance_to_arr\n",
    "                    (_multiline_to_arr_cords(x),\n",
    "                     _shPoint_to_gpPoint((lat, lon)), unit = 'm')[0])\n",
    "    sum_count = refer_data[distance_arr <= radi][\"car_cnt\"].max()\n",
    "    return sum_count"
   ]
  },
  {
   "cell_type": "markdown",
   "metadata": {},
   "source": [
    "## 3. 어린이 거주인구 "
   ]
  },
  {
   "cell_type": "code",
   "execution_count": 15,
   "metadata": {
    "ExecuteTime": {
     "end_time": "2021-01-19T11:57:56.863910Z",
     "start_time": "2021-01-19T11:57:56.849949Z"
    }
   },
   "outputs": [],
   "source": [
    "def child_count(lat, lon, radi, refer_data):\n",
    "    refer_data.val[refer_data.val.isna()] = 0\n",
    "    distance_arr = refer_data.geometry.apply(lambda x : get_min_distance_to_arr\n",
    "                    (_multiline_to_arr_cords(x),\n",
    "                     _shPoint_to_gpPoint((lat, lon)), unit = 'm')[0])\n",
    "    sum_count = refer_data[distance_arr <= radi][\"val\"].max()\n",
    "    return sum_count"
   ]
  },
  {
   "cell_type": "markdown",
   "metadata": {},
   "source": [
    "## 3.5 어린이 거주 비율 "
   ]
  },
  {
   "cell_type": "code",
   "execution_count": 16,
   "metadata": {
    "ExecuteTime": {
     "end_time": "2021-01-19T11:57:58.949870Z",
     "start_time": "2021-01-19T11:57:58.935908Z"
    }
   },
   "outputs": [],
   "source": [
    "def child_rate_count(lat, lon, radi, refer_data):\n",
    "    distance_arr = refer_data.geometry.apply(lambda x : get_min_distance_to_arr\n",
    "                    (_multiline_to_arr_cords(x),\n",
    "                     _shPoint_to_gpPoint((lat, lon)), unit = 'm')[0])\n",
    "    selected_data = refer_data[distance_arr <= radi]\n",
    "    child_rate = sum(selected_data[\"val\"])/sum(selected_data[\"total\"])\n",
    "    return child_rate"
   ]
  },
  {
   "cell_type": "markdown",
   "metadata": {},
   "source": [
    "## 4. 주변 학교/어린이집 개수"
   ]
  },
  {
   "cell_type": "code",
   "execution_count": 17,
   "metadata": {
    "ExecuteTime": {
     "end_time": "2021-01-19T11:57:58.964830Z",
     "start_time": "2021-01-19T11:57:58.950867Z"
    }
   },
   "outputs": [],
   "source": [
    "def elem_kinder_count(lat, lon, radi, refer_data, typ = 'all'):\n",
    "    \"\"\"\n",
    "    typ = 'all', '유치원과 어린이집', '초등학교'\n",
    "    \"\"\"\n",
    "    if typ != 'all':\n",
    "        refer_data = refer_data.loc[refer_data.시설구분==typ]\n",
    "    data_loc = pd.Series(list(zip(refer_data[\"시설위치_위도\"], refer_data[\"시설위치_경도\"])))\n",
    "    count_sum = data_loc.apply(lambda x: geodesic((lat, lon),x).m <= radi).sum()\n",
    "    return count_sum"
   ]
  },
  {
   "cell_type": "markdown",
   "metadata": {},
   "source": [
    "## 5. 스쿨존 여부 : isSchoolZone(lat, lon, radi, refer_data)\n",
    "### 하지만 정확한 스쿨존 범위를 모름"
   ]
  },
  {
   "cell_type": "code",
   "execution_count": 18,
   "metadata": {
    "ExecuteTime": {
     "end_time": "2021-01-19T11:58:01.145114Z",
     "start_time": "2021-01-19T11:58:01.130152Z"
    }
   },
   "outputs": [],
   "source": [
    "def isSchoolZone_count(lat, lon, radi, refer_data): # radi = 300 이지만 순서 통일을 위해 default값 지정 x\n",
    "    data_loc = pd.Series(list(zip(refer_data[\"보호구역_위도\"], refer_data[\"보호구역_경도\"])))\n",
    "    count_sum = data_loc.apply(lambda x: geodesic((lat, lon),x).m <= 300).sum()\n",
    "    return count_sum > 0"
   ]
  },
  {
   "cell_type": "markdown",
   "metadata": {},
   "source": [
    "## 5.5 몇 개의 스쿨존에 포함되는지 : numberSchoolZone(lat, lon, radi, refer_data)\n",
    "### CCTV 배치에 도움이 될 수도..?"
   ]
  },
  {
   "cell_type": "code",
   "execution_count": 19,
   "metadata": {
    "ExecuteTime": {
     "end_time": "2021-01-19T11:58:02.225185Z",
     "start_time": "2021-01-19T11:58:02.213218Z"
    }
   },
   "outputs": [],
   "source": [
    "def numberSchoolZone_count(lat, lon, radi, refer_data): # radi = 300 이지만 순서 통일을 위해 default값 지정 x\n",
    "    data_loc = pd.Series(list(zip(refer_data[\"보호구역_위도\"], refer_data[\"보호구역_경도\"])))\n",
    "    count_sum = data_loc.apply(lambda x: geodesic((lat, lon),x).m <= 300).sum()\n",
    "    return count_sum"
   ]
  },
  {
   "cell_type": "markdown",
   "metadata": {},
   "source": [
    "## 심재훈"
   ]
  },
  {
   "cell_type": "markdown",
   "metadata": {},
   "source": [
    "### accident_count"
   ]
  },
  {
   "cell_type": "code",
   "execution_count": 20,
   "metadata": {
    "ExecuteTime": {
     "end_time": "2021-01-19T12:09:08.937333Z",
     "start_time": "2021-01-19T12:09:08.931325Z"
    }
   },
   "outputs": [],
   "source": [
    "def accident_count(lat, lon, radi, refer_data, idx=False):\n",
    "  \"\"\"\n",
    "  input: origin lat lon, radi(m), data(accidents record)\n",
    "  output: following point count\n",
    "  optional: (idx of point, count)\n",
    "  \"\"\"\n",
    "\n",
    "  if (type(refer_data['geometry'][0]) == str):\n",
    "    refer_data['geometry'] = refer_data['geometry'].apply(_str_to_tuple)\n",
    "  #apply\n",
    "  bool_mask = refer_data['geometry'].apply(lambda x: geodesic((lat, lon),x).m <= radi)\n",
    "  if idx:\n",
    "    return refer_data[bool_mask].index, sum(bool_mask)\n",
    "  else:\n",
    "    return sum(bool_mask)"
   ]
  },
  {
   "cell_type": "code",
   "execution_count": 21,
   "metadata": {
    "ExecuteTime": {
     "end_time": "2021-01-19T12:09:09.875725Z",
     "start_time": "2021-01-19T12:09:09.861764Z"
    }
   },
   "outputs": [],
   "source": [
    "def chaos1_nearby_count(lat, lon, radi, refer_data):\n",
    "  \"\"\"\n",
    "  input: origin lat lon, radi(m), road_data(shapely multilinestring), chaos1_data\n",
    "  output: following road's chaos1 by different times or lanes\n",
    "  \n",
    "  #test_set\n",
    "  lat, lon = (37.14875860564099, 127.0773701360968)\n",
    "  radi = 1\n",
    "  chaos1_nearby(lat, lon, radi, road_gdf, chaos1_gdf)[11]\n",
    "  #link_id 끝자리 01(상행) 02(하행) 순으로 나옴\n",
    "  평일 주말 총 평균값\n",
    "   \"\"\"\n",
    "  road_data, chaos1_data = refer_data[0], refer_data[1]\n",
    "  roads = road_nearby(lat, lon, radi, road_data)\n",
    "  result = roads.link_id.apply(lambda x: chaos1_data.loc[(chaos1_data.loc[:,'link_id']//100)==int(x),['time_range','chaos1']].mean()[0])\n",
    "  return result.mean()\n",
    "\n",
    "def width_nearby_count(lat, lon, radi, road_data):\n",
    "  roads = road_nearby(lat, lon, radi, road_data)\n",
    "  return roads.width.apply(int).mean()\n",
    "\n",
    "def cross_road_nearby_count(lat, lon, radi, road_data):\n",
    "  \"\"\"\n",
    "  4\t교차로 통로\n",
    "  32\t복합교차로\n",
    "  64\t로타리\n",
    "  128\t회전교차로\n",
    "\n",
    "  output = # of cross roads\n",
    "  \"\"\"\n",
    "  cross_roads = [4,32,64,128]\n",
    "  roads = road_nearby(lat, lon, radi, road_data)\n",
    "  result = roads.loc[roads.link_type.apply(lambda x: int(x) in cross_roads)]\n",
    "  return len(result)"
   ]
  },
  {
   "cell_type": "markdown",
   "metadata": {},
   "source": [
    "## 이재훈"
   ]
  },
  {
   "cell_type": "markdown",
   "metadata": {},
   "source": [
    "### 주변 학원 개수"
   ]
  },
  {
   "cell_type": "code",
   "execution_count": 22,
   "metadata": {
    "ExecuteTime": {
     "end_time": "2021-01-19T12:09:11.342537Z",
     "start_time": "2021-01-19T12:09:11.328858Z"
    }
   },
   "outputs": [],
   "source": [
    "def num_cram_school_count(lat, lon, radi, refer_data):\n",
    "    cram_school = pd.Series(list(zip(refer_data[\"시설위치_위도\"], refer_data[\"시설위치_경도\"])))\n",
    "    return cram_school.apply(lambda x: geodesic((lat, lon),x).m <= radi).sum()"
   ]
  },
  {
   "cell_type": "markdown",
   "metadata": {},
   "source": [
    "### 횡단보도 거리"
   ]
  },
  {
   "cell_type": "code",
   "execution_count": 23,
   "metadata": {
    "ExecuteTime": {
     "end_time": "2021-01-19T12:09:12.423983Z",
     "start_time": "2021-01-19T12:09:12.410021Z"
    }
   },
   "outputs": [],
   "source": [
    "#reproject 후 polygon 그대로\n",
    "def shortest_cross_count(lat, lon, radi, refer_data, idx = False):\n",
    "    polygon1 = reproject(shapely_Point(lon,lat), 'EPSG:4326', 'EPSG:26944')\n",
    "        \n",
    "    result = refer_data[[\"OBJECTID\",\"geometry\"]].apply(lambda x : (x[1].distance(polygon1), x[0]), axis = 1)\n",
    "    result = min(result, key = lambda x :x[0])\n",
    "    if idx:\n",
    "        return result\n",
    "    return result[0]"
   ]
  },
  {
   "cell_type": "markdown",
   "metadata": {},
   "source": [
    "### 신호등 거리"
   ]
  },
  {
   "cell_type": "code",
   "execution_count": 24,
   "metadata": {
    "ExecuteTime": {
     "end_time": "2021-01-19T12:09:13.536893Z",
     "start_time": "2021-01-19T12:09:13.522911Z"
    }
   },
   "outputs": [],
   "source": [
    "def shortest_traffic_signal_count(lat, lon, radi, refer_data, idx = False):\n",
    "    result = refer_data[[\"OBJECTID\",\"geometry\"]].apply(lambda x : (geodesic((lat, lon),(x[1].y,x[1].x)).m, x[0]), axis = 1)\n",
    "    result = min(result, key = lambda x :x[0])\n",
    "    if idx:\n",
    "        return result\n",
    "    return result[0]"
   ]
  },
  {
   "cell_type": "markdown",
   "metadata": {},
   "source": [
    "### 인도 여부"
   ]
  },
  {
   "cell_type": "code",
   "execution_count": 25,
   "metadata": {
    "ExecuteTime": {
     "end_time": "2021-01-19T12:09:14.620327Z",
     "start_time": "2021-01-19T12:09:14.606364Z"
    }
   },
   "outputs": [],
   "source": [
    "def shortest_sidewalk_count(lat, lon, radi, refer_data):\n",
    "    polygon1 = reproject(shapely_Point(lon,lat), 'EPSG:4326', 'EPSG:26944')\n",
    "    result = refer_data[\"geometry\"].apply(lambda x : x.distance(polygon1))\n",
    "    result = min(result)\n",
    "    return result"
   ]
  },
  {
   "cell_type": "markdown",
   "metadata": {},
   "source": [
    "# 피쳐 만들기"
   ]
  },
  {
   "cell_type": "code",
   "execution_count": 26,
   "metadata": {
    "ExecuteTime": {
     "end_time": "2021-01-19T12:09:14.636313Z",
     "start_time": "2021-01-19T12:09:14.623318Z"
    }
   },
   "outputs": [],
   "source": [
    "from tqdm import tqdm\n",
    "#reproject import 필요\n",
    "from tqdm._tqdm_notebook import tqdm_notebook\n",
    "tqdm_notebook.pandas()\n"
   ]
  },
  {
   "cell_type": "code",
   "execution_count": 27,
   "metadata": {
    "ExecuteTime": {
     "end_time": "2021-01-19T12:33:44.713554Z",
     "start_time": "2021-01-19T12:33:44.694605Z"
    }
   },
   "outputs": [],
   "source": [
    "function_dict = {\n",
    "    \"overspeed_cam_count\" : overspeed_cam_count,\n",
    "    \"floating_pop_count\" : floating_pop_count,\n",
    "    \"child_pedestrian_count\" : child_pedestrian_count,\n",
    "    \"bump_count\" : bump_count,\n",
    "    \"parking_count\" : parking_count,\n",
    "    \"parking_cctv_count\" : parking_cctv_count,\n",
    "    \"car_count\" : car_count,\n",
    "    \"child_count\" : child_count,\n",
    "    \"child_rate_count\" : child_rate_count,\n",
    "    \"elem_kinder_count\" : elem_kinder_count,\n",
    "    \"isSchoolZone_count\" : isSchoolZone_count,\n",
    "    \"numberSchoolZone_count\" : numberSchoolZone_count,\n",
    "    \"accident_count\" : accident_count,\n",
    "    \"chaos1_nearby_count\" : chaos1_nearby_count,\n",
    "    \"width_nearby_count\" : width_nearby_count,\n",
    "    \"cross_road_nearby_count\" : cross_road_nearby_count,\n",
    "    \"num_cram_school_count\" : num_cram_school_count,\n",
    "    \"shortest_cross_count\" : shortest_cross_count,\n",
    "    \"shortest_traffic_signal_count\" : shortest_traffic_signal_count,\n",
    "    \"shortest_sidewalk_count\" : shortest_sidewalk_count}\n",
    "\n",
    "radi_dict = {\n",
    "    'overspeed_cam_count' : [100],\n",
    "    'floating_pop_count' : [50],\n",
    "#    'child_pedestrian_count' : 50 빼야함\n",
    "    'bump_count' : [0], # [12.5 + 15, 25 + 15],\n",
    "   'parking_count' : [12.5, 25],\n",
    "#     'parking_cctv_count' : [12.5, 25],\n",
    "    'car_count' : [1000], # max값\n",
    "    'child_count' : [1000], # max값\n",
    "#    'child_rate_count' : 50,\n",
    "    'elem_kinder_count' : [400], \n",
    "#     'isSchoolZone_count' : 400,\n",
    "    'numberSchoolZone_count' : [400],\n",
    "    'accident_count' : [12.5, 25],\n",
    "    'chaos1_nearby_count' : [12.5, 25, 50],\n",
    "    'width_nearby_count' : [12.5, 25],\n",
    "    'cross_road_nearby_count' : [12.5, 25],\n",
    "    'num_cram_school_count' : [400],\n",
    "    'shortest_cross_count' : [0],\n",
    "#     '중앙분리대' : [12.5, 25],\n",
    "    'shortest_traffic_signal_count' : [0],\n",
    "    'shortest_sidewalk_count' : [0]} #[12.5, 25],} # 도로 보도의 유무"
   ]
  },
  {
   "cell_type": "code",
   "execution_count": 29,
   "metadata": {
    "ExecuteTime": {
     "end_time": "2021-01-19T12:45:04.475079Z",
     "start_time": "2021-01-19T12:44:15.116920Z"
    }
   },
   "outputs": [
    {
     "name": "stdout",
     "output_type": "stream",
     "text": [
      "overspeed_cam_count100\n"
     ]
    },
    {
     "data": {
      "application/vnd.jupyter.widget-view+json": {
       "model_id": "9c3c6232fd294776b8ca324a2889b084",
       "version_major": 2,
       "version_minor": 0
      },
      "text/plain": [
       "HBox(children=(FloatProgress(value=0.0, max=2214.0), HTML(value='')))"
      ]
     },
     "metadata": {},
     "output_type": "display_data"
    },
    {
     "name": "stdout",
     "output_type": "stream",
     "text": [
      "\n",
      "floating_pop_count50\n"
     ]
    },
    {
     "data": {
      "application/vnd.jupyter.widget-view+json": {
       "model_id": "8aaa8314ae624729a1c6532945829935",
       "version_major": 2,
       "version_minor": 0
      },
      "text/plain": [
       "HBox(children=(FloatProgress(value=0.0, max=2214.0), HTML(value='')))"
      ]
     },
     "metadata": {},
     "output_type": "display_data"
    },
    {
     "name": "stdout",
     "output_type": "stream",
     "text": [
      "\n",
      "bump_count0\n"
     ]
    },
    {
     "data": {
      "application/vnd.jupyter.widget-view+json": {
       "model_id": "74d9a917d1194aca8befa46af098c4ca",
       "version_major": 2,
       "version_minor": 0
      },
      "text/plain": [
       "HBox(children=(FloatProgress(value=0.0, max=2214.0), HTML(value='')))"
      ]
     },
     "metadata": {},
     "output_type": "display_data"
    },
    {
     "name": "stdout",
     "output_type": "stream",
     "text": [
      "\n",
      "parking_count12.5\n"
     ]
    },
    {
     "data": {
      "application/vnd.jupyter.widget-view+json": {
       "model_id": "a919089ac47f4d47bbc5a2b412917fd2",
       "version_major": 2,
       "version_minor": 0
      },
      "text/plain": [
       "HBox(children=(FloatProgress(value=0.0, max=2214.0), HTML(value='')))"
      ]
     },
     "metadata": {},
     "output_type": "display_data"
    },
    {
     "name": "stdout",
     "output_type": "stream",
     "text": [
      "\n",
      "parking_count25\n"
     ]
    },
    {
     "data": {
      "application/vnd.jupyter.widget-view+json": {
       "model_id": "f397205bf9f141a1bd262d499028cead",
       "version_major": 2,
       "version_minor": 0
      },
      "text/plain": [
       "HBox(children=(FloatProgress(value=0.0, max=2214.0), HTML(value='')))"
      ]
     },
     "metadata": {},
     "output_type": "display_data"
    },
    {
     "name": "stdout",
     "output_type": "stream",
     "text": [
      "\n",
      "car_count1000\n"
     ]
    },
    {
     "data": {
      "application/vnd.jupyter.widget-view+json": {
       "model_id": "03a01fb2a0ca4325b416d64030977e44",
       "version_major": 2,
       "version_minor": 0
      },
      "text/plain": [
       "HBox(children=(FloatProgress(value=0.0, max=2214.0), HTML(value='')))"
      ]
     },
     "metadata": {},
     "output_type": "display_data"
    },
    {
     "name": "stdout",
     "output_type": "stream",
     "text": [
      "\n",
      "child_count1000\n"
     ]
    },
    {
     "data": {
      "application/vnd.jupyter.widget-view+json": {
       "model_id": "2afd3071f90b401d911263bf3cd12ede",
       "version_major": 2,
       "version_minor": 0
      },
      "text/plain": [
       "HBox(children=(FloatProgress(value=0.0, max=2214.0), HTML(value='')))"
      ]
     },
     "metadata": {},
     "output_type": "display_data"
    },
    {
     "name": "stdout",
     "output_type": "stream",
     "text": [
      "\n",
      "elem_kinder_count400\n"
     ]
    },
    {
     "data": {
      "application/vnd.jupyter.widget-view+json": {
       "model_id": "030d8892eafc4f7f92f4c0849ac673b3",
       "version_major": 2,
       "version_minor": 0
      },
      "text/plain": [
       "HBox(children=(FloatProgress(value=0.0, max=2214.0), HTML(value='')))"
      ]
     },
     "metadata": {},
     "output_type": "display_data"
    },
    {
     "name": "stdout",
     "output_type": "stream",
     "text": [
      "\n",
      "numberSchoolZone_count400\n"
     ]
    },
    {
     "data": {
      "application/vnd.jupyter.widget-view+json": {
       "model_id": "d7c11777636d4d42a76bfed3187a3230",
       "version_major": 2,
       "version_minor": 0
      },
      "text/plain": [
       "HBox(children=(FloatProgress(value=0.0, max=2214.0), HTML(value='')))"
      ]
     },
     "metadata": {},
     "output_type": "display_data"
    },
    {
     "name": "stdout",
     "output_type": "stream",
     "text": [
      "\n",
      "accident_count12.5\n"
     ]
    },
    {
     "data": {
      "application/vnd.jupyter.widget-view+json": {
       "model_id": "705b8f56b7904bd8ba8df67dcfdc46c7",
       "version_major": 2,
       "version_minor": 0
      },
      "text/plain": [
       "HBox(children=(FloatProgress(value=0.0, max=2214.0), HTML(value='')))"
      ]
     },
     "metadata": {},
     "output_type": "display_data"
    },
    {
     "name": "stdout",
     "output_type": "stream",
     "text": [
      "\n",
      "accident_count25\n"
     ]
    },
    {
     "data": {
      "application/vnd.jupyter.widget-view+json": {
       "model_id": "294e6a78eeed4bab858c09e8875fafae",
       "version_major": 2,
       "version_minor": 0
      },
      "text/plain": [
       "HBox(children=(FloatProgress(value=0.0, max=2214.0), HTML(value='')))"
      ]
     },
     "metadata": {},
     "output_type": "display_data"
    },
    {
     "name": "stdout",
     "output_type": "stream",
     "text": [
      "\n",
      "chaos1_nearby_count12.5\n"
     ]
    },
    {
     "data": {
      "application/vnd.jupyter.widget-view+json": {
       "model_id": "86fb356bac414834b614ad867cc43aa6",
       "version_major": 2,
       "version_minor": 0
      },
      "text/plain": [
       "HBox(children=(FloatProgress(value=0.0, max=2214.0), HTML(value='')))"
      ]
     },
     "metadata": {},
     "output_type": "display_data"
    },
    {
     "name": "stdout",
     "output_type": "stream",
     "text": [
      "\n",
      "chaos1_nearby_count25\n"
     ]
    },
    {
     "data": {
      "application/vnd.jupyter.widget-view+json": {
       "model_id": "e3e2e9df9fc84819bd79288ea17f4dca",
       "version_major": 2,
       "version_minor": 0
      },
      "text/plain": [
       "HBox(children=(FloatProgress(value=0.0, max=2214.0), HTML(value='')))"
      ]
     },
     "metadata": {},
     "output_type": "display_data"
    },
    {
     "name": "stdout",
     "output_type": "stream",
     "text": [
      "\n",
      "chaos1_nearby_count50\n"
     ]
    },
    {
     "data": {
      "application/vnd.jupyter.widget-view+json": {
       "model_id": "7f8c76ec07214e7184214fb3f9586cf2",
       "version_major": 2,
       "version_minor": 0
      },
      "text/plain": [
       "HBox(children=(FloatProgress(value=0.0, max=2214.0), HTML(value='')))"
      ]
     },
     "metadata": {},
     "output_type": "display_data"
    },
    {
     "name": "stdout",
     "output_type": "stream",
     "text": [
      "\n",
      "width_nearby_count12.5\n"
     ]
    },
    {
     "data": {
      "application/vnd.jupyter.widget-view+json": {
       "model_id": "4e7f1984f048497a89eaa89c76630736",
       "version_major": 2,
       "version_minor": 0
      },
      "text/plain": [
       "HBox(children=(FloatProgress(value=0.0, max=2214.0), HTML(value='')))"
      ]
     },
     "metadata": {},
     "output_type": "display_data"
    },
    {
     "name": "stdout",
     "output_type": "stream",
     "text": [
      "\n",
      "width_nearby_count25\n"
     ]
    },
    {
     "data": {
      "application/vnd.jupyter.widget-view+json": {
       "model_id": "d3ea74048d2a4a39935f437ca5d7ff38",
       "version_major": 2,
       "version_minor": 0
      },
      "text/plain": [
       "HBox(children=(FloatProgress(value=0.0, max=2214.0), HTML(value='')))"
      ]
     },
     "metadata": {},
     "output_type": "display_data"
    },
    {
     "name": "stdout",
     "output_type": "stream",
     "text": [
      "\n",
      "cross_road_nearby_count12.5\n"
     ]
    },
    {
     "data": {
      "application/vnd.jupyter.widget-view+json": {
       "model_id": "7e07e42a9b80452886ee0f482380cc98",
       "version_major": 2,
       "version_minor": 0
      },
      "text/plain": [
       "HBox(children=(FloatProgress(value=0.0, max=2214.0), HTML(value='')))"
      ]
     },
     "metadata": {},
     "output_type": "display_data"
    },
    {
     "name": "stdout",
     "output_type": "stream",
     "text": [
      "\n",
      "cross_road_nearby_count25\n"
     ]
    },
    {
     "data": {
      "application/vnd.jupyter.widget-view+json": {
       "model_id": "e732e09a7177436bb802b48134d1fa3d",
       "version_major": 2,
       "version_minor": 0
      },
      "text/plain": [
       "HBox(children=(FloatProgress(value=0.0, max=2214.0), HTML(value='')))"
      ]
     },
     "metadata": {},
     "output_type": "display_data"
    },
    {
     "name": "stdout",
     "output_type": "stream",
     "text": [
      "\n",
      "num_cram_school_count400\n"
     ]
    },
    {
     "data": {
      "application/vnd.jupyter.widget-view+json": {
       "model_id": "c0b32594e07745e49f7989dba6c7d1bb",
       "version_major": 2,
       "version_minor": 0
      },
      "text/plain": [
       "HBox(children=(FloatProgress(value=0.0, max=2214.0), HTML(value='')))"
      ]
     },
     "metadata": {},
     "output_type": "display_data"
    },
    {
     "name": "stdout",
     "output_type": "stream",
     "text": [
      "\n",
      "shortest_cross_count0\n"
     ]
    },
    {
     "data": {
      "application/vnd.jupyter.widget-view+json": {
       "model_id": "e42bf387944546969a6a21c3705186dd",
       "version_major": 2,
       "version_minor": 0
      },
      "text/plain": [
       "HBox(children=(FloatProgress(value=0.0, max=2214.0), HTML(value='')))"
      ]
     },
     "metadata": {},
     "output_type": "display_data"
    },
    {
     "name": "stdout",
     "output_type": "stream",
     "text": [
      "\n",
      "shortest_traffic_signal_count0\n"
     ]
    },
    {
     "data": {
      "application/vnd.jupyter.widget-view+json": {
       "model_id": "a43ecc9f66554d9e8e30333c95232410",
       "version_major": 2,
       "version_minor": 0
      },
      "text/plain": [
       "HBox(children=(FloatProgress(value=0.0, max=2214.0), HTML(value='')))"
      ]
     },
     "metadata": {},
     "output_type": "display_data"
    },
    {
     "name": "stdout",
     "output_type": "stream",
     "text": [
      "\n",
      "shortest_sidewalk_count0\n"
     ]
    },
    {
     "data": {
      "application/vnd.jupyter.widget-view+json": {
       "model_id": "99c8e1a5d36541b181967fdeeac594f2",
       "version_major": 2,
       "version_minor": 0
      },
      "text/plain": [
       "HBox(children=(FloatProgress(value=0.0, max=2214.0), HTML(value='')))"
      ]
     },
     "metadata": {},
     "output_type": "display_data"
    },
    {
     "name": "stdout",
     "output_type": "stream",
     "text": [
      "\n"
     ]
    }
   ],
   "source": [
    "df = pd.read_csv(\"learn_point25.csv\")[6642:8856]#2214#[6642:8856]#[4428:6642]#[2214:4428] \n",
    "values = [df]\n",
    "for key in list(radi_dict.keys()):\n",
    "    for radi in radi_dict[key]:\n",
    "        print(key + str(radi))\n",
    "        tmp = df.progress_apply(lambda x: function_dict[key](x[1], x[0], radi, data_set[key]),axis = 1)\n",
    "        if len(tmp.shape) == 1:\n",
    "            tmp.name = key + str(radi)\n",
    "        else:\n",
    "            tmp.columns = [key + str(radi) +\"_\" + str(i) for i in range(tmp.shape[1])]\n",
    "        values.append(tmp)\n",
    "\n",
    "pd.concat(values,axis=1).to_csv(\"6642_8856.csv\",index = False)\n"
   ]
  },
  {
   "cell_type": "code",
   "execution_count": null,
   "metadata": {},
   "outputs": [],
   "source": []
  }
 ],
 "metadata": {
  "hide_input": false,
  "kernelspec": {
   "display_name": "Python 3",
   "language": "python",
   "name": "python3"
  },
  "language_info": {
   "codemirror_mode": {
    "name": "ipython",
    "version": 3
   },
   "file_extension": ".py",
   "mimetype": "text/x-python",
   "name": "python",
   "nbconvert_exporter": "python",
   "pygments_lexer": "ipython3",
   "version": "3.6.12"
  },
  "toc": {
   "base_numbering": 1,
   "nav_menu": {},
   "number_sections": true,
   "sideBar": true,
   "skip_h1_title": false,
   "title_cell": "Table of Contents",
   "title_sidebar": "Contents",
   "toc_cell": false,
   "toc_position": {},
   "toc_section_display": true,
   "toc_window_display": false
  },
  "varInspector": {
   "cols": {
    "lenName": 16,
    "lenType": 16,
    "lenVar": 40
   },
   "kernels_config": {
    "python": {
     "delete_cmd_postfix": "",
     "delete_cmd_prefix": "del ",
     "library": "var_list.py",
     "varRefreshCmd": "print(var_dic_list())"
    },
    "r": {
     "delete_cmd_postfix": ") ",
     "delete_cmd_prefix": "rm(",
     "library": "var_list.r",
     "varRefreshCmd": "cat(var_dic_list()) "
    }
   },
   "types_to_exclude": [
    "module",
    "function",
    "builtin_function_or_method",
    "instance",
    "_Feature"
   ],
   "window_display": false
  }
 },
 "nbformat": 4,
 "nbformat_minor": 5
}
