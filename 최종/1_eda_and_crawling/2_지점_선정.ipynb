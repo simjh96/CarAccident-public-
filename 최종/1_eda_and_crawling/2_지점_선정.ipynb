{
 "cells": [
  {
   "cell_type": "code",
   "execution_count": 1,
   "metadata": {},
   "outputs": [],
   "source": [
    "import warnings\n",
    "warnings.filterwarnings(action='ignore')\n",
    "from functools import partial\n",
    "from shapely import ops\n",
    "import pyproj\n",
    "from shapely.geometry import Point, Polygon\n",
    "import numpy as np\n",
    "import folium\n",
    "import geopandas as gpd\n",
    "import json, math\n",
    "import matplotlib.pyplot as plt\n",
    "import pandas as pd\n",
    "import konlpy\n",
    "import re\n",
    "from geopy.distance import geodesic\n",
    "from folium import plugins\n",
    "import folium\n",
    "import geopandas as gpd\n",
    "from shapely.geometry import MultiPoint,Point\n",
    "import os"
   ]
  },
  {
   "cell_type": "code",
   "execution_count": 2,
   "metadata": {},
   "outputs": [],
   "source": [
    "os.chdir('../data')"
   ]
  },
  {
   "cell_type": "code",
   "execution_count": 3,
   "metadata": {},
   "outputs": [
    {
     "data": {
      "text/plain": [
       "'/Users/jominju/Desktop/대학교/contest/Car_Accident/최종/data'"
      ]
     },
     "execution_count": 3,
     "metadata": {},
     "output_type": "execute_result"
    }
   ],
   "source": [
    "os.getcwd()"
   ]
  },
  {
   "cell_type": "code",
   "execution_count": 4,
   "metadata": {},
   "outputs": [],
   "source": [
    "def changeToPoint(x):\n",
    "    lst = []\n",
    "    for i in x:\n",
    "        lst = lst + list(i.coords)\n",
    "    return lst\n",
    "def makePointDF(geometry_point_series):\n",
    "    lst = geometry_point_series.sum()\n",
    "    point_data = pd.DataFrame(lst,columns = (\"lon\", \"lat\"))\n",
    "    point_data[\"Point\"] = point_data.apply(lambda x: Point(x[0],x[1]),axis =1)\n",
    "    return point_data\n",
    "\n",
    "    \n",
    "def draw_plot(point_data):\n",
    "    fig,ax = plt.subplots(1,1,sharex=True,sharey=True,figsize=(20,20))\n",
    "    road_data.plot(ax = ax, color = \"blue\",alpha = 0.2)\n",
    "    point_data.plot.scatter(ax = ax, x=\"lon\", y = \"lat\", s = 2, colormap='viridis',color = \"red\")\n",
    "\n",
    "def draw_map(point_data):\n",
    "    # map\n",
    "    map1 = folium.Map(location=center, zoom_start=13, control_scale=True)\n",
    "\n",
    "    # all subgroups\n",
    "    all_subgroups = folium.FeatureGroup(name='all_thing')\n",
    "    map1.add_child(all_subgroups)\n",
    "\n",
    "    #osan\n",
    "    osan_region = plugins.FeatureGroupSubGroup(all_subgroups, 'osan region')\n",
    "    map1.add_child(osan_region)\n",
    "    osan = gpd.read_file('../data/original/33.오산시_법정경계(읍면동).geojson',encoding=\"utf-8\")\n",
    "    folium.GeoJson(osan, style_function=lambda x:{'fillColor': 'transparent', 'color': 'grey'}).add_to(osan_region)\n",
    "\n",
    "    road = plugins.FeatureGroupSubGroup(all_subgroups, 'road')\n",
    "    map1.add_child(road)\n",
    "    folium.GeoJson(road_data, style_function=lambda x:{'fillColor': 'transparent', \"weight\": int(x[\"properties\"][\"width\"]) ** 1.5 / 2, 'color': 'black'}).add_to(road)\n",
    "\n",
    "    # point\n",
    "    check_point = plugins.FeatureGroupSubGroup(all_subgroups, 'check_point')\n",
    "    map1.add_child(check_point)\n",
    "    for i in range(0, len(point_data)):\n",
    "        folium.Circle(\n",
    "            location = [point_data.loc[i,\"lat\"],\n",
    "                        point_data.loc[i,\"lon\"]],\n",
    "            radius = 1,\n",
    "            color = \"red\",\n",
    "            fillColor = \"red\",\n",
    "            tooltip=str((point_data.loc[i,\"lon\"], point_data.loc[i,\"lat\"])),\n",
    "        ).add_to(check_point)\n",
    "\n",
    "    folium.LayerControl(collapsed=False).add_to(map1)\n",
    "    return map1"
   ]
  },
  {
   "cell_type": "code",
   "execution_count": 5,
   "metadata": {},
   "outputs": [],
   "source": [
    "center = (37.1623799231016, 127.05436890115905)\n",
    "road_data = gpd.read_file('23.오산시_상세도로망_LV6.geojson',encoding=\"utf-8\")\n",
    "road_data = road_data[road_data[\"road_name\"].apply(lambda x: \"고속도로\" not in str(x))].reset_index(drop = True)\n",
    "road_data[\"geometry_point\"] = road_data[\"geometry\"].apply(changeToPoint)"
   ]
  },
  {
   "cell_type": "code",
   "execution_count": 6,
   "metadata": {},
   "outputs": [],
   "source": [
    "def refine_point_data(point_data, stan_range):\n",
    "    point_data = point_data.copy()\n",
    "    index = 0\n",
    "    while index < len(point_data):\n",
    "        a,b,c = point_data.iloc[index]\n",
    "        tmp_dist = point_data.apply(lambda x : geodesic((b, a),(x[1], x[0])).m ,axis = 1)\n",
    "        point_data = point_data[(tmp_dist <= 0) | (tmp_dist  >= stan_range)]\n",
    "        index += 1\n",
    "#         print(((tmp_dist <= 0) | (tmp_dist  >= stan_range)).sum())\n",
    "        print(tmp_dist[~((tmp_dist <= 0) | (tmp_dist  >= stan_range))])\n",
    "    return point_data"
   ]
  },
  {
   "cell_type": "markdown",
   "metadata": {},
   "source": [
    "### 평균 간격 확인"
   ]
  },
  {
   "cell_type": "code",
   "execution_count": 7,
   "metadata": {},
   "outputs": [
    {
     "name": "stdout",
     "output_type": "stream",
     "text": [
      "개수 5334\n",
      "평균 37.42586223979561\n",
      "최소 1.2884774203999179\n",
      "최대 442.0867340433362\n"
     ]
    }
   ],
   "source": [
    "def print_dist_info(geometry_point_series):\n",
    "    def cal_dist(x):\n",
    "        lst = []\n",
    "        for i, j in list(zip(x[:-1],x[1:])):\n",
    "            lst.append(geodesic((i[1], i[0]),(j[1], j[0])).m)\n",
    "        return lst\n",
    "    lst = geometry_point_series.apply(cal_dist).sum()\n",
    "    print(\"개수\", len(lst))\n",
    "    print(\"평균\", sum(lst)/ len(lst))\n",
    "    print(\"최소\", min(lst))\n",
    "    print(\"최대\", max(lst))\n",
    "print_dist_info(road_data[\"geometry_point\"])"
   ]
  },
  {
   "cell_type": "markdown",
   "metadata": {},
   "source": [
    "### 1m ~ 2m 간격 데이터 형성"
   ]
  },
  {
   "cell_type": "code",
   "execution_count": 8,
   "metadata": {},
   "outputs": [],
   "source": [
    "def split_point(x):\n",
    "    result=[x[0]]\n",
    "    for next_point in x[1:]:\n",
    "        before_point = result[-1]\n",
    "        dist = geodesic((before_point[1], before_point[0]),(next_point[1], next_point[0])).m\n",
    "        if  dist >=2:\n",
    "            num = int(dist // 1)\n",
    "            x_step_size = (next_point[0] - before_point[0]) / num\n",
    "            y_step_size = (next_point[1] - before_point[1]) / num\n",
    "            for i in range(1,num):\n",
    "                result.append((before_point[0] + x_step_size * i, before_point[1] + y_step_size * i))\n",
    "        result.append(next_point)\n",
    "    return result"
   ]
  },
  {
   "cell_type": "code",
   "execution_count": 9,
   "metadata": {},
   "outputs": [
    {
     "name": "stdout",
     "output_type": "stream",
     "text": [
      "개수 196953\n",
      "평균 1.0135897863332515\n",
      "최소 1.0000002763786253\n",
      "최대 1.9985362736327137\n"
     ]
    }
   ],
   "source": [
    "tmp = road_data[\"geometry_point\"].apply(split_point)\n",
    "print_dist_info(tmp)"
   ]
  },
  {
   "cell_type": "code",
   "execution_count": 10,
   "metadata": {},
   "outputs": [
    {
     "name": "stdout",
     "output_type": "stream",
     "text": [
      "개수 8998\n",
      "평균 20.20195120313476\n",
      "최소 14.271985864082676\n",
      "최대 22.86653494041831\n"
     ]
    }
   ],
   "source": [
    "# 10개 간격\n",
    "tmp = road_data[\"geometry_point\"].apply(split_point).apply(lambda x: x[::20])\n",
    "print_dist_info(tmp)"
   ]
  },
  {
   "cell_type": "markdown",
   "metadata": {},
   "source": [
    "### 생성된 데이터 간격별로 저장"
   ]
  },
  {
   "cell_type": "code",
   "execution_count": 12,
   "metadata": {},
   "outputs": [
    {
     "name": "stdout",
     "output_type": "stream",
     "text": [
      "개수 7044\n",
      "평균 25.218295879342072\n",
      "최소 15.62639813709922\n",
      "최대 27.83348623899768\n"
     ]
    }
   ],
   "source": [
    "tmp = road_data[\"geometry_point\"].apply(split_point).apply(lambda x: x[::25])\n",
    "print_dist_info(tmp)\n",
    "tmp_point = makePointDF(tmp)\n",
    "tmp_point[[\"lon\",\"lat\"]].to_csv(\"learn_point25.csv\",index=False)"
   ]
  },
  {
   "cell_type": "code",
   "execution_count": 13,
   "metadata": {},
   "outputs": [
    {
     "name": "stdout",
     "output_type": "stream",
     "text": [
      "개수 3035\n",
      "평균 50.17136865919107\n",
      "최소 32.23569609389694\n",
      "최대 53.640569839621755\n"
     ]
    }
   ],
   "source": [
    "tmp = road_data[\"geometry_point\"].apply(split_point).apply(lambda x: x[::50])\n",
    "print_dist_info(tmp)\n",
    "tmp_point = makePointDF(tmp)\n",
    "tmp_point[[\"lon\",\"lat\"]].to_csv(\"learn_point50.csv\",index=False)"
   ]
  },
  {
   "cell_type": "code",
   "execution_count": null,
   "metadata": {},
   "outputs": [],
   "source": []
  }
 ],
 "metadata": {
  "kernelspec": {
   "display_name": "Python 3",
   "language": "python",
   "name": "python3"
  },
  "language_info": {
   "codemirror_mode": {
    "name": "ipython",
    "version": 3
   },
   "file_extension": ".py",
   "mimetype": "text/x-python",
   "name": "python",
   "nbconvert_exporter": "python",
   "pygments_lexer": "ipython3",
   "version": "3.7.6"
  }
 },
 "nbformat": 4,
 "nbformat_minor": 4
}
