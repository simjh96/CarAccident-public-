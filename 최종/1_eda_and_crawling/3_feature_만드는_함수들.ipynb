{
 "cells": [
  {
   "cell_type": "markdown",
   "metadata": {},
   "source": [
    "## Modeling을 위한"
   ]
  },
  {
   "cell_type": "code",
   "execution_count": 1,
   "metadata": {},
   "outputs": [],
   "source": [
    "import warnings\n",
    "warnings.filterwarnings(action='ignore')\n",
    "from functools import partial\n",
    "from shapely import ops\n",
    "import pyproj\n",
    "import json, math\n",
    "import matplotlib.pyplot as plt\n",
    "from folium import plugins\n",
    "import re\n",
    "from matplotlib import font_manager, rc, rcParams\n",
    "# def set_korea_font():\n",
    "#     font_name = font_manager.FontProperties(fname=\"/System/Library/Fonts/Supplemental/AppleGothic.ttf\").get_name()\n",
    "#     rc('font', family=font_name)\n",
    "#     rcParams.update({'font.size': 11})\n",
    "#     rcParams['axes.unicode_minus'] = False  \n",
    "# set_korea_font()\n",
    "from shapely.geometry import Point as shapely_Point\n",
    "from geopy.distance import great_circle as distance\n",
    "from geopy.point import Point as Point\n",
    "from math import sin, cos, atan2, sqrt, degrees, radians, pi\n",
    "\n",
    "from geopy.distance import geodesic\n",
    "import folium\n",
    "from folium import plugins\n",
    "import geopandas as gpd\n",
    "import numpy as np\n",
    "import pandas as pd\n",
    "import shapely\n",
    "import os\n",
    "import datetime\n",
    "\n",
    "from tqdm import tqdm\n",
    "from tqdm._tqdm_notebook import tqdm_notebook\n",
    "tqdm_notebook.pandas()"
   ]
  },
  {
   "cell_type": "markdown",
   "metadata": {},
   "source": [
    "## 1) 25m 당 각 도로의 특징 데이터 만들기"
   ]
  },
  {
   "cell_type": "code",
   "execution_count": 2,
   "metadata": {},
   "outputs": [],
   "source": [
    "os.chdir('../data')\n",
    "\n",
    "# 실제 거리를 구하기 위해 사용되는 reproject 함수\n",
    "def reproject(geom, from_proj=None, to_proj=None):\n",
    "    tfm = partial(pyproj.transform, pyproj.Proj(init=from_proj), pyproj.Proj(init=to_proj))\n",
    "    return ops.transform(tfm, geom)"
   ]
  },
  {
   "cell_type": "code",
   "execution_count": 3,
   "metadata": {},
   "outputs": [
    {
     "data": {
      "text/plain": [
       "'/Users/jominju/Desktop/대학교/contest/Car_Accident/최종/data'"
      ]
     },
     "execution_count": 3,
     "metadata": {},
     "output_type": "execute_result"
    }
   ],
   "source": [
    "os.getcwd()"
   ]
  },
  {
   "cell_type": "markdown",
   "metadata": {},
   "source": [
    "### (1) 필요한 데이터 가져오기"
   ]
  },
  {
   "cell_type": "code",
   "execution_count": 4,
   "metadata": {},
   "outputs": [],
   "source": [
    "# 필요한 데이터\n",
    "\n",
    "overspeed_cam_count_ = pd.read_csv('overspeed_cam.csv')\n",
    "floating_pop_count_ = pd.read_csv('floating_pop.csv')\n",
    "bump_count_ = pd.read_csv('bump.csv')\n",
    "parking_count_ = pd.read_csv('parking.csv')\n",
    "parking_cctv_count_ = [parking_count_, pd.read_csv('parking_cctv.csv')]\n",
    "car_count_ = gpd.read_file(\"3.오산시_차량등록현황_격자.geojson\", encoding = \"utf-8\")\n",
    "child_count_ = gpd.read_file(\"child_count.geojson\", encoding = \"utf-8\")\n",
    "child_rate_count_ = gpd.read_file(\"child_rate.geojson\", encoding = \"utf-8\")\n",
    "elem_kinder_count_ = gpd.read_file(\"elem_kinder_count.csv\", encoding = \"utf-8\")\n",
    "isSchoolZone_count_ = pd.read_csv(\"9.오산시_어린이보호구역(re).csv\", encoding = \"utf-8\")\n",
    "numberSchoolZone_count_ = isSchoolZone_count_\n",
    "accident_count_ = pd.read_csv(\"accident_count.csv\")\n",
    "chaos1_nearby_count_ = [gpd.read_file('23.오산시_상세도로망_LV6.geojson'),\n",
    "                 pd.read_csv('chaos1.csv')]\n",
    "width_nearby_count_ = gpd.read_file('23.오산시_상세도로망_LV6.geojson')\n",
    "cross_road_nearby_count_ = width_nearby_count_\n",
    "num_cram_school_count_ = pd.read_csv(\"학원.csv\")\n",
    "shortest_cross_count_ = gpd.read_file(\"횡단보도.json\",encoding=\"utf-8\")\n",
    "shortest_traffic_signal_count_ = gpd.read_file('19.오산시_신호등.geojson',encoding=\"utf-8\")\n",
    "shortest_sidewalk_count_ =  gpd.read_file(\"인도.json\",encoding=\"utf-8\")"
   ]
  },
  {
   "cell_type": "code",
   "execution_count": 5,
   "metadata": {},
   "outputs": [],
   "source": [
    "# Dictionary로 정리\n",
    "\n",
    "data_set = {\n",
    "'overspeed_cam_count': overspeed_cam_count_,\n",
    "'floating_pop_count':floating_pop_count_,\n",
    "'bump_count':bump_count_,\n",
    "'parking_count':parking_count_,\n",
    "'parking_cctv_count':parking_cctv_count_,\n",
    "'car_count':car_count_,\n",
    "'child_count':child_count_,\n",
    "'child_rate_count':child_rate_count_,\n",
    "'elem_kinder_count':elem_kinder_count_,\n",
    "'isSchoolZone_count':isSchoolZone_count_,\n",
    "'numberSchoolZone_count':numberSchoolZone_count_,\n",
    "'accident_count':accident_count_,\n",
    "'chaos1_nearby_count':chaos1_nearby_count_,\n",
    "'width_nearby_count':width_nearby_count_,\n",
    "'cross_road_nearby_count':cross_road_nearby_count_,\n",
    "'num_cram_school_count':num_cram_school_count_,\n",
    "'shortest_cross_count':shortest_cross_count_,\n",
    "'shortest_traffic_signal_count':shortest_traffic_signal_count_,\n",
    "'shortest_sidewalk_count':shortest_sidewalk_count_,\n",
    "'barrier_nearby_count':width_nearby_count_,\n",
    "}\n",
    "\n",
    "# 어린이 교통사고 정보만 필요하므로 나이가 12세 이하인 사고 정보만 가져온다\n",
    "\n",
    "data_set['accident_count'].loc[:,'가해운전자 연령'] = data_set['accident_count'].loc[:,'가해운전자 연령'].apply(lambda x: int(x[:-1]) if x[:-1].isnumeric() else 999)\n",
    "data_set['accident_count'].loc[:,'피해운전자 연령'] = data_set['accident_count'].loc[:,'피해운전자 연령'].apply(lambda x: int(x[:-1]) if str(x)[:-1].isnumeric() else 999)\n",
    "\n",
    "mask1 = data_set['accident_count'].loc[:,'가해운전자 연령'] <= 12\n",
    "mask2 = data_set['accident_count'].loc[:,'피해운전자 연령'] <= 12\n",
    "\n",
    "data_set['accident_count'] = data_set['accident_count'].loc[mask1|mask2]\n",
    "data_set['accident_count'].index = range(len(data_set['accident_count']))"
   ]
  },
  {
   "cell_type": "code",
   "execution_count": 6,
   "metadata": {},
   "outputs": [],
   "source": [
    "# tuple이 str으로 저장되는 문제를 해결하기 위한 함수\n",
    "def _str_to_tuple(string):\n",
    "  \"\"\"\n",
    "  input: multilinestring object\n",
    "  output: arr_cords; lon, lat\n",
    "  ex) multiline_to_arr_cords(road_gdf.loc[0].geometry)\n",
    "  \"\"\"\n",
    "  return re.findall(r'\\d+\\.\\d+',string)"
   ]
  },
  {
   "cell_type": "markdown",
   "metadata": {},
   "source": [
    "### (2) 데이터를 거리별로 가공하기 위한 함수\n",
    "- 여기에 해당하는 모든 함수는 parameter를 모두 (lat, lon, radi, refer_data)로 통일하였다. idx parameter는 필요에 따라 넣었다.\n",
    "- lat, lon : 해당 도로의 lat, lon (input 도로)\n",
    "- radi : 해당 도로의 반경 (ex. radi = 50 -> 해당 도로 좌표 50m 반경의 데이터만 취급)\n",
    "- refer_data : 해당 함수가 취급하는 데이터\n",
    "- idx\n",
    "   - if False (default) -> 해당 refer_data의 모든 데이터를 사용\n",
    "   - else : idx에 해당하는 refer_data만 사용\n",
    "   \n",
    "   \n",
    "   \n",
    "- 함수 목록\n",
    "    - 과속단속 카메라 개수\n",
    "    - 유동인구 평균\n",
    "    - 법규위반\n",
    "    - 과속방지턱\n",
    "    - 불법주정차 단속 건수\n",
    "    - cctv 1개 당 평균 불법주정차 단속 건수\n",
    "    - 차량등록현황\n",
    "    - 어린이 거주인구\n",
    "    - 어린이 거주 비율\n",
    "    - 주변 학교/어린이집 개수\n",
    "    - 스쿨존 여부\n",
    "    - 포함되는 스쿨존 수\n",
    "    - 사고 수\n",
    "    - 혼잡빈도\n",
    "    - 도로폭\n",
    "    - 사거리 여부\n",
    "    - 주변 어린이 대상 학원/교습소 수\n",
    "    - 횡단보도와의 최소 거리\n",
    "    - 신호등과의 최소 거리\n",
    "    - 인도와의 최소 거리\n",
    "    - 주변 중앙 분리대 개수"
   ]
  },
  {
   "cell_type": "code",
   "execution_count": 7,
   "metadata": {},
   "outputs": [],
   "source": [
    "# \"(2) 데이터를 거리별로 가공하기 위한 함수\"를 사용하기 위해 geometry와 좌표 간의 실제 거리를 구하는 함수\n",
    "\n",
    "#from https://medium.com/analytics-vidhya/calculating-distances-from-points-to-polygon-borders-in-python-a-paris-example-3b597e1ea291\n",
    "def midpoint(a, b):\n",
    "    a_lat, a_lon = radians(a.latitude), radians(a.longitude)\n",
    "    b_lat, b_lon = radians(b.latitude), radians(b.longitude)\n",
    "    delta_lon = b_lon - a_lon\n",
    "    B_x = cos(b_lat) * cos(delta_lon)\n",
    "    B_y = cos(b_lat) * sin(delta_lon)\n",
    "    mid_lat = atan2(\n",
    "        sin(a_lat) + sin(b_lat),\n",
    "        sqrt(((cos(a_lat) + B_x) ** 2 + B_y ** 2))\n",
    "    )\n",
    "    mid_lon = a_lon + atan2(B_y, cos(a_lat) + B_x)\n",
    "    # Normalise\n",
    "    mid_lon = (mid_lon + 3 * pi) % (2 * pi) - pi\n",
    "\n",
    "    return Point(latitude=degrees(mid_lat), longitude=degrees(mid_lon))\n",
    "\n",
    "def get_line_midpoint(line):\n",
    "    a = Point(line[0])\n",
    "    b = Point(line[1])\n",
    "\n",
    "    return midpoint(a,b)\n",
    "\n",
    "\n",
    "def calculate_dist_to_line(line_a_lat, line_a_lng, line_b_lat, line_b_lng, point_object):\n",
    "    a = Point(latitude=line_a_lat, longitude=line_a_lng)\n",
    "    b = Point(latitude=line_b_lat, longitude=line_b_lng)\n",
    "    dist = distance(midpoint(a, b), point_object)\n",
    "    return dist\n",
    "\n",
    "\n",
    "def get_min_distance_to_arr(arr_coords, point_object, unit='m'):\n",
    "    min_dist = 999999\n",
    "    line=[]\n",
    "    for i, _ in enumerate(arr_coords):\n",
    "        if i + 1 < len(arr_coords):\n",
    "            dist = calculate_dist_to_line(\n",
    "                line_a_lat=arr_coords[i][1],\n",
    "                line_a_lng=arr_coords[i][0],\n",
    "                line_b_lat=arr_coords[i + 1][1],\n",
    "                line_b_lng=arr_coords[i + 1][0],\n",
    "                point_object=point_object\n",
    "            )\n",
    "            if dist < min_dist:\n",
    "                min_dist = dist\n",
    "                line = [(arr_coords[i][1], arr_coords[i][0]), (arr_coords[i + 1][1], arr_coords[i + 1][0])]\n",
    "        else:\n",
    "            dist = calculate_dist_to_line(\n",
    "                line_a_lat=arr_coords[i][1],\n",
    "                line_a_lng=arr_coords[i][0],\n",
    "                line_b_lat=arr_coords[0][1],\n",
    "                line_b_lng=arr_coords[0][0],\n",
    "                point_object=point_object\n",
    "            )\n",
    "            if dist < min_dist:\n",
    "                min_dist = dist\n",
    "                line = [(arr_coords[i][1], arr_coords[i][0]), (arr_coords[0][1], arr_coords[0][0])]\n",
    "\n",
    "    if unit == 'm':\n",
    "        return min_dist.m, line\n",
    "    elif unit == 'km':\n",
    "        return min_dist.km, line\n",
    "    else:\n",
    "        return min_dist, line\n",
    "    \n",
    "#additional interrial function\n",
    "def _multiline_to_arr_cords(mls):\n",
    "  \"\"\"\n",
    "  input: multilinestring object\n",
    "  output: arr_cords; lon, lat\n",
    "  ex) multiline_to_arr_cords(road_gdf.loc[0].geometry)\n",
    "  \"\"\"\n",
    "  arr_cords = []\n",
    "  lon_lat = re.findall(r'\\d+\\.\\d+',str(mls))\n",
    "  for i in range(0,len(lon_lat),2):\n",
    "    arr_cords.append((float(lon_lat[i]),float(lon_lat[i+1])))\n",
    "  return arr_cords\n",
    "\n",
    "def _shPoint_to_list(shpoint):\n",
    "  c1, c2 = re.findall(r'\\d+\\.\\d+',str(shpoint))\n",
    "  if c1 < c2:\n",
    "    lon, lat = float(c1), float(c2)\n",
    "  else:\n",
    "    lat, lon = float(c1), float(c2)\n",
    "  return lat, lon\n",
    "\n",
    "def _list_to_gpPoint(mylist):\n",
    "  return Point(latitude=mylist[0], longitude=mylist[1])\n",
    "\n",
    "def _shPoint_to_gpPoint(shpoint):\n",
    "  mylist = _shPoint_to_list(shpoint)\n",
    "  return Point(latitude=mylist[0], longitude=mylist[1])"
   ]
  },
  {
   "cell_type": "code",
   "execution_count": 8,
   "metadata": {},
   "outputs": [],
   "source": [
    "def road_nearby(lat, lon, radi, data):\n",
    "  \"\"\"\n",
    "  input: origin lat lon, radi(m), data(shapely multilinestring)\n",
    "  change in type: shapely(Euclidian) -> list -> geopy(Great Circle)\n",
    "  output: following roads\n",
    "  \"\"\"\n",
    "  road_gdf = data\n",
    "  dist_array = road_gdf.geometry.apply(lambda x: get_min_distance_to_arr(_multiline_to_arr_cords(x), _shPoint_to_gpPoint((lat, lon)), unit='m')[0])\n",
    "  result = road_gdf.loc[dist_array < radi,:]\n",
    "  while (result.size == 0):\n",
    "    radi += 5\n",
    "    result = road_gdf.loc[dist_array < radi,:]\n",
    "  return result"
   ]
  },
  {
   "cell_type": "markdown",
   "metadata": {},
   "source": [
    "### a. 과속단속 카메라 개수"
   ]
  },
  {
   "cell_type": "code",
   "execution_count": 9,
   "metadata": {},
   "outputs": [],
   "source": [
    "def overspeed_cam_count(lat, lon, radi, refer_data, idx=False):\n",
    "  \"\"\"\n",
    "  input: origin lat lon, radi(m)\n",
    "  output: following point count\n",
    "  optional: (idx of point, count)\n",
    "  \"\"\"\n",
    "  if (type(refer_data['geometry'][0]) == str):\n",
    "    refer_data['geometry'] = refer_data['geometry'].apply(_str_to_tuple)\n",
    "  #apply\n",
    "  bool_mask = refer_data['geometry'].apply(lambda x: geodesic((lat, lon),x).meters <= radi)\n",
    "  if idx:\n",
    "    return refer_data[bool_mask].index, sum(bool_mask)\n",
    "  else:\n",
    "    return sum(bool_mask)"
   ]
  },
  {
   "cell_type": "markdown",
   "metadata": {},
   "source": [
    "### b. 유동인구 평균"
   ]
  },
  {
   "cell_type": "code",
   "execution_count": 10,
   "metadata": {},
   "outputs": [],
   "source": [
    "def floating_pop_count(lat, lon, radi, refer_data, idx=False):\n",
    "  \"\"\"\n",
    "  input: origin lat lon, radi(km)\n",
    "  output: following point count\n",
    "  optional: (idx of point, count)\n",
    "  \"\"\"\n",
    "  if (type(refer_data['geometry'][0]) == str):\n",
    "    refer_data['geometry'] = refer_data['geometry'].apply(_str_to_tuple)\n",
    "  #apply\n",
    "  bool_mask = refer_data['geometry'].apply(lambda x: geodesic((lat, lon), x).m <= radi)\n",
    "  if idx:\n",
    "    return refer_data[bool_mask].index, refer_data['mean'][bool_mask].mean()\n",
    "  else:\n",
    "    return refer_data['mean'][bool_mask].mean()"
   ]
  },
  {
   "cell_type": "markdown",
   "metadata": {},
   "source": [
    "### c. 과속방지턱"
   ]
  },
  {
   "cell_type": "code",
   "execution_count": 11,
   "metadata": {},
   "outputs": [],
   "source": [
    "def bump_count(lat, lon, radi, refer_data, idx = False):\n",
    "    if (type(refer_data['geometry'][0]) == str):\n",
    "        refer_data['geometry'] = refer_data['geometry'].apply(_str_to_tuple)\n",
    "    dist = refer_data[['index','geometry']].apply(lambda x: (geodesic((lat, lon), x[1]).m, x[0]), axis = 1)\n",
    "    dist = min(dist, key = lambda x :x[0])\n",
    "                                        \n",
    "    if idx:\n",
    "        return dist\n",
    "    else:\n",
    "        return dist[0]"
   ]
  },
  {
   "cell_type": "markdown",
   "metadata": {},
   "source": [
    "### d. 불법주정차"
   ]
  },
  {
   "cell_type": "code",
   "execution_count": 12,
   "metadata": {},
   "outputs": [],
   "source": [
    "def parking_count(lat, lon, radi, refer_data, idx=False):\n",
    "  \"\"\"\n",
    "  input: origin lat lon, radi(km)\n",
    "  output: following point count\n",
    "  optional: (idx of point, count)\n",
    "  \"\"\"\n",
    "  if (type(refer_data['geometry'][0]) == str):\n",
    "    refer_data['geometry'] = refer_data['geometry'].apply(_str_to_tuple)\n",
    "  #apply\n",
    "  bool_mask = refer_data['geometry'].apply(lambda x: geodesic((lat, lon),x).meters <= radi)\n",
    "  if idx:\n",
    "    return refer_data[bool_mask].index, sum(bool_mask)\n",
    "  else:\n",
    "    return sum(bool_mask)"
   ]
  },
  {
   "cell_type": "markdown",
   "metadata": {},
   "source": [
    "### e. cctv 1개 당 평균 불법주정차 단속 건수"
   ]
  },
  {
   "cell_type": "code",
   "execution_count": 13,
   "metadata": {},
   "outputs": [],
   "source": [
    "def parking_cctv_count(lat, lon, radi, refer_data, idx=False):\n",
    "  \"\"\"\n",
    "  cctv 1개당 평균 불법주정차 단속 건수\n",
    "  input: origin lat lon, radi(km)\n",
    "  output: following point count\n",
    "  optional: (idx of point, count)\n",
    "  \"\"\"\n",
    "  refer_data1, refer_data2 = refer_data[0], refer_data[1]\n",
    "  if (type(refer_data1['geometry'][0]) == str):\n",
    "    refer_data1['geometry'] = refer_data1['geometry'].apply(_str_to_tuple)\n",
    "  if (type(refer_data2['geometry'][0]) == str):\n",
    "    refer_data2['geometry'] = refer_data2['geometry'].apply(_str_to_tuple)\n",
    "    \n",
    "    \n",
    "  #apply\n",
    "  bool_mask1 = refer_data1['geometry'].apply(lambda x: geodesic((lat, lon),x).meters <= radi)\n",
    "  bool_mask2 = refer_data2['geometry'].apply(lambda x: geodesic((lat, lon),x).meters <= radi)\n",
    "\n",
    "  try:    \n",
    "    result = sum(bool_mask1)/sum(bool_mask2)\n",
    "  except:\n",
    "    result = np.nan\n",
    "  if idx:\n",
    "    return refer_data1[bool_mask1].index, refer_data2[bool_mask2].index, result\n",
    "  else:\n",
    "    return result"
   ]
  },
  {
   "cell_type": "markdown",
   "metadata": {},
   "source": [
    "### f. 차량 등록 현황"
   ]
  },
  {
   "cell_type": "code",
   "execution_count": 14,
   "metadata": {},
   "outputs": [],
   "source": [
    "def car_count(lat, lon, radi, refer_data):\n",
    "    \"\"\"\n",
    "    default unit = 'm'\n",
    "    \"\"\"   \n",
    "    distance_arr = refer_data.geometry.apply(lambda x : get_min_distance_to_arr\n",
    "                    (_multiline_to_arr_cords(x),\n",
    "                     _shPoint_to_gpPoint((lat, lon)), unit = 'm')[0])\n",
    "    sum_count = refer_data[distance_arr <= radi][\"car_cnt\"].max()\n",
    "    return sum_count"
   ]
  },
  {
   "cell_type": "markdown",
   "metadata": {},
   "source": [
    "### g. 어린이 거주 인구"
   ]
  },
  {
   "cell_type": "code",
   "execution_count": 15,
   "metadata": {},
   "outputs": [],
   "source": [
    "def child_count(lat, lon, radi, refer_data):\n",
    "    refer_data.val[refer_data.val.isna()] = 0\n",
    "    distance_arr = refer_data.geometry.apply(lambda x : get_min_distance_to_arr\n",
    "                    (_multiline_to_arr_cords(x),\n",
    "                     _shPoint_to_gpPoint((lat, lon)), unit = 'm')[0])\n",
    "    sum_count = refer_data[distance_arr <= radi][\"val\"].max()\n",
    "    return sum_count"
   ]
  },
  {
   "cell_type": "markdown",
   "metadata": {},
   "source": [
    "### h. 어린이 거주 비율"
   ]
  },
  {
   "cell_type": "code",
   "execution_count": 16,
   "metadata": {},
   "outputs": [],
   "source": [
    "def child_rate_count(lat, lon, radi, refer_data):\n",
    "    distance_arr = refer_data.geometry.apply(lambda x : get_min_distance_to_arr\n",
    "                    (_multiline_to_arr_cords(x),\n",
    "                     _shPoint_to_gpPoint((lat, lon)), unit = 'm')[0])\n",
    "    selected_data = refer_data[distance_arr <= radi]\n",
    "    child_rate = sum(selected_data[\"val\"])/sum(selected_data[\"total\"])\n",
    "    return child_rate"
   ]
  },
  {
   "cell_type": "markdown",
   "metadata": {},
   "source": [
    "### i. 주변 학교 / 어린이집 개수"
   ]
  },
  {
   "cell_type": "code",
   "execution_count": 17,
   "metadata": {},
   "outputs": [],
   "source": [
    "def elem_kinder_count(lat, lon, radi, refer_data, typ = 'all'):\n",
    "    \"\"\"\n",
    "    typ = 'all', '유치원과 어린이집', '초등학교'\n",
    "    \"\"\"\n",
    "    if typ != 'all':\n",
    "        refer_data = refer_data.loc[refer_data.시설구분==typ]\n",
    "    data_loc = pd.Series(list(zip(refer_data[\"시설위치_위도\"], refer_data[\"시설위치_경도\"])))\n",
    "    count_sum = data_loc.apply(lambda x: geodesic((lat, lon),x).m <= radi).sum()\n",
    "    return count_sum"
   ]
  },
  {
   "cell_type": "markdown",
   "metadata": {},
   "source": [
    "### j. 스쿨존 여부"
   ]
  },
  {
   "cell_type": "code",
   "execution_count": 18,
   "metadata": {},
   "outputs": [],
   "source": [
    "def isSchoolZone_count(lat, lon, radi, refer_data): # radi = 300 이지만 순서 통일을 위해 default값 지정 x\n",
    "    data_loc = pd.Series(list(zip(refer_data[\"보호구역_위도\"], refer_data[\"보호구역_경도\"])))\n",
    "    count_sum = data_loc.apply(lambda x: geodesic((lat, lon),x).m <= 300).sum()\n",
    "    return count_sum > 0"
   ]
  },
  {
   "cell_type": "markdown",
   "metadata": {},
   "source": [
    "### k. 포함되는 스쿨존 수"
   ]
  },
  {
   "cell_type": "code",
   "execution_count": 19,
   "metadata": {},
   "outputs": [],
   "source": [
    "def numberSchoolZone_count(lat, lon, radi, refer_data): # radi = 300 이지만 순서 통일을 위해 default값 지정 x\n",
    "    data_loc = pd.Series(list(zip(refer_data[\"보호구역_위도\"], refer_data[\"보호구역_경도\"])))\n",
    "    count_sum = data_loc.apply(lambda x: geodesic((lat, lon),x).m <= 300).sum()\n",
    "    return count_sum"
   ]
  },
  {
   "cell_type": "markdown",
   "metadata": {},
   "source": [
    "### l. 사고 수"
   ]
  },
  {
   "cell_type": "code",
   "execution_count": 20,
   "metadata": {},
   "outputs": [],
   "source": [
    "def accident_count(lat, lon, radi, refer_data, idx=False):\n",
    "  \"\"\"\n",
    "  input: origin lat lon, radi(m), data(accidents record)\n",
    "  output: following point count\n",
    "  optional: (idx of point, count)\n",
    "  \"\"\"\n",
    "\n",
    "  if (type(refer_data['geometry'][0]) == str):\n",
    "    refer_data['geometry'] = refer_data['geometry'].apply(_str_to_tuple)\n",
    "  #apply\n",
    "  bool_mask = refer_data['geometry'].apply(lambda x: geodesic((lat, lon),x).m <= radi)\n",
    "  if idx:\n",
    "    return refer_data[bool_mask].index, sum(bool_mask)\n",
    "  else:\n",
    "    return sum(bool_mask)"
   ]
  },
  {
   "cell_type": "markdown",
   "metadata": {},
   "source": [
    "### m. 혼잡빈도"
   ]
  },
  {
   "cell_type": "code",
   "execution_count": 21,
   "metadata": {},
   "outputs": [],
   "source": [
    "def chaos1_nearby_count(lat, lon, radi, refer_data):\n",
    "  \"\"\"\n",
    "  input: origin lat lon, radi(m), road_data(shapely multilinestring), chaos1_data\n",
    "  output: following road's chaos1 by different times or lanes\n",
    "  \n",
    "  #test_set\n",
    "  lat, lon = (37.14875860564099, 127.0773701360968)\n",
    "  radi = 1\n",
    "  chaos1_nearby(lat, lon, radi, road_gdf, chaos1_gdf)[11]\n",
    "  #link_id 끝자리 01(상행) 02(하행) 순으로 나옴\n",
    "  평일 주말 총 평균값\n",
    "   \"\"\"\n",
    "  road_data, chaos1_data = refer_data[0], refer_data[1]\n",
    "  roads = road_nearby(lat, lon, radi, road_data)\n",
    "  result = roads.link_id.apply(lambda x: chaos1_data.loc[(chaos1_data.loc[:,'link_id']//100)==int(x),['time_range','chaos1']].mean()[0])\n",
    "  return result.mean()"
   ]
  },
  {
   "cell_type": "markdown",
   "metadata": {},
   "source": [
    "### n. 도로 폭"
   ]
  },
  {
   "cell_type": "code",
   "execution_count": 22,
   "metadata": {},
   "outputs": [],
   "source": [
    "def width_nearby_count(lat, lon, radi, road_data):\n",
    "  roads = road_nearby(lat, lon, radi, road_data)\n",
    "  return roads.width.apply(int).mean()"
   ]
  },
  {
   "cell_type": "markdown",
   "metadata": {},
   "source": [
    "### o. 사거리 여부"
   ]
  },
  {
   "cell_type": "code",
   "execution_count": 23,
   "metadata": {},
   "outputs": [],
   "source": [
    "def cross_road_nearby_count(lat, lon, radi, road_data):\n",
    "  \"\"\"\n",
    "  4\t교차로 통로\n",
    "  32\t복합교차로\n",
    "  64\t로타리\n",
    "  128\t회전교차로\n",
    "\n",
    "  output = # of cross roads\n",
    "  \"\"\"\n",
    "  cross_roads = [4,32,64,128]\n",
    "  roads = road_nearby(lat, lon, radi, road_data)\n",
    "  result = roads.loc[roads.link_type.apply(lambda x: int(x) in cross_roads)]\n",
    "  return len(result)"
   ]
  },
  {
   "cell_type": "markdown",
   "metadata": {},
   "source": [
    "### p. 주변 학교 / 교습소 수"
   ]
  },
  {
   "cell_type": "code",
   "execution_count": 24,
   "metadata": {},
   "outputs": [],
   "source": [
    "def num_cram_school_count(lat, lon, radi, refer_data):\n",
    "    cram_school = pd.Series(list(zip(refer_data[\"시설위치_위도\"], refer_data[\"시설위치_경도\"])))\n",
    "    return cram_school.apply(lambda x: geodesic((lat, lon),x).m <= radi).sum()"
   ]
  },
  {
   "cell_type": "markdown",
   "metadata": {},
   "source": [
    "### q. 횡단보도와의 최소 거리"
   ]
  },
  {
   "cell_type": "code",
   "execution_count": 25,
   "metadata": {},
   "outputs": [],
   "source": [
    "#reproject 후 polygon 그대로\n",
    "def shortest_cross_count(lat, lon, radi, refer_data, idx = False):\n",
    "    polygon1 = reproject(shapely_Point(lon,lat), 'EPSG:4326', 'EPSG:26944')\n",
    "        \n",
    "    result = refer_data[[\"OBJECTID\",\"geometry\"]].apply(lambda x : (x[1].distance(polygon1), x[0]), axis = 1)\n",
    "    result = min(result, key = lambda x :x[0])\n",
    "    if idx:\n",
    "        return result\n",
    "    return result[0]"
   ]
  },
  {
   "cell_type": "markdown",
   "metadata": {},
   "source": [
    "### r. 신호등과의 최소 거리"
   ]
  },
  {
   "cell_type": "code",
   "execution_count": 26,
   "metadata": {},
   "outputs": [],
   "source": [
    "def shortest_traffic_signal_count(lat, lon, radi, refer_data, idx = False):\n",
    "    result = refer_data[[\"OBJECTID\",\"geometry\"]].apply(lambda x : (geodesic((lat, lon),(x[1].y,x[1].x)).m, x[0]), axis = 1)\n",
    "    result = min(result, key = lambda x :x[0])\n",
    "    if idx:\n",
    "        return result\n",
    "    return result[0]"
   ]
  },
  {
   "cell_type": "markdown",
   "metadata": {},
   "source": [
    "### s. 인도와의 최소 거리"
   ]
  },
  {
   "cell_type": "code",
   "execution_count": 27,
   "metadata": {},
   "outputs": [],
   "source": [
    "def shortest_sidewalk_count(lat, lon, radi, refer_data):\n",
    "    polygon1 = reproject(shapely_Point(lon,lat), 'EPSG:4326', 'EPSG:26944')\n",
    "    result = refer_data[\"geometry\"].apply(lambda x : x.distance(polygon1))\n",
    "    result = min(result)\n",
    "    return result"
   ]
  },
  {
   "cell_type": "markdown",
   "metadata": {},
   "source": [
    "### t. 주변 중앙 분리대 수"
   ]
  },
  {
   "cell_type": "code",
   "execution_count": 28,
   "metadata": {},
   "outputs": [],
   "source": [
    "def barrier_nearby_count(lat, lon, radi, road_data):\n",
    "  roads = road_nearby(lat, lon, radi, road_data)\n",
    "  return int(~(roads.barrier.apply(int).max() == 0))"
   ]
  },
  {
   "cell_type": "markdown",
   "metadata": {},
   "source": [
    "### (3) (2)의 함수를 사용해서 feature 만들기"
   ]
  },
  {
   "cell_type": "code",
   "execution_count": 29,
   "metadata": {},
   "outputs": [],
   "source": [
    "# 함수를 dictionary로 정리\n",
    "\n",
    "function_dict = {\n",
    "    \"overspeed_cam_count\" : overspeed_cam_count,\n",
    "    \"floating_pop_count\" : floating_pop_count,\n",
    "    \"bump_count\" : bump_count,\n",
    "    \"parking_count\" : parking_count,\n",
    "    \"parking_cctv_count\" : parking_cctv_count,\n",
    "    \"car_count\" : car_count,\n",
    "    \"child_count\" : child_count,\n",
    "    \"child_rate_count\" : child_rate_count,\n",
    "    \"elem_kinder_count\" : elem_kinder_count,\n",
    "    \"isSchoolZone_count\" : isSchoolZone_count,\n",
    "    \"numberSchoolZone_count\" : numberSchoolZone_count,\n",
    "    \"accident_count\" : accident_count,\n",
    "    \"chaos1_nearby_count\" : chaos1_nearby_count,\n",
    "    \"width_nearby_count\" : width_nearby_count,\n",
    "    \"cross_road_nearby_count\" : cross_road_nearby_count,\n",
    "    \"num_cram_school_count\" : num_cram_school_count,\n",
    "    \"shortest_cross_count\" : shortest_cross_count,\n",
    "    \"shortest_traffic_signal_count\" : shortest_traffic_signal_count,\n",
    "    \"shortest_sidewalk_count\" : shortest_sidewalk_count,\n",
    "    \"barrier_nearby_count\" : barrier_nearby_count}"
   ]
  },
  {
   "cell_type": "code",
   "execution_count": 30,
   "metadata": {},
   "outputs": [],
   "source": [
    "# 각 함수별로 사용되는 반경이 다르기 때문에\n",
    "# 함수별로 사용되는 반경을 dictionary의 value로 저장\n",
    "\n",
    "radi_dict = {\n",
    "    'overspeed_cam_count' : [100],\n",
    "    'floating_pop_count' : [50],\n",
    "    'bump_count' : [0], # [12.5 + 15, 25 + 15],\n",
    "   'parking_count' : [12.5, 25],\n",
    "    'car_count' : [1000], # max값\n",
    "    'child_count' : [1000], # max값\n",
    "    'elem_kinder_count' : [400], \n",
    "    'numberSchoolZone_count' : [400],\n",
    "    'accident_count' : [12.5, 25],\n",
    "    'chaos1_nearby_count' : [12.5, 25, 50],\n",
    "    'width_nearby_count' : [12.5, 25],\n",
    "    'cross_road_nearby_count' : [12.5, 25],\n",
    "    'num_cram_school_count' : [400],\n",
    "    'shortest_cross_count' : [0],\n",
    "    'shortest_traffic_signal_count' : [0],\n",
    "    'shortest_sidewalk_count' : [0],\n",
    "    'barrier_nearby_count' : [12.5, 25]}"
   ]
  },
  {
   "cell_type": "markdown",
   "metadata": {},
   "source": [
    "데이터 제작  \n",
    "시간이 오래 걸리므로 미리 만든데이터 사용 권장"
   ]
  },
  {
   "cell_type": "code",
   "execution_count": 31,
   "metadata": {},
   "outputs": [
    {
     "name": "stdout",
     "output_type": "stream",
     "text": [
      "overspeed_cam_count100\n"
     ]
    },
    {
     "data": {
      "application/vnd.jupyter.widget-view+json": {
       "model_id": "1ca5a86a28b148b6a2e1f05b6f4e50d0",
       "version_major": 2,
       "version_minor": 0
      },
      "text/plain": [
       "HBox(children=(FloatProgress(value=0.0, max=10.0), HTML(value='')))"
      ]
     },
     "metadata": {},
     "output_type": "display_data"
    },
    {
     "name": "stdout",
     "output_type": "stream",
     "text": [
      "\n",
      "floating_pop_count50\n"
     ]
    },
    {
     "data": {
      "application/vnd.jupyter.widget-view+json": {
       "model_id": "72fa5830c547469f95ab2c6818790240",
       "version_major": 2,
       "version_minor": 0
      },
      "text/plain": [
       "HBox(children=(FloatProgress(value=0.0, max=10.0), HTML(value='')))"
      ]
     },
     "metadata": {},
     "output_type": "display_data"
    },
    {
     "name": "stdout",
     "output_type": "stream",
     "text": [
      "\n",
      "bump_count0\n"
     ]
    },
    {
     "data": {
      "application/vnd.jupyter.widget-view+json": {
       "model_id": "3fc98060aa6d4128bd03e18a4b8506e9",
       "version_major": 2,
       "version_minor": 0
      },
      "text/plain": [
       "HBox(children=(FloatProgress(value=0.0, max=10.0), HTML(value='')))"
      ]
     },
     "metadata": {},
     "output_type": "display_data"
    },
    {
     "name": "stdout",
     "output_type": "stream",
     "text": [
      "\n",
      "parking_count12.5\n"
     ]
    },
    {
     "data": {
      "application/vnd.jupyter.widget-view+json": {
       "model_id": "cc629533f2784dee815c449ce92d31b3",
       "version_major": 2,
       "version_minor": 0
      },
      "text/plain": [
       "HBox(children=(FloatProgress(value=0.0, max=10.0), HTML(value='')))"
      ]
     },
     "metadata": {},
     "output_type": "display_data"
    },
    {
     "name": "stdout",
     "output_type": "stream",
     "text": [
      "\n",
      "parking_count25\n"
     ]
    },
    {
     "data": {
      "application/vnd.jupyter.widget-view+json": {
       "model_id": "c17ba514f38b4b9f879362215aec340a",
       "version_major": 2,
       "version_minor": 0
      },
      "text/plain": [
       "HBox(children=(FloatProgress(value=0.0, max=10.0), HTML(value='')))"
      ]
     },
     "metadata": {},
     "output_type": "display_data"
    },
    {
     "name": "stdout",
     "output_type": "stream",
     "text": [
      "\n",
      "car_count1000\n"
     ]
    },
    {
     "data": {
      "application/vnd.jupyter.widget-view+json": {
       "model_id": "60dcdc25773745c39d10028a29590fc5",
       "version_major": 2,
       "version_minor": 0
      },
      "text/plain": [
       "HBox(children=(FloatProgress(value=0.0, max=10.0), HTML(value='')))"
      ]
     },
     "metadata": {},
     "output_type": "display_data"
    },
    {
     "name": "stdout",
     "output_type": "stream",
     "text": [
      "\n",
      "child_count1000\n"
     ]
    },
    {
     "data": {
      "application/vnd.jupyter.widget-view+json": {
       "model_id": "110476b528b240c197777e8a1b590989",
       "version_major": 2,
       "version_minor": 0
      },
      "text/plain": [
       "HBox(children=(FloatProgress(value=0.0, max=10.0), HTML(value='')))"
      ]
     },
     "metadata": {},
     "output_type": "display_data"
    },
    {
     "name": "stdout",
     "output_type": "stream",
     "text": [
      "\n",
      "elem_kinder_count400\n"
     ]
    },
    {
     "data": {
      "application/vnd.jupyter.widget-view+json": {
       "model_id": "6c87531291184d07bbf84fb14941f859",
       "version_major": 2,
       "version_minor": 0
      },
      "text/plain": [
       "HBox(children=(FloatProgress(value=0.0, max=10.0), HTML(value='')))"
      ]
     },
     "metadata": {},
     "output_type": "display_data"
    },
    {
     "name": "stdout",
     "output_type": "stream",
     "text": [
      "\n",
      "numberSchoolZone_count400\n"
     ]
    },
    {
     "data": {
      "application/vnd.jupyter.widget-view+json": {
       "model_id": "5b4c8e8cde844c7e9252b222438ff1bc",
       "version_major": 2,
       "version_minor": 0
      },
      "text/plain": [
       "HBox(children=(FloatProgress(value=0.0, max=10.0), HTML(value='')))"
      ]
     },
     "metadata": {},
     "output_type": "display_data"
    },
    {
     "name": "stdout",
     "output_type": "stream",
     "text": [
      "\n",
      "accident_count12.5\n"
     ]
    },
    {
     "data": {
      "application/vnd.jupyter.widget-view+json": {
       "model_id": "0ce692df6a76491c917a18dcf6bace3c",
       "version_major": 2,
       "version_minor": 0
      },
      "text/plain": [
       "HBox(children=(FloatProgress(value=0.0, max=10.0), HTML(value='')))"
      ]
     },
     "metadata": {},
     "output_type": "display_data"
    },
    {
     "name": "stdout",
     "output_type": "stream",
     "text": [
      "\n",
      "accident_count25\n"
     ]
    },
    {
     "data": {
      "application/vnd.jupyter.widget-view+json": {
       "model_id": "1def8b9de63347b29ae07699422a6ef5",
       "version_major": 2,
       "version_minor": 0
      },
      "text/plain": [
       "HBox(children=(FloatProgress(value=0.0, max=10.0), HTML(value='')))"
      ]
     },
     "metadata": {},
     "output_type": "display_data"
    },
    {
     "name": "stdout",
     "output_type": "stream",
     "text": [
      "\n",
      "chaos1_nearby_count12.5\n"
     ]
    },
    {
     "data": {
      "application/vnd.jupyter.widget-view+json": {
       "model_id": "77713996ff3547688799cabb6055901a",
       "version_major": 2,
       "version_minor": 0
      },
      "text/plain": [
       "HBox(children=(FloatProgress(value=0.0, max=10.0), HTML(value='')))"
      ]
     },
     "metadata": {},
     "output_type": "display_data"
    },
    {
     "name": "stdout",
     "output_type": "stream",
     "text": [
      "\n",
      "chaos1_nearby_count25\n"
     ]
    },
    {
     "data": {
      "application/vnd.jupyter.widget-view+json": {
       "model_id": "8ab2b052395841c493c131fd1dd23730",
       "version_major": 2,
       "version_minor": 0
      },
      "text/plain": [
       "HBox(children=(FloatProgress(value=0.0, max=10.0), HTML(value='')))"
      ]
     },
     "metadata": {},
     "output_type": "display_data"
    },
    {
     "name": "stdout",
     "output_type": "stream",
     "text": [
      "\n",
      "chaos1_nearby_count50\n"
     ]
    },
    {
     "data": {
      "application/vnd.jupyter.widget-view+json": {
       "model_id": "e375f4eb57184473bc2b9376751ee13e",
       "version_major": 2,
       "version_minor": 0
      },
      "text/plain": [
       "HBox(children=(FloatProgress(value=0.0, max=10.0), HTML(value='')))"
      ]
     },
     "metadata": {},
     "output_type": "display_data"
    },
    {
     "name": "stdout",
     "output_type": "stream",
     "text": [
      "\n",
      "width_nearby_count12.5\n"
     ]
    },
    {
     "data": {
      "application/vnd.jupyter.widget-view+json": {
       "model_id": "3362c1c8d62d4aae904647b05b483ff5",
       "version_major": 2,
       "version_minor": 0
      },
      "text/plain": [
       "HBox(children=(FloatProgress(value=0.0, max=10.0), HTML(value='')))"
      ]
     },
     "metadata": {},
     "output_type": "display_data"
    },
    {
     "name": "stdout",
     "output_type": "stream",
     "text": [
      "\n",
      "width_nearby_count25\n"
     ]
    },
    {
     "data": {
      "application/vnd.jupyter.widget-view+json": {
       "model_id": "f83d6bbee7dd4de4b8f165d242f631e7",
       "version_major": 2,
       "version_minor": 0
      },
      "text/plain": [
       "HBox(children=(FloatProgress(value=0.0, max=10.0), HTML(value='')))"
      ]
     },
     "metadata": {},
     "output_type": "display_data"
    },
    {
     "name": "stdout",
     "output_type": "stream",
     "text": [
      "\n",
      "cross_road_nearby_count12.5\n"
     ]
    },
    {
     "data": {
      "application/vnd.jupyter.widget-view+json": {
       "model_id": "56f03954df824619bcffc5db8f29945d",
       "version_major": 2,
       "version_minor": 0
      },
      "text/plain": [
       "HBox(children=(FloatProgress(value=0.0, max=10.0), HTML(value='')))"
      ]
     },
     "metadata": {},
     "output_type": "display_data"
    },
    {
     "name": "stdout",
     "output_type": "stream",
     "text": [
      "\n",
      "cross_road_nearby_count25\n"
     ]
    },
    {
     "data": {
      "application/vnd.jupyter.widget-view+json": {
       "model_id": "d952ddcdfad349ae9559a0107714f6fb",
       "version_major": 2,
       "version_minor": 0
      },
      "text/plain": [
       "HBox(children=(FloatProgress(value=0.0, max=10.0), HTML(value='')))"
      ]
     },
     "metadata": {},
     "output_type": "display_data"
    },
    {
     "name": "stdout",
     "output_type": "stream",
     "text": [
      "\n",
      "num_cram_school_count400\n"
     ]
    },
    {
     "data": {
      "application/vnd.jupyter.widget-view+json": {
       "model_id": "cebb7f8c65314a7ebc74d7993f6ed07e",
       "version_major": 2,
       "version_minor": 0
      },
      "text/plain": [
       "HBox(children=(FloatProgress(value=0.0, max=10.0), HTML(value='')))"
      ]
     },
     "metadata": {},
     "output_type": "display_data"
    },
    {
     "name": "stdout",
     "output_type": "stream",
     "text": [
      "\n",
      "shortest_cross_count0\n"
     ]
    },
    {
     "data": {
      "application/vnd.jupyter.widget-view+json": {
       "model_id": "f114e1b5713443029cc2c34e84f5858f",
       "version_major": 2,
       "version_minor": 0
      },
      "text/plain": [
       "HBox(children=(FloatProgress(value=0.0, max=10.0), HTML(value='')))"
      ]
     },
     "metadata": {},
     "output_type": "display_data"
    },
    {
     "name": "stdout",
     "output_type": "stream",
     "text": [
      "\n",
      "shortest_traffic_signal_count0\n"
     ]
    },
    {
     "data": {
      "application/vnd.jupyter.widget-view+json": {
       "model_id": "9ddd042b106247ed969c9fed83c8b912",
       "version_major": 2,
       "version_minor": 0
      },
      "text/plain": [
       "HBox(children=(FloatProgress(value=0.0, max=10.0), HTML(value='')))"
      ]
     },
     "metadata": {},
     "output_type": "display_data"
    },
    {
     "name": "stdout",
     "output_type": "stream",
     "text": [
      "\n",
      "shortest_sidewalk_count0\n"
     ]
    },
    {
     "data": {
      "application/vnd.jupyter.widget-view+json": {
       "model_id": "973235779a614a38ae2530b609dd3600",
       "version_major": 2,
       "version_minor": 0
      },
      "text/plain": [
       "HBox(children=(FloatProgress(value=0.0, max=10.0), HTML(value='')))"
      ]
     },
     "metadata": {},
     "output_type": "display_data"
    },
    {
     "name": "stdout",
     "output_type": "stream",
     "text": [
      "\n",
      "barrier_nearby_count12.5\n"
     ]
    },
    {
     "data": {
      "application/vnd.jupyter.widget-view+json": {
       "model_id": "18c22741abeb46cc9b3f227c2af292e4",
       "version_major": 2,
       "version_minor": 0
      },
      "text/plain": [
       "HBox(children=(FloatProgress(value=0.0, max=10.0), HTML(value='')))"
      ]
     },
     "metadata": {},
     "output_type": "display_data"
    },
    {
     "name": "stdout",
     "output_type": "stream",
     "text": [
      "\n",
      "barrier_nearby_count25\n"
     ]
    },
    {
     "data": {
      "application/vnd.jupyter.widget-view+json": {
       "model_id": "b062d230d709402a9b943cb81fceeeee",
       "version_major": 2,
       "version_minor": 0
      },
      "text/plain": [
       "HBox(children=(FloatProgress(value=0.0, max=10.0), HTML(value='')))"
      ]
     },
     "metadata": {},
     "output_type": "display_data"
    },
    {
     "name": "stdout",
     "output_type": "stream",
     "text": [
      "\n"
     ]
    }
   ],
   "source": [
    "df = pd.read_csv(\"learn_point25.csv\")\n",
    "values = [df]\n",
    "for key in list(radi_dict.keys()):\n",
    "    for radi in radi_dict[key]:\n",
    "        print(key + str(radi))\n",
    "        tmp = df.progress_apply(lambda x: function_dict[key](x[1], x[0], radi, data_set[key]),axis = 1)\n",
    "        if len(tmp.shape) == 1:\n",
    "            tmp.name = key + str(radi)\n",
    "        else:\n",
    "            tmp.columns = [key + str(radi) +\"_\" + str(i) for i in range(tmp.shape[1])]\n",
    "        values.append(tmp)\n",
    "\n",
    "pd.concat(values,axis=1).to_csv(\"0_8856.csv\",index = False)"
   ]
  },
  {
   "cell_type": "code",
   "execution_count": null,
   "metadata": {},
   "outputs": [],
   "source": []
  }
 ],
 "metadata": {
  "hide_input": false,
  "kernelspec": {
   "display_name": "Python 3",
   "language": "python",
   "name": "python3"
  },
  "language_info": {
   "codemirror_mode": {
    "name": "ipython",
    "version": 3
   },
   "file_extension": ".py",
   "mimetype": "text/x-python",
   "name": "python",
   "nbconvert_exporter": "python",
   "pygments_lexer": "ipython3",
   "version": "3.6.12"
  },
  "toc": {
   "base_numbering": 1,
   "nav_menu": {},
   "number_sections": true,
   "sideBar": true,
   "skip_h1_title": false,
   "title_cell": "Table of Contents",
   "title_sidebar": "Contents",
   "toc_cell": false,
   "toc_position": {},
   "toc_section_display": true,
   "toc_window_display": false
  },
  "varInspector": {
   "cols": {
    "lenName": 16,
    "lenType": 16,
    "lenVar": 40
   },
   "kernels_config": {
    "python": {
     "delete_cmd_postfix": "",
     "delete_cmd_prefix": "del ",
     "library": "var_list.py",
     "varRefreshCmd": "print(var_dic_list())"
    },
    "r": {
     "delete_cmd_postfix": ") ",
     "delete_cmd_prefix": "rm(",
     "library": "var_list.r",
     "varRefreshCmd": "cat(var_dic_list()) "
    }
   },
   "types_to_exclude": [
    "module",
    "function",
    "builtin_function_or_method",
    "instance",
    "_Feature"
   ],
   "window_display": false
  }
 },
 "nbformat": 4,
 "nbformat_minor": 4
}
