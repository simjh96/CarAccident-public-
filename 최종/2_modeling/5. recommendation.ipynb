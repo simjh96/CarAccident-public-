{
 "cells": [
  {
   "cell_type": "code",
   "execution_count": 1,
   "metadata": {
    "ExecuteTime": {
     "end_time": "2021-01-28T07:51:26.806971Z",
     "start_time": "2021-01-28T07:51:24.752703Z"
    }
   },
   "outputs": [],
   "source": [
    "import numpy as np\n",
    "import pandas as pd\n",
    "import random\n",
    "np.random.seed(0)\n",
    "random.seed(0)\n",
    "import pandas as pd\n",
    "from imblearn.over_sampling import SMOTE # unbalanced dataset을 학습시키기 위해, smote 사용하여 oversampling(train set만)\n",
    "from xgboost import XGBClassifier\n",
    "from sklearn.preprocessing import StandardScaler, MinMaxScaler\n",
    "import seaborn as sns\n",
    "import os\n",
    "\n",
    "os.chdir('../data')"
   ]
  },
  {
   "cell_type": "markdown",
   "metadata": {},
   "source": [
    "# xgboost 모델 복원"
   ]
  },
  {
   "cell_type": "code",
   "execution_count": 2,
   "metadata": {
    "ExecuteTime": {
     "end_time": "2021-01-28T07:51:27.547989Z",
     "start_time": "2021-01-28T07:51:26.808966Z"
    }
   },
   "outputs": [
    {
     "name": "stderr",
     "output_type": "stream",
     "text": [
      "c:\\users\\ljw56\\anaconda3\\envs\\geo\\lib\\site-packages\\xgboost\\sklearn.py:888: UserWarning: The use of label encoder in XGBClassifier is deprecated and will be removed in a future release. To remove this warning, do the following: 1) Pass option use_label_encoder=False when constructing XGBClassifier object; and 2) Encode your labels (y) as integers starting with 0, i.e. 0, 1, 2, ..., [num_class - 1].\n",
      "  warnings.warn(label_encoder_deprecation_msg, UserWarning)\n"
     ]
    },
    {
     "name": "stdout",
     "output_type": "stream",
     "text": [
      "[16:51:26] WARNING: C:/Users/Administrator/workspace/xgboost-win64_release_1.3.0/src/learner.cc:541: \n",
      "Parameters: { params } might not be used.\n",
      "\n",
      "  This may not be accurate due to some parameters are only used in language bindings but\n",
      "  passed down to XGBoost core.  Or some parameters are not used but slip through this\n",
      "  verification. Please open an issue if you find above cases.\n",
      "\n",
      "\n",
      "[16:51:26] WARNING: C:/Users/Administrator/workspace/xgboost-win64_release_1.3.0/src/learner.cc:1061: Starting in XGBoost 1.3.0, the default evaluation metric used with the objective 'binary:logistic' was changed from 'error' to 'logloss'. Explicitly set eval_metric if you'd like to restore the old behavior.\n"
     ]
    },
    {
     "data": {
      "text/plain": [
       "XGBClassifier(base_score=0.5, booster='gbtree', colsample_bylevel=1,\n",
       "              colsample_bynode=1, colsample_bytree=1, gamma=0, gpu_id=-1,\n",
       "              importance_type='gain', interaction_constraints='',\n",
       "              learning_rate=0.300000012, max_delta_step=0, max_depth=6,\n",
       "              min_child_weight=1, missing=nan, monotone_constraints='()',\n",
       "              n_estimators=100, n_jobs=8, num_parallel_tree=1,\n",
       "              params={'colsample_bytree': 0.5182219992643773,\n",
       "                      'gamma': 0.04205796920017294,\n",
       "                      'learning_rate': 0.0924126523646669, 'max_depth': 10,\n",
       "                      'min_child_weight': 2, 'n_estimators': 1543,\n",
       "                      'num_leaves': 22, 'subsample': 0.6101047022558219},\n",
       "              random_state=0, reg_alpha=0, reg_lambda=1, scale_pos_weight=1,\n",
       "              subsample=1, tree_method='exact', validate_parameters=1,\n",
       "              verbosity=None)"
      ]
     },
     "execution_count": 2,
     "metadata": {},
     "output_type": "execute_result"
    }
   ],
   "source": [
    "#preprocessing\n",
    "data25 = pd.read_csv(\"feature25.csv\")\n",
    "data50 = pd.read_csv(\"feature50.csv\")\n",
    "\n",
    "data25['is_bump40'] = data25['shortest_bump_dist'] < 40\n",
    "data50['is_bump40'] = data50['shortest_bump_dist'] < 40\n",
    "\n",
    "data25['is_sidewalk25'] = data25['shortest_sidewalk_dist'] < 25\n",
    "data50['is_sidewalk25'] = data50['shortest_sidewalk_dist'] < 25\n",
    "\n",
    "col = {\"x_common\": ['overspeed_cam_count100', 'floating_pop_count50','car_count1000', 'child_count1000', \n",
    "                  'elem_kinder_count400','num_cram_school_count400', \n",
    "                  'shortest_cross_dist','shortest_traffic_signal_dist',],\n",
    "       \"x_25\" : ['is_bump40', 'parking_count25','is_sidewalk25', 'barrier_nearby_count25',\n",
    "                   'chaos1_nearby_count25', 'width_nearby_count25','cross_road_nearby_count25',\n",
    "                   ],\n",
    "       \"x_50\" : ['is_bump40', 'parking_count25','is_sidewalk25', 'barrier_nearby_count25',\n",
    "                   'chaos1_nearby_count25', 'width_nearby_count25','cross_road_nearby_count25'],\n",
    "       \"y_25\" : 'accident_count12.5',\n",
    "       \"y_50\" : 'accident_count25'}\n",
    "\n",
    "xy50 = data50[col[\"x_common\"] + col[\"x_50\"] +[col['y_50']]].astype(float)\n",
    "xy25 = data25[col[\"x_common\"] + col[\"x_25\"] +[col['y_25']]].astype(float)\n",
    "\n",
    "xy50[col['y_50']] = (xy50[col['y_50']] > 0).astype(float)\n",
    "xy25[col['y_25']] = (xy25[col['y_25']] > 0).astype(float)\n",
    "\n",
    "kmeans50 = pd.read_csv(\"kmeans_cluster50.csv\")\n",
    "kmeans25 = pd.read_csv(\"kmeans_cluster25.csv\")\n",
    "\n",
    "xy50=pd.concat([xy50, kmeans50], axis=1)\n",
    "xy50.rename(columns={'0':'cluster'}, inplace=True)\n",
    "\n",
    "xy25=pd.concat([xy25, kmeans25], axis=1)\n",
    "xy25.rename(columns={'0':'cluster'}, inplace=True)\n",
    "\n",
    "xy_train=xy50.drop(['overspeed_cam_count100', 'is_bump40'], axis=1)\n",
    "xy_test=xy25.drop(['overspeed_cam_count100', 'is_bump40'], axis=1)\n",
    "\n",
    "xy_train.rename(columns={'parking_count25':'parking_count', 'is_sidewalk25':'is_sidewalk',\n",
    "                    'barrier_nearby_count25':'barrier_nearby_count', 'chaos1_nearby_count25':'chaos1_nearby_count',\n",
    "                     'width_nearby_count25':'width_nearby_count', 'cross_road_nearby_count25':'cross_road_nearby_count',\n",
    "                     'accident_count25':'accident_count'},inplace=True)\n",
    "xy_test.rename(columns={'parking_count25':'parking_count', 'is_sidewalk25':'is_sidewalk',\n",
    "                    'barrier_nearby_count25':'barrier_nearby_count', 'chaos1_nearby_count25':'chaos1_nearby_count',\n",
    "                     'width_nearby_count25':'width_nearby_count', 'cross_road_nearby_count25':'cross_road_nearby_count',\n",
    "                     'accident_count12.5':'accident_count'},inplace=True)\n",
    "xy_train['cluster']=xy_train['cluster'].astype('category')\n",
    "xy_test['cluster']=xy_test['cluster'].astype('category')\n",
    "\n",
    "xy_train=pd.get_dummies(xy_train)\n",
    "xy_test=pd.get_dummies(xy_test)\n",
    "\n",
    "X_train=xy_train.drop(['accident_count'], axis=1)\n",
    "y_train=xy_train['accident_count']\n",
    "\n",
    "X_test=xy_test.drop(['accident_count'], axis=1)\n",
    "y_test=xy_test['accident_count']\n",
    "\n",
    "sm = SMOTE(random_state = 0)\n",
    "X_resampled, y_resampled = sm.fit_sample(X_train, y_train)\n",
    "\n",
    "params={'colsample_bytree': 0.5182219992643773,\n",
    " 'gamma': 0.04205796920017294,\n",
    " 'learning_rate': 0.0924126523646669,\n",
    " 'max_depth': 10,\n",
    " 'min_child_weight': 2,\n",
    " 'n_estimators': 1543,\n",
    " 'num_leaves': 22,\n",
    " 'subsample': 0.6101047022558219}\n",
    "\n",
    "xgb_model=XGBClassifier(params=params,random_state = 0)\n",
    "xgb_model.fit(X_resampled, y_resampled)"
   ]
  },
  {
   "cell_type": "markdown",
   "metadata": {},
   "source": [
    "모델 복원여부 확인"
   ]
  },
  {
   "cell_type": "code",
   "execution_count": 3,
   "metadata": {
    "ExecuteTime": {
     "end_time": "2021-01-28T07:51:27.608827Z",
     "start_time": "2021-01-28T07:51:27.549997Z"
    }
   },
   "outputs": [
    {
     "data": {
      "text/plain": [
       "0.0    7636\n",
       "Name: danger, dtype: int64"
      ]
     },
     "execution_count": 3,
     "metadata": {},
     "output_type": "execute_result"
    }
   ],
   "source": [
    "xgb_pred_prob = xgb_model.predict_proba(X_test)\n",
    "(pd.read_csv(\"modern_opt_set_BO.csv\").iloc[:,2:][\"danger\"] - xgb_pred_prob[:,1]).abs().round(2).value_counts()"
   ]
  },
  {
   "cell_type": "markdown",
   "metadata": {},
   "source": [
    "## Lime으로 변수별 영향 파악"
   ]
  },
  {
   "cell_type": "code",
   "execution_count": 4,
   "metadata": {
    "ExecuteTime": {
     "end_time": "2021-01-28T07:51:27.624784Z",
     "start_time": "2021-01-28T07:51:27.610822Z"
    }
   },
   "outputs": [],
   "source": [
    "import lime\n",
    "import lime.lime_tabular\n",
    "from matplotlib import font_manager, rc, rcParams\n",
    "import matplotlib.pyplot as plt"
   ]
  },
  {
   "cell_type": "code",
   "execution_count": 5,
   "metadata": {
    "ExecuteTime": {
     "end_time": "2021-01-28T07:51:27.640745Z",
     "start_time": "2021-01-28T07:51:27.626780Z"
    }
   },
   "outputs": [],
   "source": [
    "opt_set = \\\n",
    "pd.concat([pd.read_csv(\"result_danger_loc(school).csv\",index_col = 0)[[\"lat\",\"lon\"]],\n",
    "pd.read_csv(\"result_danger_loc(non-school).csv\",index_col = 0)[[\"lat\",\"lon\"]]],axis=0).reset_index()"
   ]
  },
  {
   "cell_type": "code",
   "execution_count": 6,
   "metadata": {
    "ExecuteTime": {
     "end_time": "2021-01-28T07:51:27.655701Z",
     "start_time": "2021-01-28T07:51:27.643734Z"
    }
   },
   "outputs": [],
   "source": [
    "def save_feature_fig(opt_set, num):\n",
    "    i = opt_set.loc[num,\"index\"]\n",
    "    explainer = lime.lime_tabular.LimeTabularExplainer(training_data=X_test.values, mode='classification',feature_names=X_test.columns, \n",
    "                                                       categorical_features=[i for i in X_test.columns if \"cluster\" in i or \"is_\" in i], \n",
    "                                                       verbose=True)\n",
    "\n",
    "    exp = explainer.explain_instance(X_test.values[i], xgb_model.predict_proba, num_features=10)\n",
    "    # exp.show_in_notebook(show_table=True,show_all=True)\n",
    "    exp.as_pyplot_figure(); # 세미콜론 붙이니까 1개나오네(안 붙이면 그래프 2개 나옴)\n",
    "    # plt.yticks(color='white')\n",
    "    # plt.xticks(color='white')\n",
    "    plt.tight_layout()\n",
    "    name = str(num) + \": \" + str(i) + \", lat\" +  str(opt_set.loc[num,\"lat\"]) + \", lon\" + str(opt_set.loc[num,\"lon\"])\n",
    "    plt.title( name)\n",
    "    # plt.show()\n",
    "\n",
    "    plt.savefig('picture/'+ name.replace(\": \",\"_\") + '.png')\n",
    "    plt.close()\n",
    "    "
   ]
  },
  {
   "cell_type": "code",
   "execution_count": 7,
   "metadata": {
    "ExecuteTime": {
     "end_time": "2021-01-28T07:54:00.502366Z",
     "start_time": "2021-01-28T07:51:27.659692Z"
    }
   },
   "outputs": [
    {
     "name": "stdout",
     "output_type": "stream",
     "text": [
      "Intercept 0.10406919611731863\n",
      "Prediction_local [0.58657475]\n",
      "Right: 0.9969896\n",
      "Intercept 0.07158842725610048\n",
      "Prediction_local [0.44134121]\n",
      "Right: 0.99687386\n",
      "Intercept 0.23663537501662732\n",
      "Prediction_local [0.4782617]\n",
      "Right: 0.9945585\n",
      "Intercept 0.18456521698404782\n",
      "Prediction_local [0.50709443]\n",
      "Right: 0.9935588\n",
      "Intercept 0.19470882469633638\n",
      "Prediction_local [0.51628927]\n",
      "Right: 0.9901434\n",
      "Intercept 0.14498852975914306\n",
      "Prediction_local [0.4212383]\n",
      "Right: 0.98963296\n",
      "Intercept 0.30438884969917157\n",
      "Prediction_local [0.32420625]\n",
      "Right: 0.9876024\n",
      "Intercept 0.31077153161808335\n",
      "Prediction_local [0.27370253]\n",
      "Right: 0.9864451\n",
      "Intercept 0.15543811876053462\n",
      "Prediction_local [0.39187578]\n",
      "Right: 0.98606145\n",
      "Intercept 0.08040273302474124\n",
      "Prediction_local [0.71804311]\n",
      "Right: 0.9850012\n",
      "Intercept 0.0992303052317097\n",
      "Prediction_local [0.5270071]\n",
      "Right: 0.9843779\n",
      "Intercept 0.19196153522977755\n",
      "Prediction_local [0.4518234]\n",
      "Right: 0.9823883\n",
      "Intercept 0.26367431145693987\n",
      "Prediction_local [0.38062933]\n",
      "Right: 0.9784273\n",
      "Intercept 0.14805472743378012\n",
      "Prediction_local [0.62192364]\n",
      "Right: 0.97787124\n",
      "Intercept 0.39195202452192873\n",
      "Prediction_local [0.2253031]\n",
      "Right: 0.97657055\n",
      "Intercept 0.1945935879059535\n",
      "Prediction_local [0.52762936]\n",
      "Right: 0.9760751\n",
      "Intercept 0.11587737046676719\n",
      "Prediction_local [0.5671038]\n",
      "Right: 0.9756385\n",
      "Intercept 0.2733510656312199\n",
      "Prediction_local [0.26250579]\n",
      "Right: 0.9753312\n",
      "Intercept 0.1526544903047991\n",
      "Prediction_local [0.49662233]\n",
      "Right: 0.97388566\n",
      "Intercept 0.14694438193026052\n",
      "Prediction_local [0.51454825]\n",
      "Right: 0.97298616\n",
      "Intercept 0.08240212928466792\n",
      "Prediction_local [0.79310151]\n",
      "Right: 0.9935133\n",
      "Intercept 0.11421979905420976\n",
      "Prediction_local [0.62326254]\n",
      "Right: 0.9922712\n",
      "Intercept 0.09575354337864189\n",
      "Prediction_local [0.5580245]\n",
      "Right: 0.9875309\n",
      "Intercept 0.3028875253183825\n",
      "Prediction_local [0.18899853]\n",
      "Right: 0.9820134\n",
      "Intercept 0.1706257084106479\n",
      "Prediction_local [0.3904978]\n",
      "Right: 0.9793452\n",
      "Intercept 0.3288251974893548\n",
      "Prediction_local [0.33043868]\n",
      "Right: 0.978867\n",
      "Intercept 0.23814706641976569\n",
      "Prediction_local [0.48487503]\n",
      "Right: 0.9686129\n",
      "Intercept 0.25244310517370344\n",
      "Prediction_local [0.41603698]\n",
      "Right: 0.9642103\n",
      "Intercept 0.2404266216788205\n",
      "Prediction_local [0.43337551]\n",
      "Right: 0.96395963\n",
      "Intercept 0.11056324048287663\n",
      "Prediction_local [0.62330849]\n",
      "Right: 0.95085055\n",
      "Intercept 0.18382144686540292\n",
      "Prediction_local [0.43722738]\n",
      "Right: 0.949871\n",
      "Intercept 0.38279009170644906\n",
      "Prediction_local [0.09419774]\n",
      "Right: 0.9493349\n",
      "Intercept 0.009368654579333446\n",
      "Prediction_local [0.73523886]\n",
      "Right: 0.9423909\n",
      "Intercept 0.15323832386032094\n",
      "Prediction_local [0.46135033]\n",
      "Right: 0.93663895\n",
      "Intercept 0.12277815730936803\n",
      "Prediction_local [0.66928031]\n",
      "Right: 0.9152415\n",
      "Intercept 0.30039417072476765\n",
      "Prediction_local [0.33928672]\n",
      "Right: 0.89082396\n",
      "Intercept 0.18586324205760998\n",
      "Prediction_local [0.40933496]\n",
      "Right: 0.88002837\n",
      "Intercept 0.26661212073874396\n",
      "Prediction_local [0.22327881]\n",
      "Right: 0.87578833\n",
      "Intercept 0.25051565570741724\n",
      "Prediction_local [0.32755085]\n",
      "Right: 0.8694561\n",
      "Intercept 0.23390424621228945\n",
      "Prediction_local [0.36073424]\n",
      "Right: 0.8667449\n"
     ]
    }
   ],
   "source": [
    "for i in range(len(opt_set)):\n",
    "    save_feature_fig(opt_set, i)"
   ]
  },
  {
   "cell_type": "markdown",
   "metadata": {},
   "source": [
    "# classic Model Beta"
   ]
  },
  {
   "cell_type": "code",
   "execution_count": 8,
   "metadata": {
    "ExecuteTime": {
     "end_time": "2021-01-28T07:54:00.533283Z",
     "start_time": "2021-01-28T07:54:00.504360Z"
    }
   },
   "outputs": [],
   "source": [
    "tmp = pd.read_csv(\"classic_beta.csv\",index_col = 0)\n",
    "\n",
    "base_coef = tmp[tmp.hue == \"base\"][[\"x\",\"effect\"]]\n",
    "cluster3_coef = tmp[tmp.hue == \"cluster3\"][[\"x\",\"effect\"]]\n",
    "cluster0_coef = tmp[tmp.hue == \"cluster0\"][[\"x\",\"effect\"]]\n",
    "schoolzone_coef = tmp[tmp.hue == \"schoolzone\"][[\"x\",\"effect\"]]\n",
    "\n",
    "cluster25 = pd.read_csv(\"kmeans_cluster25.csv\")"
   ]
  },
  {
   "cell_type": "code",
   "execution_count": 9,
   "metadata": {
    "ExecuteTime": {
     "end_time": "2021-01-28T07:54:00.610081Z",
     "start_time": "2021-01-28T07:54:00.535279Z"
    }
   },
   "outputs": [],
   "source": [
    "data25 = pd.read_csv(\"feature25.csv\")\n",
    "data50 = pd.read_csv(\"feature50.csv\")\n",
    "\n",
    "data25['is_bump20'] = data25['shortest_bump_dist'] < 20\n",
    "data25['is_bump40'] = data25['shortest_bump_dist'] < 40\n",
    "data50['is_bump20'] = data50['shortest_bump_dist'] < 20\n",
    "data50['is_bump40'] = data50['shortest_bump_dist'] < 40\n",
    "\n",
    "data25['is_sidewalk12.5'] = data25['shortest_sidewalk_dist'] < 12.5\n",
    "data25['is_sidewalk25'] = data25['shortest_sidewalk_dist'] < 25\n",
    "data50['is_sidewalk12.5'] = data50['shortest_sidewalk_dist'] < 12.5\n",
    "data50['is_sidewalk25'] = data50['shortest_sidewalk_dist'] < 25\n",
    "\n",
    "col = {\"x_common\": ['overspeed_cam_count100', 'floating_pop_count50','car_count1000', 'child_count1000', \n",
    "                  'elem_kinder_count400','num_cram_school_count400', \n",
    "                  'shortest_cross_dist','shortest_traffic_signal_dist',], # 'numberSchoolZone_count400'\n",
    "       \"x_25\" : ['is_bump20', 'parking_count12.5','is_sidewalk12.5', 'barrier_nearby_count12.5',\n",
    "                   'chaos1_nearby_count12.5', 'width_nearby_count12.5','cross_road_nearby_count12.5',\n",
    "                   ],\n",
    "       \"x_50\" : ['is_bump40', 'parking_count25','is_sidewalk25', 'barrier_nearby_count25',\n",
    "                   'chaos1_nearby_count25', 'width_nearby_count25','cross_road_nearby_count25'],\n",
    "       \"y_25\" : 'accident_count12.5',\n",
    "       \"y_50\" : 'accident_count25',}\n",
    "\n",
    "tmp_data50 = data25[['floating_pop_count50', 'elem_kinder_count400','num_cram_school_count400', \n",
    "                 'parking_count25', 'width_nearby_count25','cross_road_nearby_count25',]].astype(float)\n",
    "\n",
    "tmp_data25 = data25[['floating_pop_count50', 'elem_kinder_count400','num_cram_school_count400', \n",
    "                 'parking_count25', 'width_nearby_count25','cross_road_nearby_count25',]].astype(float)\n",
    "scaler = MinMaxScaler()\n",
    "scaler.fit(tmp_data50)\n",
    "tmp_data25.loc[:,:] = scaler.transform(tmp_data25)\n",
    "data25[\"is_cross50\"] = data25[\"shortest_cross_dist\"] < 50\n",
    "data25[\"is_traffic_signal50\"] = data25[\"shortest_traffic_signal_dist\"] < 50\n",
    "\n",
    "base_coef_mean = base_coef.set_index(\"x\")\n",
    "cluster3_coef_mean = cluster3_coef.set_index(\"x\")\n",
    "cluster0_coef_mean = cluster0_coef.set_index(\"x\")\n",
    "schoolzone_coef_mean = schoolzone_coef.set_index(\"x\")"
   ]
  },
  {
   "cell_type": "code",
   "execution_count": 10,
   "metadata": {
    "ExecuteTime": {
     "end_time": "2021-01-28T07:54:10.189093Z",
     "start_time": "2021-01-28T07:54:00.613071Z"
    }
   },
   "outputs": [],
   "source": [
    "dataset = pd.concat([tmp_data25,data25[['lat','lon','overspeed_cam_count100', \"is_cross50\", \n",
    "                                        \"is_traffic_signal50\",'is_bump40','numberSchoolZone_count400']]],axis=1)\n",
    "dataset = dataset.assign(cluster = cluster25)\n",
    "def cal_danger(x):\n",
    "    coef_set = [base_coef_mean]\n",
    "    if x[\"cluster\"] == 3:\n",
    "        coef_set.append(cluster3_coef_mean)\n",
    "    if x[\"cluster\"] == 0:\n",
    "        coef_set.append(cluster0_coef_mean)\n",
    "    if x['numberSchoolZone_count400'] != 0:\n",
    "        coef_set.append(schoolzone_coef_mean)\n",
    "    coef = pd.concat(coef_set,axis=1).mean(axis = 1)\n",
    "    return (coef * x[coef.index])\n",
    "effect_size_set = dataset.apply(cal_danger,axis=1)"
   ]
  },
  {
   "cell_type": "code",
   "execution_count": 11,
   "metadata": {
    "ExecuteTime": {
     "end_time": "2021-01-28T07:54:10.204563Z",
     "start_time": "2021-01-28T07:54:10.190598Z"
    }
   },
   "outputs": [],
   "source": [
    "opt_set = \\\n",
    "pd.concat([pd.read_csv(\"result_danger_loc(school).csv\",index_col = 0)[[\"lat\",\"lon\"]],\n",
    "pd.read_csv(\"result_danger_loc(non-school).csv\",index_col = 0)[[\"lat\",\"lon\"]]],axis=0).reset_index()"
   ]
  },
  {
   "cell_type": "code",
   "execution_count": 12,
   "metadata": {
    "ExecuteTime": {
     "end_time": "2021-01-28T07:54:10.219560Z",
     "start_time": "2021-01-28T07:54:10.206557Z"
    },
    "code_folding": []
   },
   "outputs": [],
   "source": [
    "def save_fig_classic(num, opt_set, effect_size_set):\n",
    "    i = opt_set.loc[num,\"index\"]\n",
    "    tmp = effect_size_set.loc[i].reset_index()\n",
    "    tmp[\"x\"] = tmp[\"x\"].apply(lambda x: \"\".join([i for i in x if not i.isdigit()]))\n",
    "    fig,ax = plt.subplots(figsize = (10,3))\n",
    "    fig.autofmt_xdate(rotation=10)\n",
    "    name = str(num) + \": \" + str(i) + \", lat\" +  str(opt_set.loc[num,\"lat\"]) + \", lon\" + str(opt_set.loc[num,\"lon\"])\n",
    "    plt.title(name)\n",
    "    sns.barplot(x = tmp[\"x\"], y = tmp.iloc[:,-1],ax=ax)\n",
    "    plt.savefig('picture/'+ name.replace(\": \",\"_\") + '_classic.png')    \n",
    "    plt.close()\n",
    "    "
   ]
  },
  {
   "cell_type": "code",
   "execution_count": 13,
   "metadata": {
    "ExecuteTime": {
     "end_time": "2021-01-28T07:54:13.576527Z",
     "start_time": "2021-01-28T07:54:10.221205Z"
    }
   },
   "outputs": [],
   "source": [
    "for i in range(len(opt_set)):\n",
    "    save_fig_classic(i, opt_set, effect_size_set)"
   ]
  }
 ],
 "metadata": {
  "hide_input": false,
  "kernelspec": {
   "display_name": "Python 3",
   "language": "python",
   "name": "python3"
  },
  "language_info": {
   "codemirror_mode": {
    "name": "ipython",
    "version": 3
   },
   "file_extension": ".py",
   "mimetype": "text/x-python",
   "name": "python",
   "nbconvert_exporter": "python",
   "pygments_lexer": "ipython3",
   "version": "3.6.12"
  },
  "toc": {
   "base_numbering": 1,
   "nav_menu": {},
   "number_sections": true,
   "sideBar": true,
   "skip_h1_title": false,
   "title_cell": "Table of Contents",
   "title_sidebar": "Contents",
   "toc_cell": false,
   "toc_position": {},
   "toc_section_display": true,
   "toc_window_display": false
  },
  "varInspector": {
   "cols": {
    "lenName": 16,
    "lenType": 16,
    "lenVar": 40
   },
   "kernels_config": {
    "python": {
     "delete_cmd_postfix": "",
     "delete_cmd_prefix": "del ",
     "library": "var_list.py",
     "varRefreshCmd": "print(var_dic_list())"
    },
    "r": {
     "delete_cmd_postfix": ") ",
     "delete_cmd_prefix": "rm(",
     "library": "var_list.r",
     "varRefreshCmd": "cat(var_dic_list()) "
    }
   },
   "types_to_exclude": [
    "module",
    "function",
    "builtin_function_or_method",
    "instance",
    "_Feature"
   ],
   "window_display": false
  }
 },
 "nbformat": 4,
 "nbformat_minor": 4
}
