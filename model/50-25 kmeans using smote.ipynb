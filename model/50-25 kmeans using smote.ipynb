{
 "cells": [
  {
   "cell_type": "markdown",
   "metadata": {},
   "source": [
    "# 1. data import & preprocessing "
   ]
  },
  {
   "cell_type": "code",
   "execution_count": 1,
   "metadata": {},
   "outputs": [],
   "source": [
    "import numpy as np\n",
    "import pandas as pd"
   ]
  },
  {
   "cell_type": "markdown",
   "metadata": {},
   "source": [
    "* dataset 불러오기"
   ]
  },
  {
   "cell_type": "code",
   "execution_count": 2,
   "metadata": {},
   "outputs": [
    {
     "ename": "FileNotFoundError",
     "evalue": "[Errno 2] No such file or directory: 'C:/Users/ishon/OneDrive/바탕 화면/compas/model/data/feature25.csv'",
     "output_type": "error",
     "traceback": [
      "\u001b[1;31m---------------------------------------------------------------------------\u001b[0m",
      "\u001b[1;31mFileNotFoundError\u001b[0m                         Traceback (most recent call last)",
      "\u001b[1;32m<ipython-input-2-4a4d20481fcc>\u001b[0m in \u001b[0;36m<module>\u001b[1;34m\u001b[0m\n\u001b[1;32m----> 1\u001b[1;33m \u001b[0mdata25\u001b[0m \u001b[1;33m=\u001b[0m \u001b[0mpd\u001b[0m\u001b[1;33m.\u001b[0m\u001b[0mread_csv\u001b[0m\u001b[1;33m(\u001b[0m\u001b[1;34m\"C:/Users/ishon/OneDrive/바탕 화면/compas/model/data/feature25.csv\"\u001b[0m\u001b[1;33m)\u001b[0m\u001b[1;33m\u001b[0m\u001b[1;33m\u001b[0m\u001b[0m\n\u001b[0m\u001b[0;32m      2\u001b[0m \u001b[0mdata50\u001b[0m \u001b[1;33m=\u001b[0m \u001b[0mpd\u001b[0m\u001b[1;33m.\u001b[0m\u001b[0mread_csv\u001b[0m\u001b[1;33m(\u001b[0m\u001b[1;34m\"C:/Users/ishon/OneDrive/바탕 화면/compas/model/data/feature50.csv\"\u001b[0m\u001b[1;33m)\u001b[0m\u001b[1;33m\u001b[0m\u001b[1;33m\u001b[0m\u001b[0m\n\u001b[0;32m      3\u001b[0m \u001b[1;33m\u001b[0m\u001b[0m\n\u001b[0;32m      4\u001b[0m \u001b[0mdata25\u001b[0m\u001b[1;33m[\u001b[0m\u001b[1;34m'is_bump20'\u001b[0m\u001b[1;33m]\u001b[0m \u001b[1;33m=\u001b[0m \u001b[0mdata25\u001b[0m\u001b[1;33m[\u001b[0m\u001b[1;34m'shortest_bump_dist'\u001b[0m\u001b[1;33m]\u001b[0m \u001b[1;33m<\u001b[0m \u001b[1;36m20\u001b[0m\u001b[1;33m\u001b[0m\u001b[1;33m\u001b[0m\u001b[0m\n\u001b[0;32m      5\u001b[0m \u001b[0mdata50\u001b[0m\u001b[1;33m[\u001b[0m\u001b[1;34m'is_bump40'\u001b[0m\u001b[1;33m]\u001b[0m \u001b[1;33m=\u001b[0m \u001b[0mdata50\u001b[0m\u001b[1;33m[\u001b[0m\u001b[1;34m'shortest_bump_dist'\u001b[0m\u001b[1;33m]\u001b[0m \u001b[1;33m<\u001b[0m \u001b[1;36m40\u001b[0m\u001b[1;33m\u001b[0m\u001b[1;33m\u001b[0m\u001b[0m\n",
      "\u001b[1;32mC:\\ProgramData\\Anaconda3\\envs\\trial2\\lib\\site-packages\\pandas\\io\\parsers.py\u001b[0m in \u001b[0;36mread_csv\u001b[1;34m(filepath_or_buffer, sep, delimiter, header, names, index_col, usecols, squeeze, prefix, mangle_dupe_cols, dtype, engine, converters, true_values, false_values, skipinitialspace, skiprows, skipfooter, nrows, na_values, keep_default_na, na_filter, verbose, skip_blank_lines, parse_dates, infer_datetime_format, keep_date_col, date_parser, dayfirst, cache_dates, iterator, chunksize, compression, thousands, decimal, lineterminator, quotechar, quoting, doublequote, escapechar, comment, encoding, dialect, error_bad_lines, warn_bad_lines, delim_whitespace, low_memory, memory_map, float_precision, storage_options)\u001b[0m\n\u001b[0;32m    603\u001b[0m     \u001b[0mkwds\u001b[0m\u001b[1;33m.\u001b[0m\u001b[0mupdate\u001b[0m\u001b[1;33m(\u001b[0m\u001b[0mkwds_defaults\u001b[0m\u001b[1;33m)\u001b[0m\u001b[1;33m\u001b[0m\u001b[1;33m\u001b[0m\u001b[0m\n\u001b[0;32m    604\u001b[0m \u001b[1;33m\u001b[0m\u001b[0m\n\u001b[1;32m--> 605\u001b[1;33m     \u001b[1;32mreturn\u001b[0m \u001b[0m_read\u001b[0m\u001b[1;33m(\u001b[0m\u001b[0mfilepath_or_buffer\u001b[0m\u001b[1;33m,\u001b[0m \u001b[0mkwds\u001b[0m\u001b[1;33m)\u001b[0m\u001b[1;33m\u001b[0m\u001b[1;33m\u001b[0m\u001b[0m\n\u001b[0m\u001b[0;32m    606\u001b[0m \u001b[1;33m\u001b[0m\u001b[0m\n\u001b[0;32m    607\u001b[0m \u001b[1;33m\u001b[0m\u001b[0m\n",
      "\u001b[1;32mC:\\ProgramData\\Anaconda3\\envs\\trial2\\lib\\site-packages\\pandas\\io\\parsers.py\u001b[0m in \u001b[0;36m_read\u001b[1;34m(filepath_or_buffer, kwds)\u001b[0m\n\u001b[0;32m    455\u001b[0m \u001b[1;33m\u001b[0m\u001b[0m\n\u001b[0;32m    456\u001b[0m     \u001b[1;31m# Create the parser.\u001b[0m\u001b[1;33m\u001b[0m\u001b[1;33m\u001b[0m\u001b[1;33m\u001b[0m\u001b[0m\n\u001b[1;32m--> 457\u001b[1;33m     \u001b[0mparser\u001b[0m \u001b[1;33m=\u001b[0m \u001b[0mTextFileReader\u001b[0m\u001b[1;33m(\u001b[0m\u001b[0mfilepath_or_buffer\u001b[0m\u001b[1;33m,\u001b[0m \u001b[1;33m**\u001b[0m\u001b[0mkwds\u001b[0m\u001b[1;33m)\u001b[0m\u001b[1;33m\u001b[0m\u001b[1;33m\u001b[0m\u001b[0m\n\u001b[0m\u001b[0;32m    458\u001b[0m \u001b[1;33m\u001b[0m\u001b[0m\n\u001b[0;32m    459\u001b[0m     \u001b[1;32mif\u001b[0m \u001b[0mchunksize\u001b[0m \u001b[1;32mor\u001b[0m \u001b[0miterator\u001b[0m\u001b[1;33m:\u001b[0m\u001b[1;33m\u001b[0m\u001b[1;33m\u001b[0m\u001b[0m\n",
      "\u001b[1;32mC:\\ProgramData\\Anaconda3\\envs\\trial2\\lib\\site-packages\\pandas\\io\\parsers.py\u001b[0m in \u001b[0;36m__init__\u001b[1;34m(self, f, engine, **kwds)\u001b[0m\n\u001b[0;32m    812\u001b[0m             \u001b[0mself\u001b[0m\u001b[1;33m.\u001b[0m\u001b[0moptions\u001b[0m\u001b[1;33m[\u001b[0m\u001b[1;34m\"has_index_names\"\u001b[0m\u001b[1;33m]\u001b[0m \u001b[1;33m=\u001b[0m \u001b[0mkwds\u001b[0m\u001b[1;33m[\u001b[0m\u001b[1;34m\"has_index_names\"\u001b[0m\u001b[1;33m]\u001b[0m\u001b[1;33m\u001b[0m\u001b[1;33m\u001b[0m\u001b[0m\n\u001b[0;32m    813\u001b[0m \u001b[1;33m\u001b[0m\u001b[0m\n\u001b[1;32m--> 814\u001b[1;33m         \u001b[0mself\u001b[0m\u001b[1;33m.\u001b[0m\u001b[0m_engine\u001b[0m \u001b[1;33m=\u001b[0m \u001b[0mself\u001b[0m\u001b[1;33m.\u001b[0m\u001b[0m_make_engine\u001b[0m\u001b[1;33m(\u001b[0m\u001b[0mself\u001b[0m\u001b[1;33m.\u001b[0m\u001b[0mengine\u001b[0m\u001b[1;33m)\u001b[0m\u001b[1;33m\u001b[0m\u001b[1;33m\u001b[0m\u001b[0m\n\u001b[0m\u001b[0;32m    815\u001b[0m \u001b[1;33m\u001b[0m\u001b[0m\n\u001b[0;32m    816\u001b[0m     \u001b[1;32mdef\u001b[0m \u001b[0mclose\u001b[0m\u001b[1;33m(\u001b[0m\u001b[0mself\u001b[0m\u001b[1;33m)\u001b[0m\u001b[1;33m:\u001b[0m\u001b[1;33m\u001b[0m\u001b[1;33m\u001b[0m\u001b[0m\n",
      "\u001b[1;32mC:\\ProgramData\\Anaconda3\\envs\\trial2\\lib\\site-packages\\pandas\\io\\parsers.py\u001b[0m in \u001b[0;36m_make_engine\u001b[1;34m(self, engine)\u001b[0m\n\u001b[0;32m   1043\u001b[0m             )\n\u001b[0;32m   1044\u001b[0m         \u001b[1;31m# error: Too many arguments for \"ParserBase\"\u001b[0m\u001b[1;33m\u001b[0m\u001b[1;33m\u001b[0m\u001b[1;33m\u001b[0m\u001b[0m\n\u001b[1;32m-> 1045\u001b[1;33m         \u001b[1;32mreturn\u001b[0m \u001b[0mmapping\u001b[0m\u001b[1;33m[\u001b[0m\u001b[0mengine\u001b[0m\u001b[1;33m]\u001b[0m\u001b[1;33m(\u001b[0m\u001b[0mself\u001b[0m\u001b[1;33m.\u001b[0m\u001b[0mf\u001b[0m\u001b[1;33m,\u001b[0m \u001b[1;33m**\u001b[0m\u001b[0mself\u001b[0m\u001b[1;33m.\u001b[0m\u001b[0moptions\u001b[0m\u001b[1;33m)\u001b[0m  \u001b[1;31m# type: ignore[call-arg]\u001b[0m\u001b[1;33m\u001b[0m\u001b[1;33m\u001b[0m\u001b[0m\n\u001b[0m\u001b[0;32m   1046\u001b[0m \u001b[1;33m\u001b[0m\u001b[0m\n\u001b[0;32m   1047\u001b[0m     \u001b[1;32mdef\u001b[0m \u001b[0m_failover_to_python\u001b[0m\u001b[1;33m(\u001b[0m\u001b[0mself\u001b[0m\u001b[1;33m)\u001b[0m\u001b[1;33m:\u001b[0m\u001b[1;33m\u001b[0m\u001b[1;33m\u001b[0m\u001b[0m\n",
      "\u001b[1;32mC:\\ProgramData\\Anaconda3\\envs\\trial2\\lib\\site-packages\\pandas\\io\\parsers.py\u001b[0m in \u001b[0;36m__init__\u001b[1;34m(self, src, **kwds)\u001b[0m\n\u001b[0;32m   1860\u001b[0m \u001b[1;33m\u001b[0m\u001b[0m\n\u001b[0;32m   1861\u001b[0m         \u001b[1;31m# open handles\u001b[0m\u001b[1;33m\u001b[0m\u001b[1;33m\u001b[0m\u001b[1;33m\u001b[0m\u001b[0m\n\u001b[1;32m-> 1862\u001b[1;33m         \u001b[0mself\u001b[0m\u001b[1;33m.\u001b[0m\u001b[0m_open_handles\u001b[0m\u001b[1;33m(\u001b[0m\u001b[0msrc\u001b[0m\u001b[1;33m,\u001b[0m \u001b[0mkwds\u001b[0m\u001b[1;33m)\u001b[0m\u001b[1;33m\u001b[0m\u001b[1;33m\u001b[0m\u001b[0m\n\u001b[0m\u001b[0;32m   1863\u001b[0m         \u001b[1;32massert\u001b[0m \u001b[0mself\u001b[0m\u001b[1;33m.\u001b[0m\u001b[0mhandles\u001b[0m \u001b[1;32mis\u001b[0m \u001b[1;32mnot\u001b[0m \u001b[1;32mNone\u001b[0m\u001b[1;33m\u001b[0m\u001b[1;33m\u001b[0m\u001b[0m\n\u001b[0;32m   1864\u001b[0m         \u001b[1;32mfor\u001b[0m \u001b[0mkey\u001b[0m \u001b[1;32min\u001b[0m \u001b[1;33m(\u001b[0m\u001b[1;34m\"storage_options\"\u001b[0m\u001b[1;33m,\u001b[0m \u001b[1;34m\"encoding\"\u001b[0m\u001b[1;33m,\u001b[0m \u001b[1;34m\"memory_map\"\u001b[0m\u001b[1;33m,\u001b[0m \u001b[1;34m\"compression\"\u001b[0m\u001b[1;33m)\u001b[0m\u001b[1;33m:\u001b[0m\u001b[1;33m\u001b[0m\u001b[1;33m\u001b[0m\u001b[0m\n",
      "\u001b[1;32mC:\\ProgramData\\Anaconda3\\envs\\trial2\\lib\\site-packages\\pandas\\io\\parsers.py\u001b[0m in \u001b[0;36m_open_handles\u001b[1;34m(self, src, kwds)\u001b[0m\n\u001b[0;32m   1355\u001b[0m         \u001b[0mLet\u001b[0m \u001b[0mthe\u001b[0m \u001b[0mreaders\u001b[0m \u001b[0mopen\u001b[0m \u001b[0mIOHanldes\u001b[0m \u001b[0mafter\u001b[0m \u001b[0mthey\u001b[0m \u001b[0mare\u001b[0m \u001b[0mdone\u001b[0m \u001b[1;32mwith\u001b[0m \u001b[0mtheir\u001b[0m \u001b[0mpotential\u001b[0m \u001b[0mraises\u001b[0m\u001b[1;33m.\u001b[0m\u001b[1;33m\u001b[0m\u001b[1;33m\u001b[0m\u001b[0m\n\u001b[0;32m   1356\u001b[0m         \"\"\"\n\u001b[1;32m-> 1357\u001b[1;33m         self.handles = get_handle(\n\u001b[0m\u001b[0;32m   1358\u001b[0m             \u001b[0msrc\u001b[0m\u001b[1;33m,\u001b[0m\u001b[1;33m\u001b[0m\u001b[1;33m\u001b[0m\u001b[0m\n\u001b[0;32m   1359\u001b[0m             \u001b[1;34m\"r\"\u001b[0m\u001b[1;33m,\u001b[0m\u001b[1;33m\u001b[0m\u001b[1;33m\u001b[0m\u001b[0m\n",
      "\u001b[1;32mC:\\ProgramData\\Anaconda3\\envs\\trial2\\lib\\site-packages\\pandas\\io\\common.py\u001b[0m in \u001b[0;36mget_handle\u001b[1;34m(path_or_buf, mode, encoding, compression, memory_map, is_text, errors, storage_options)\u001b[0m\n\u001b[0;32m    637\u001b[0m         \u001b[1;32mif\u001b[0m \u001b[0mioargs\u001b[0m\u001b[1;33m.\u001b[0m\u001b[0mencoding\u001b[0m \u001b[1;32mand\u001b[0m \u001b[1;34m\"b\"\u001b[0m \u001b[1;32mnot\u001b[0m \u001b[1;32min\u001b[0m \u001b[0mioargs\u001b[0m\u001b[1;33m.\u001b[0m\u001b[0mmode\u001b[0m\u001b[1;33m:\u001b[0m\u001b[1;33m\u001b[0m\u001b[1;33m\u001b[0m\u001b[0m\n\u001b[0;32m    638\u001b[0m             \u001b[1;31m# Encoding\u001b[0m\u001b[1;33m\u001b[0m\u001b[1;33m\u001b[0m\u001b[1;33m\u001b[0m\u001b[0m\n\u001b[1;32m--> 639\u001b[1;33m             handle = open(\n\u001b[0m\u001b[0;32m    640\u001b[0m                 \u001b[0mhandle\u001b[0m\u001b[1;33m,\u001b[0m\u001b[1;33m\u001b[0m\u001b[1;33m\u001b[0m\u001b[0m\n\u001b[0;32m    641\u001b[0m                 \u001b[0mioargs\u001b[0m\u001b[1;33m.\u001b[0m\u001b[0mmode\u001b[0m\u001b[1;33m,\u001b[0m\u001b[1;33m\u001b[0m\u001b[1;33m\u001b[0m\u001b[0m\n",
      "\u001b[1;31mFileNotFoundError\u001b[0m: [Errno 2] No such file or directory: 'C:/Users/ishon/OneDrive/바탕 화면/compas/model/data/feature25.csv'"
     ]
    }
   ],
   "source": [
    "data25 = pd.read_csv(\"./feature25.csv\")\n",
    "data50 = pd.read_csv(\"C:/Users/ishon/OneDrive/바탕 화면/compas/model/data/feature50.csv\")\n",
    "\n",
    "data25['is_bump20'] = data25['shortest_bump_dist'] < 20\n",
    "data50['is_bump40'] = data50['shortest_bump_dist'] < 40\n",
    "\n",
    "data25['is_sidewalk12.5'] = data25['shortest_sidewalk_dist'] < 12.5\n",
    "data50['is_sidewalk25'] = data50['shortest_sidewalk_dist'] < 25\n",
    "\n",
    "data25['is_cross100'] = data25['shortest_cross_dist'] < 100\n",
    "data50['is_cross100'] = data50['shortest_cross_dist'] < 100\n",
    "\n",
    "data25['is_signal150'] = data25['shortest_traffic_signal_dist'] < 150\n",
    "data50['is_signal150'] = data50['shortest_traffic_signal_dist'] < 150"
   ]
  },
  {
   "cell_type": "markdown",
   "metadata": {},
   "source": [
    "* 1번째 방법: 그냥 그대로"
   ]
  },
  {
   "cell_type": "code",
   "execution_count": null,
   "metadata": {},
   "outputs": [],
   "source": [
    "col1 = {\"x_common\": ['overspeed_cam_count100', 'floating_pop_count50','car_count1000', 'child_count1000', \n",
    "                  'elem_kinder_count400','num_cram_school_count400', \n",
    "                  'shortest_cross_dist','shortest_traffic_signal_dist',], # 'numberSchoolZone_count400'\n",
    "       \"x_25\" : ['is_bump20', 'parking_count12.5','is_sidewalk12.5', 'barrier_nearby_count12.5',\n",
    "                   'chaos1_nearby_count12.5', 'width_nearby_count12.5','cross_road_nearby_count12.5',\n",
    "                   ],\n",
    "       \"x_50\" : ['is_bump40', 'parking_count25','is_sidewalk25', 'barrier_nearby_count25',\n",
    "                   'chaos1_nearby_count25', 'width_nearby_count25','cross_road_nearby_count25'],\n",
    "       \"y_25\" : 'accident_count12.5',\n",
    "       \"y_50\" : 'accident_count25',}\n",
    "\n",
    "xy25 = data25[col1[\"x_common\"] + col1[\"x_25\"] +[col1['y_25']]].astype(float)\n",
    "xy50 = data50[col1[\"x_common\"] + col1[\"x_50\"] +[col1['y_50']]].astype(float)\n",
    "xy25[col1['y_25']] = (xy25[col1['y_25']] > 0).astype(float)\n",
    "xy50[col1['y_50']] = (xy50[col1['y_50']] > 0).astype(float)"
   ]
  },
  {
   "cell_type": "markdown",
   "metadata": {},
   "source": [
    "* 2번째 방법: 사거리 거리, 신호등 거리 존재여부로 바꿈"
   ]
  },
  {
   "cell_type": "code",
   "execution_count": null,
   "metadata": {
    "scrolled": false
   },
   "outputs": [],
   "source": [
    "col2 = {\"x_common\": ['overspeed_cam_count100', 'floating_pop_count50','car_count1000', 'child_count1000', \n",
    "                  'elem_kinder_count400','num_cram_school_count400', \n",
    "                  'is_cross100','is_signal150',], # 'numberSchoolZone_count400'\n",
    "       \"x_25\" : ['is_bump20', 'parking_count12.5','is_sidewalk12.5', 'barrier_nearby_count12.5',\n",
    "                   'chaos1_nearby_count12.5', 'width_nearby_count12.5','cross_road_nearby_count12.5',\n",
    "                   ],\n",
    "       \"x_50\" : ['is_bump40', 'parking_count25','is_sidewalk25', 'barrier_nearby_count25',\n",
    "                   'chaos1_nearby_count25', 'width_nearby_count25','cross_road_nearby_count25'],\n",
    "       \"y_25\" : 'accident_count12.5',\n",
    "       \"y_50\" : 'accident_count25',}\n",
    "\n",
    "xy25_my = data25[col2[\"x_common\"] + col2[\"x_25\"] +[col2['y_25']]].astype(float)\n",
    "xy50_my = data50[col2[\"x_common\"] + col2[\"x_50\"] +[col2['y_50']]].astype(float)\n",
    "xy25_my[col2['y_25']] = (xy25_my[col2['y_25']] > 0).astype(float)\n",
    "xy50_my[col2['y_50']] = (xy50_my[col2['y_50']] > 0).astype(float)"
   ]
  },
  {
   "cell_type": "markdown",
   "metadata": {},
   "source": [
    "* cluster data 불러오기"
   ]
  },
  {
   "cell_type": "code",
   "execution_count": null,
   "metadata": {},
   "outputs": [],
   "source": [
    "kmeans25 = pd.read_csv(\"C:/Users/ishon/OneDrive/바탕 화면/compas/model/data/kmeans_cluster25.csv\")\n",
    "kmeans50 = pd.read_csv(\"C:/Users/ishon/OneDrive/바탕 화면/compas/model/data/kmeans_cluster50.csv\")"
   ]
  },
  {
   "cell_type": "code",
   "execution_count": null,
   "metadata": {},
   "outputs": [],
   "source": [
    "print(xy25.shape)\n",
    "print(kmeans25.shape)\n",
    "print(xy50.shape)\n",
    "print(kmeans50.shape)"
   ]
  },
  {
   "cell_type": "markdown",
   "metadata": {},
   "source": [
    "* dataset 합치기"
   ]
  },
  {
   "cell_type": "code",
   "execution_count": null,
   "metadata": {},
   "outputs": [],
   "source": [
    "xy25=pd.concat([xy25, kmeans25], axis=1)\n",
    "xy25.rename(columns={'0':'cluster'}, inplace=True)\n",
    "\n",
    "xy50=pd.concat([xy50, kmeans50], axis=1)\n",
    "xy50.rename(columns={'0':'cluster'}, inplace=True)"
   ]
  },
  {
   "cell_type": "code",
   "execution_count": null,
   "metadata": {},
   "outputs": [],
   "source": [
    "xy25_my=pd.concat([xy25_my, kmeans25], axis=1)\n",
    "xy25_my.rename(columns={'0':'cluster'}, inplace=True)\n",
    "\n",
    "xy50_my=pd.concat([xy50_my, kmeans50], axis=1)\n",
    "xy50_my.rename(columns={'0':'cluster'}, inplace=True)"
   ]
  },
  {
   "cell_type": "markdown",
   "metadata": {},
   "source": [
    "* 사고 방지 장치 데이터 삭제"
   ]
  },
  {
   "cell_type": "code",
   "execution_count": null,
   "metadata": {},
   "outputs": [],
   "source": [
    "xy_train=xy50.drop(['overspeed_cam_count100', 'is_bump40'], axis=1)\n",
    "xy_test=xy25.drop(['overspeed_cam_count100', 'is_bump20'], axis=1)\n",
    "\n",
    "xy_my_train=xy50_my.drop(['overspeed_cam_count100', 'is_bump40'], axis=1)\n",
    "xy_my_test=xy25_my.drop(['overspeed_cam_count100', 'is_bump20'], axis=1)"
   ]
  },
  {
   "cell_type": "markdown",
   "metadata": {},
   "source": [
    "* 열 이름 통일"
   ]
  },
  {
   "cell_type": "code",
   "execution_count": null,
   "metadata": {},
   "outputs": [],
   "source": [
    "xy_train.rename(columns={'parking_count25':'parking_count', 'is_sidewalk25':'is_sidewalk',\n",
    "                    'barrier_nearby_count25':'barrier_nearby_count', 'chaos1_nearby_count25':'chaos1_nearby_count',\n",
    "                     'width_nearby_count25':'width_nearby_count', 'cross_road_nearby_count25':'cross_road_nearby_count',\n",
    "                     'accident_count25':'accident_count'},inplace=True)\n",
    "xy_test.rename(columns={'parking_count12.5':'parking_count', 'is_sidewalk12.5':'is_sidewalk',\n",
    "                    'barrier_nearby_count12.5':'barrier_nearby_count', 'chaos1_nearby_count12.5':'chaos1_nearby_count',\n",
    "                     'width_nearby_count12.5':'width_nearby_count', 'cross_road_nearby_count12.5':'cross_road_nearby_count',\n",
    "                     'accident_count12.5':'accident_count'},inplace=True)\n",
    "xy_my_train.rename(columns={'parking_count25':'parking_count', 'is_sidewalk25':'is_sidewalk',\n",
    "                    'barrier_nearby_count25':'barrier_nearby_count', 'chaos1_nearby_count25':'chaos1_nearby_count',\n",
    "                     'width_nearby_count25':'width_nearby_count', 'cross_road_nearby_count25':'cross_road_nearby_count',\n",
    "                     'accident_count25':'accident_count'},inplace=True)\n",
    "xy_my_test.rename(columns={'parking_count12.5':'parking_count', 'is_sidewalk12.5':'is_sidewalk',\n",
    "                    'barrier_nearby_count12.5':'barrier_nearby_count', 'chaos1_nearby_count12.5':'chaos1_nearby_count',\n",
    "                     'width_nearby_count12.5':'width_nearby_count', 'cross_road_nearby_count12.5':'cross_road_nearby_count',\n",
    "                     'accident_count12.5':'accident_count'},inplace=True)"
   ]
  },
  {
   "cell_type": "markdown",
   "metadata": {},
   "source": [
    "* train-test split"
   ]
  },
  {
   "cell_type": "code",
   "execution_count": null,
   "metadata": {},
   "outputs": [],
   "source": [
    "X_train=xy_train.drop(['accident_count'], axis=1)\n",
    "y_train=xy_train['accident_count']\n",
    "\n",
    "X_test=xy_test.drop(['accident_count'], axis=1)\n",
    "y_test=xy_test['accident_count']\n",
    "\n",
    "X_my_train=xy_my_train.drop(['accident_count'], axis=1)\n",
    "y_my_train=xy_my_train['accident_count']\n",
    "\n",
    "X_my_test=xy_my_test.drop(['accident_count'], axis=1)\n",
    "y_my_test=xy_my_test['accident_count']"
   ]
  },
  {
   "cell_type": "markdown",
   "metadata": {},
   "source": [
    "# 2. Modeling"
   ]
  },
  {
   "cell_type": "markdown",
   "metadata": {},
   "source": [
    "### 2-1) XGB Classifier"
   ]
  },
  {
   "cell_type": "code",
   "execution_count": null,
   "metadata": {},
   "outputs": [],
   "source": [
    "from xgboost import plot_importance\n",
    "from xgboost import XGBClassifier\n",
    "from sklearn.model_selection import GridSearchCV\n",
    "from sklearn.metrics import f1_score, make_scorer, confusion_matrix, accuracy_score, precision_score, recall_score, roc_auc_score"
   ]
  },
  {
   "cell_type": "markdown",
   "metadata": {},
   "source": [
    "* f1-score\n",
    "* None : 라벨 별 각 평균을 그대로 구합니다.\n",
    "* micro : 전체 평균\n",
    "* macro : 라벨 별 각 합의 평균"
   ]
  },
  {
   "cell_type": "code",
   "execution_count": null,
   "metadata": {},
   "outputs": [],
   "source": [
    "f1 = make_scorer(f1_score)"
   ]
  },
  {
   "cell_type": "markdown",
   "metadata": {},
   "source": [
    "* smote"
   ]
  },
  {
   "cell_type": "code",
   "execution_count": null,
   "metadata": {},
   "outputs": [],
   "source": [
    "from imblearn.over_sampling import SMOTE # unbalanced dataset을 학습시키기 위해, smote 사용하여 oversampling(train set만)"
   ]
  },
  {
   "cell_type": "code",
   "execution_count": null,
   "metadata": {},
   "outputs": [],
   "source": [
    "sm = SMOTE()\n",
    "X_resampled, y_resampled=sm.fit_sample(X_train, list(y_train))"
   ]
  },
  {
   "cell_type": "code",
   "execution_count": null,
   "metadata": {},
   "outputs": [],
   "source": [
    "xgb=XGBClassifier()\n",
    "\n",
    "xgb_param_grid={\n",
    "    'n_estimators':[500, 1000],\n",
    "    'max_depth':[5, 7, 10],\n",
    "    'learning_rate':[0.01, 0.1],\n",
    "    'min_child_weight': [1, 3, 5],\n",
    "    'subsample': [0.5, 0.7],\n",
    "    'colsample_bytree': [0.5, 0.7]\n",
    "}\n",
    "\n",
    "xgb_grid = GridSearchCV(xgb, param_grid=xgb_param_grid, scoring=f1, cv=3, n_jobs=-1, verbose=3)\n",
    "xgb_grid.fit(X_resampled, y_resampled)"
   ]
  },
  {
   "cell_type": "code",
   "execution_count": null,
   "metadata": {},
   "outputs": [],
   "source": [
    "print('best score : {0:.4f}'.format(xgb_grid.best_score_))\n",
    "print('best param : ', xgb_grid.best_params_)"
   ]
  },
  {
   "cell_type": "code",
   "execution_count": null,
   "metadata": {},
   "outputs": [],
   "source": [
    "xgb_model = xgb_grid.best_estimator_\n",
    "xgb_pred = xgb_model.predict(X_test)"
   ]
  },
  {
   "cell_type": "code",
   "execution_count": null,
   "metadata": {
    "scrolled": true
   },
   "outputs": [],
   "source": [
    "f1_score(y_test, xgb_pred, average=None)"
   ]
  },
  {
   "cell_type": "markdown",
   "metadata": {},
   "source": [
    "### feature importance"
   ]
  },
  {
   "cell_type": "code",
   "execution_count": null,
   "metadata": {
    "scrolled": false
   },
   "outputs": [],
   "source": [
    "import matplotlib.pyplot as plt\n",
    "%matplotlib inline\n",
    "\n",
    "fig, ax = plt.subplots(figsize=(6, 6))\n",
    "plot_importance(xgb_model, ax=ax)"
   ]
  },
  {
   "cell_type": "markdown",
   "metadata": {},
   "source": [
    "* 사거리, 신호등 변수 처리 후(my)"
   ]
  },
  {
   "cell_type": "code",
   "execution_count": null,
   "metadata": {},
   "outputs": [],
   "source": [
    "sm = SMOTE()\n",
    "X_my_resampled, y_my_resampled=sm.fit_sample(X_my_train, list(y_my_train))"
   ]
  },
  {
   "cell_type": "code",
   "execution_count": null,
   "metadata": {},
   "outputs": [],
   "source": [
    "xgb_my=XGBClassifier()\n",
    "\n",
    "xgb_my_param_grid={\n",
    "    'n_estimators':[500, 1000],\n",
    "    'max_depth':[5, 7, 10],\n",
    "    'learning_rate':[0.01, 0.1],\n",
    "    'min_child_weight': [1, 3, 5],\n",
    "    'subsample': [0.5, 0.7],\n",
    "    'colsample_bytree': [0.5, 0.7]\n",
    "}\n",
    "\n",
    "xgb_my_grid = GridSearchCV(xgb_my, param_grid=xgb_my_param_grid, scoring=f1, cv=3, n_jobs=-1, verbose=3)\n",
    "xgb_my_grid.fit(X_my_resampled, y_my_resampled)"
   ]
  },
  {
   "cell_type": "code",
   "execution_count": null,
   "metadata": {},
   "outputs": [],
   "source": [
    "print('best score : {0:.4f}'.format(xgb_my_grid.best_score_))\n",
    "print('best param : ', xgb_my_grid.best_params_)"
   ]
  },
  {
   "cell_type": "code",
   "execution_count": null,
   "metadata": {},
   "outputs": [],
   "source": [
    "xgb_my_model = xgb_my_grid.best_estimator_\n",
    "xgb_my_pred = xgb_my_model.predict(X_my_test)"
   ]
  },
  {
   "cell_type": "code",
   "execution_count": null,
   "metadata": {},
   "outputs": [],
   "source": [
    "f1_score(y_my_test, xgb_my_pred, average=None)"
   ]
  },
  {
   "cell_type": "markdown",
   "metadata": {},
   "source": [
    "### feature importance"
   ]
  },
  {
   "cell_type": "code",
   "execution_count": null,
   "metadata": {
    "scrolled": false
   },
   "outputs": [],
   "source": [
    "import matplotlib.pyplot as plt\n",
    "%matplotlib inline\n",
    "\n",
    "fig, ax = plt.subplots(figsize=(6, 6))\n",
    "plot_importance(xgb_my_model, ax=ax)"
   ]
  },
  {
   "cell_type": "markdown",
   "metadata": {},
   "source": [
    "### 2-2) LGBM Classifier"
   ]
  },
  {
   "cell_type": "code",
   "execution_count": null,
   "metadata": {},
   "outputs": [],
   "source": [
    "from lightgbm import LGBMClassifier\n",
    "from lightgbm import plot_importance"
   ]
  },
  {
   "cell_type": "markdown",
   "metadata": {},
   "source": [
    "* cluster를 categorical type으로 변환"
   ]
  },
  {
   "cell_type": "code",
   "execution_count": null,
   "metadata": {
    "scrolled": true
   },
   "outputs": [],
   "source": [
    "X_resampled['cluster']=X_resampled['cluster'].astype('category')\n",
    "X_test['cluster']=X_test['cluster'].astype('category')\n",
    "\n",
    "X_my_resampled['cluster']=X_my_resampled['cluster'].astype('category')\n",
    "X_my_test['cluster']=X_my_test['cluster'].astype('category')"
   ]
  },
  {
   "cell_type": "code",
   "execution_count": null,
   "metadata": {},
   "outputs": [],
   "source": [
    "lgb = LGBMClassifier(categorical_feature='name:cluster')\n",
    "\n",
    "lgb_param_grid={\n",
    "    'learning_rate':[0.01, 0.1],\n",
    "    'n_estimators':[500,1000],\n",
    "    'max_depth':[3,7,10],\n",
    "    'min_child_weight': [1, 3, 5],\n",
    "    'subsample': [0.5, 0.7],\n",
    "    'colsample_bytree': [0.5, 0.7]\n",
    "}\n",
    "\n",
    "lgb_grid = GridSearchCV(lgb, param_grid=lgb_param_grid, scoring=f1, cv=3, n_jobs=-1, verbose=3)\n",
    "lgb_grid.fit(X_resampled, y_resampled)"
   ]
  },
  {
   "cell_type": "code",
   "execution_count": null,
   "metadata": {},
   "outputs": [],
   "source": [
    "print('best score : {0:.4f}'.format(lgb_grid.best_score_))\n",
    "print('best param : ', lgb_grid.best_params_)"
   ]
  },
  {
   "cell_type": "code",
   "execution_count": null,
   "metadata": {},
   "outputs": [],
   "source": [
    "lgb_model = lgb_grid.best_estimator_\n",
    "lgb_pred = lgb_model.predict(X_test)"
   ]
  },
  {
   "cell_type": "code",
   "execution_count": null,
   "metadata": {},
   "outputs": [],
   "source": [
    "f1_score(y_test, lgb_pred, average=None)"
   ]
  },
  {
   "cell_type": "markdown",
   "metadata": {},
   "source": [
    "### feature importance"
   ]
  },
  {
   "cell_type": "code",
   "execution_count": null,
   "metadata": {
    "scrolled": false
   },
   "outputs": [],
   "source": [
    "f, ax=plt.subplots(figsize=(6,6))\n",
    "plot_importance(lgb_model, max_num_features=15, ax=ax) "
   ]
  },
  {
   "cell_type": "markdown",
   "metadata": {},
   "source": [
    "* 사거리, 신호등 변수 처리 후(my)"
   ]
  },
  {
   "cell_type": "code",
   "execution_count": null,
   "metadata": {},
   "outputs": [],
   "source": [
    "lgb_my = LGBMClassifier(categorical_feature='name:cluster')\n",
    "\n",
    "lgb_my_param_grid={\n",
    "    'learning_rate':[0.01, 0.1],\n",
    "    'n_estimators':[500,1000],\n",
    "    'max_depth':[3,7,10],\n",
    "    'min_child_weight': [1, 3, 5],\n",
    "    'subsample': [0.5, 0.7],\n",
    "    'colsample_bytree': [0.5, 0.7]\n",
    "}\n",
    "\n",
    "lgb_my_grid = GridSearchCV(lgb_my, param_grid=lgb_my_param_grid, scoring=f1, cv=3, n_jobs=-1, verbose=3)\n",
    "lgb_my_grid.fit(X_my_resampled, y_my_resampled)"
   ]
  },
  {
   "cell_type": "code",
   "execution_count": null,
   "metadata": {},
   "outputs": [],
   "source": [
    "print('best score : {0:.4f}'.format(lgb_my_grid.best_score_))\n",
    "print('best param : ', lgb_my_grid.best_params_)"
   ]
  },
  {
   "cell_type": "code",
   "execution_count": null,
   "metadata": {},
   "outputs": [],
   "source": [
    "lgb_my_model = lgb_my_grid.best_estimator_\n",
    "lgb_my_pred = lgb_my_model.predict(X_my_test)"
   ]
  },
  {
   "cell_type": "code",
   "execution_count": null,
   "metadata": {},
   "outputs": [],
   "source": [
    "f1_score(y_my_test, lgb_my_pred, average=None)"
   ]
  },
  {
   "cell_type": "markdown",
   "metadata": {},
   "source": [
    "### feature importance"
   ]
  },
  {
   "cell_type": "code",
   "execution_count": null,
   "metadata": {
    "scrolled": false
   },
   "outputs": [],
   "source": [
    "f, ax=plt.subplots(figsize=(6,6))\n",
    "plot_importance(lgb_my_model, max_num_features=15, ax=ax) "
   ]
  },
  {
   "cell_type": "markdown",
   "metadata": {},
   "source": [
    "## f1 score 비교"
   ]
  },
  {
   "cell_type": "code",
   "execution_count": null,
   "metadata": {
    "scrolled": true
   },
   "outputs": [],
   "source": [
    "print('best score : {0:.4f}'.format(xgb_grid.best_score_))\n",
    "print(f1_score(y_test, xgb_pred, average=None))\n",
    "\n",
    "print('best score : {0:.4f}'.format(xgb_my_grid.best_score_))\n",
    "print(f1_score(y_test, xgb_my_pred, average=None))\n",
    "\n",
    "print('best score : {0:.4f}'.format(lgb_grid.best_score_))\n",
    "print(f1_score(y_test, lgb_pred, average=None))\n",
    "\n",
    "print('best score : {0:.4f}'.format(lgb_my_grid.best_score_))\n",
    "print(f1_score(y_test, lgb_my_pred, average=None))"
   ]
  },
  {
   "cell_type": "code",
   "execution_count": null,
   "metadata": {},
   "outputs": [],
   "source": [
    "confusion_matrix(y_test, xgb_pred)"
   ]
  },
  {
   "cell_type": "code",
   "execution_count": null,
   "metadata": {
    "scrolled": true
   },
   "outputs": [],
   "source": [
    "confusion_matrix(y_test, xgb_my_pred)"
   ]
  },
  {
   "cell_type": "code",
   "execution_count": null,
   "metadata": {},
   "outputs": [],
   "source": [
    "confusion_matrix(y_test, lgb_pred)"
   ]
  },
  {
   "cell_type": "code",
   "execution_count": null,
   "metadata": {},
   "outputs": [],
   "source": [
    "confusion_matrix(y_test, lgb_my_pred)"
   ]
  },
  {
   "cell_type": "markdown",
   "metadata": {},
   "source": [
    "### cut-off 조정"
   ]
  },
  {
   "cell_type": "code",
   "execution_count": null,
   "metadata": {},
   "outputs": [],
   "source": [
    "X_test_xgb=X_test.drop(['cluster'], axis=1)\n",
    "X_my_test_xgb=X_my_test.drop(['cluster'], axis=1)"
   ]
  },
  {
   "cell_type": "code",
   "execution_count": null,
   "metadata": {},
   "outputs": [],
   "source": [
    "xgb_pred2 = (xgb_model.predict_proba(X_test_xgb)[:,1]>=0.7).astype(int)\n",
    "print('f1 score:', f1_score(y_test, xgb_pred2))\n",
    "\n",
    "confusion_matrix(y_test, xgb_pred2)"
   ]
  },
  {
   "cell_type": "code",
   "execution_count": null,
   "metadata": {},
   "outputs": [],
   "source": [
    "xgb_my_pred2 = (xgb_my_model.predict_proba(X_my_test_xgb)[:,1]>=0.7).astype(int)\n",
    "print('f1 score:', f1_score(y_my_test, xgb_my_pred2))\n",
    "\n",
    "confusion_matrix(y_my_test, xgb_my_pred2)"
   ]
  },
  {
   "cell_type": "code",
   "execution_count": null,
   "metadata": {},
   "outputs": [],
   "source": [
    "lgb_pred2 = (lgb_model.predict_proba(X_test)[:,1]>=0.7).astype(int)\n",
    "print('f1 score:', f1_score(y_test, lgb_pred2))\n",
    "\n",
    "confusion_matrix(y_test, lgb_pred2)"
   ]
  },
  {
   "cell_type": "code",
   "execution_count": null,
   "metadata": {
    "scrolled": false
   },
   "outputs": [],
   "source": [
    "lgb_my_pred2 = (lgb_my_model.predict_proba(X_my_test)[:,1]>=0.7).astype(int)\n",
    "print('f1 score:', f1_score(y_my_test, lgb_my_pred2))\n",
    "\n",
    "confusion_matrix(y_my_test, lgb_my_pred2)"
   ]
  },
  {
   "cell_type": "code",
   "execution_count": null,
   "metadata": {},
   "outputs": [],
   "source": []
  },
  {
   "cell_type": "code",
   "execution_count": null,
   "metadata": {},
   "outputs": [],
   "source": []
  },
  {
   "cell_type": "markdown",
   "metadata": {},
   "source": [
    "## 위험구역 from xgb_my_model"
   ]
  },
  {
   "cell_type": "code",
   "execution_count": null,
   "metadata": {},
   "outputs": [],
   "source": [
    "X_test_xgb=X_test.drop(['cluster'], axis=1)"
   ]
  },
  {
   "cell_type": "code",
   "execution_count": null,
   "metadata": {},
   "outputs": [],
   "source": [
    "xgb_pred_prob = xgb_my_model.predict_proba(X_test_xgb)\n",
    "\n",
    "danger_xgb=pd.DataFrame(xgb_pred_prob)\n",
    "danger_xgb.columns=['No_xgb', 'Yes_xgb']"
   ]
  },
  {
   "cell_type": "code",
   "execution_count": null,
   "metadata": {},
   "outputs": [],
   "source": [
    "danger_xgb=pd.concat([data25, danger_xgb], axis=1)\n",
    "danger_xgb_all=danger_xgb.sort_values(by=['Yes_xgb'], ascending=False)[0:40] #그냥 상위 40개"
   ]
  },
  {
   "cell_type": "code",
   "execution_count": null,
   "metadata": {},
   "outputs": [],
   "source": [
    "danger_xgb_without=danger_xgb[danger_xgb['overspeed_cam_count100']==0]\n",
    "danger_xgb_without=danger_xgb_without.sort_values(by=['Yes_xgb'], ascending=False)[0:40] #카메라 없는 곳 상위 40개"
   ]
  },
  {
   "cell_type": "code",
   "execution_count": null,
   "metadata": {},
   "outputs": [],
   "source": [
    "import geopandas as gpd\n",
    "import json\n",
    "import folium\n",
    "from folium import plugins"
   ]
  },
  {
   "cell_type": "code",
   "execution_count": null,
   "metadata": {
    "scrolled": false
   },
   "outputs": [],
   "source": [
    "osan=gpd.read_file(\"C:/Users/ishon/OneDrive/바탕 화면/SIG_202005/SIG.shp\")\n",
    "osan=osan[osan[\"SIG_ENG_NM\"]==\"Osan-si\"]\n",
    "center = (37.1623799231016, 127.05436890115905)\n",
    "style5 = {'fillColor': 'skyblue', 'color': 'skyblue'}\n",
    "\n",
    "map_xgb_danger = folium.Map(location=center, zoom_start=12, width=900, height=700, control_scale=True)\n",
    "\n",
    "#osan\n",
    "osan_region = plugins.FeatureGroupSubGroup(map_xgb_danger, 'osan region')\n",
    "map_xgb_danger.add_child(osan_region)\n",
    "folium.GeoJson(osan, style_function=lambda x:style5).add_to(osan_region)\n",
    "\n",
    "fg = folium.FeatureGroup(name='groups')\n",
    "map_xgb_danger.add_child(fg)\n",
    "\n",
    "g1 = plugins.FeatureGroupSubGroup(fg, 'group1')\n",
    "map_xgb_danger.add_child(g1)\n",
    "\n",
    "g2 = plugins.FeatureGroupSubGroup(fg, 'group2')\n",
    "map_xgb_danger.add_child(g2)\n",
    "\n",
    "danger_xgb_all.apply(lambda row: folium.CircleMarker(location=[row['lat'], row['lon']],\n",
    "                                                radius=2, color='blue').add_to(g1), axis=1)\n",
    "\n",
    "danger_xgb_without.apply(lambda row: folium.CircleMarker(location=[row['lat'], row['lon']],\n",
    "                                               radius=2, color='red').add_to(g2), axis=1)\n",
    "\n",
    "folium.LayerControl(collapsed=False).add_to(map_xgb_danger)\n",
    "map_xgb_danger"
   ]
  },
  {
   "cell_type": "markdown",
   "metadata": {},
   "source": [
    "## 위험구역 from lgb"
   ]
  },
  {
   "cell_type": "code",
   "execution_count": null,
   "metadata": {},
   "outputs": [],
   "source": [
    "lgb_pred_prob = lgb_model.predict_proba(X_test)\n",
    "\n",
    "danger_lgb=pd.DataFrame(lgb_pred_prob)\n",
    "danger_lgb.columns=['No_lgb', 'Yes_lgb']"
   ]
  },
  {
   "cell_type": "code",
   "execution_count": null,
   "metadata": {},
   "outputs": [],
   "source": [
    "danger_lgb=pd.concat([data25, danger_lgb], axis=1)\n",
    "danger_lgb_all=danger_lgb.sort_values(by=['Yes_lgb'], ascending=False)[0:40]"
   ]
  },
  {
   "cell_type": "code",
   "execution_count": null,
   "metadata": {},
   "outputs": [],
   "source": [
    "danger_lgb_without=danger_lgb[danger_lgb['overspeed_cam_count100']==0]\n",
    "danger_lgb_without=danger_lgb_without.sort_values(by=['Yes_lgb'], ascending=False)[0:40]"
   ]
  },
  {
   "cell_type": "code",
   "execution_count": null,
   "metadata": {},
   "outputs": [],
   "source": [
    "import geopandas as gpd\n",
    "import json\n",
    "import folium\n",
    "from folium import plugins"
   ]
  },
  {
   "cell_type": "code",
   "execution_count": null,
   "metadata": {
    "scrolled": false
   },
   "outputs": [],
   "source": [
    "osan=gpd.read_file(\"C:/Users/ishon/OneDrive/바탕 화면/SIG_202005/SIG.shp\")\n",
    "osan=osan[osan[\"SIG_ENG_NM\"]==\"Osan-si\"]\n",
    "center = (37.1623799231016, 127.05436890115905)\n",
    "style5 = {'fillColor': 'skyblue', 'color': 'skyblue'}\n",
    "\n",
    "map_lgb_danger = folium.Map(location=center, zoom_start=12, width=900, height=700, control_scale=True)\n",
    "\n",
    "#osan\n",
    "osan_region = plugins.FeatureGroupSubGroup(map_lgb_danger, 'osan region')\n",
    "map_lgb_danger.add_child(osan_region)\n",
    "folium.GeoJson(osan, style_function=lambda x:style5).add_to(osan_region)\n",
    "\n",
    "fg = folium.FeatureGroup(name='groups')\n",
    "map_lgb_danger.add_child(fg)\n",
    "\n",
    "g1 = plugins.FeatureGroupSubGroup(fg, 'group1')\n",
    "map_lgb_danger.add_child(g1)\n",
    "\n",
    "g2 = plugins.FeatureGroupSubGroup(fg, 'group2')\n",
    "map_lgb_danger.add_child(g2)\n",
    "\n",
    "danger_lgb_all.apply(lambda row: folium.CircleMarker(location=[row['lat'], row['lon']],\n",
    "                                                radius=2, color='blue').add_to(g1), axis=1)\n",
    "\n",
    "danger_lgb_without.apply(lambda row: folium.CircleMarker(location=[row['lat'], row['lon']],\n",
    "                                               radius=2, color='red').add_to(g2), axis=1)\n",
    "\n",
    "folium.LayerControl(collapsed=False).add_to(map_lgb_danger)\n",
    "map_lgb_danger"
   ]
  },
  {
   "cell_type": "code",
   "execution_count": null,
   "metadata": {},
   "outputs": [],
   "source": []
  }
 ],
 "metadata": {
  "kernelspec": {
   "display_name": "Python [conda env:trial2] *",
   "language": "python",
   "name": "conda-env-trial2-py"
  },
  "language_info": {
   "codemirror_mode": {
    "name": "ipython",
    "version": 3
   },
   "file_extension": ".py",
   "mimetype": "text/x-python",
   "name": "python",
   "nbconvert_exporter": "python",
   "pygments_lexer": "ipython3",
   "version": "3.8.5"
  }
 },
 "nbformat": 4,
 "nbformat_minor": 4
}
